{
 "cells": [
  {
   "cell_type": "code",
   "execution_count": 1,
   "metadata": {},
   "outputs": [
    {
     "name": "stdout",
     "output_type": "stream",
     "text": [
      "Checking whether there is an H2O instance running at http://localhost:54321. connected.\n"
     ]
    },
    {
     "data": {
      "text/html": [
       "<div style=\"overflow:auto\"><table style=\"width:50%\"><tr><td>H2O cluster uptime:</td>\n",
       "<td>1 hour 54 mins</td></tr>\n",
       "<tr><td>H2O cluster timezone:</td>\n",
       "<td>Asia/Kolkata</td></tr>\n",
       "<tr><td>H2O data parsing timezone:</td>\n",
       "<td>UTC</td></tr>\n",
       "<tr><td>H2O cluster version:</td>\n",
       "<td>3.18.0.10</td></tr>\n",
       "<tr><td>H2O cluster version age:</td>\n",
       "<td>3 days </td></tr>\n",
       "<tr><td>H2O cluster name:</td>\n",
       "<td>H2O_from_python_rishav_weluzh</td></tr>\n",
       "<tr><td>H2O cluster total nodes:</td>\n",
       "<td>1</td></tr>\n",
       "<tr><td>H2O cluster free memory:</td>\n",
       "<td>1.473 Gb</td></tr>\n",
       "<tr><td>H2O cluster total cores:</td>\n",
       "<td>4</td></tr>\n",
       "<tr><td>H2O cluster allowed cores:</td>\n",
       "<td>4</td></tr>\n",
       "<tr><td>H2O cluster status:</td>\n",
       "<td>locked, healthy</td></tr>\n",
       "<tr><td>H2O connection url:</td>\n",
       "<td>http://localhost:54321</td></tr>\n",
       "<tr><td>H2O connection proxy:</td>\n",
       "<td>None</td></tr>\n",
       "<tr><td>H2O internal security:</td>\n",
       "<td>False</td></tr>\n",
       "<tr><td>H2O API Extensions:</td>\n",
       "<td>XGBoost, Algos, AutoML, Core V3, Core V4</td></tr>\n",
       "<tr><td>Python version:</td>\n",
       "<td>3.6.5 final</td></tr></table></div>"
      ],
      "text/plain": [
       "--------------------------  ----------------------------------------\n",
       "H2O cluster uptime:         1 hour 54 mins\n",
       "H2O cluster timezone:       Asia/Kolkata\n",
       "H2O data parsing timezone:  UTC\n",
       "H2O cluster version:        3.18.0.10\n",
       "H2O cluster version age:    3 days\n",
       "H2O cluster name:           H2O_from_python_rishav_weluzh\n",
       "H2O cluster total nodes:    1\n",
       "H2O cluster free memory:    1.473 Gb\n",
       "H2O cluster total cores:    4\n",
       "H2O cluster allowed cores:  4\n",
       "H2O cluster status:         locked, healthy\n",
       "H2O connection url:         http://localhost:54321\n",
       "H2O connection proxy:\n",
       "H2O internal security:      False\n",
       "H2O API Extensions:         XGBoost, Algos, AutoML, Core V3, Core V4\n",
       "Python version:             3.6.5 final\n",
       "--------------------------  ----------------------------------------"
      ]
     },
     "metadata": {},
     "output_type": "display_data"
    },
    {
     "data": {
      "text/html": [
       "<div style=\"overflow:auto\"><table style=\"width:50%\"><tr><td>H2O cluster uptime:</td>\n",
       "<td>1 hour 54 mins</td></tr>\n",
       "<tr><td>H2O cluster timezone:</td>\n",
       "<td>Asia/Kolkata</td></tr>\n",
       "<tr><td>H2O data parsing timezone:</td>\n",
       "<td>UTC</td></tr>\n",
       "<tr><td>H2O cluster version:</td>\n",
       "<td>3.18.0.10</td></tr>\n",
       "<tr><td>H2O cluster version age:</td>\n",
       "<td>3 days </td></tr>\n",
       "<tr><td>H2O cluster name:</td>\n",
       "<td>H2O_from_python_rishav_weluzh</td></tr>\n",
       "<tr><td>H2O cluster total nodes:</td>\n",
       "<td>1</td></tr>\n",
       "<tr><td>H2O cluster free memory:</td>\n",
       "<td>1.473 Gb</td></tr>\n",
       "<tr><td>H2O cluster total cores:</td>\n",
       "<td>4</td></tr>\n",
       "<tr><td>H2O cluster allowed cores:</td>\n",
       "<td>4</td></tr>\n",
       "<tr><td>H2O cluster status:</td>\n",
       "<td>locked, healthy</td></tr>\n",
       "<tr><td>H2O connection url:</td>\n",
       "<td>http://localhost:54321</td></tr>\n",
       "<tr><td>H2O connection proxy:</td>\n",
       "<td>None</td></tr>\n",
       "<tr><td>H2O internal security:</td>\n",
       "<td>False</td></tr>\n",
       "<tr><td>H2O API Extensions:</td>\n",
       "<td>XGBoost, Algos, AutoML, Core V3, Core V4</td></tr>\n",
       "<tr><td>Python version:</td>\n",
       "<td>3.6.5 final</td></tr></table></div>"
      ],
      "text/plain": [
       "--------------------------  ----------------------------------------\n",
       "H2O cluster uptime:         1 hour 54 mins\n",
       "H2O cluster timezone:       Asia/Kolkata\n",
       "H2O data parsing timezone:  UTC\n",
       "H2O cluster version:        3.18.0.10\n",
       "H2O cluster version age:    3 days\n",
       "H2O cluster name:           H2O_from_python_rishav_weluzh\n",
       "H2O cluster total nodes:    1\n",
       "H2O cluster free memory:    1.473 Gb\n",
       "H2O cluster total cores:    4\n",
       "H2O cluster allowed cores:  4\n",
       "H2O cluster status:         locked, healthy\n",
       "H2O connection url:         http://localhost:54321\n",
       "H2O connection proxy:\n",
       "H2O internal security:      False\n",
       "H2O API Extensions:         XGBoost, Algos, AutoML, Core V3, Core V4\n",
       "Python version:             3.6.5 final\n",
       "--------------------------  ----------------------------------------"
      ]
     },
     "metadata": {},
     "output_type": "display_data"
    }
   ],
   "source": [
    "import h2o\n",
    "from h2o.estimators.random_forest import H2ORandomForestEstimator\n",
    "h2o.init()\n",
    "h2o.cluster().show_status()"
   ]
  },
  {
   "cell_type": "code",
   "execution_count": 2,
   "metadata": {},
   "outputs": [
    {
     "name": "stdout",
     "output_type": "stream",
     "text": [
      "Parse progress: |█████████████████████████████████████████████████████████| 100%\n"
     ]
    }
   ],
   "source": [
    "df = h2o.import_file(\"Claims1.csv\")"
   ]
  },
  {
   "cell_type": "code",
   "execution_count": 3,
   "metadata": {},
   "outputs": [],
   "source": [
    "cols = list(df.columns)\n",
    "cols.pop(cols.index('FraudFound_P'))\n",
    "df = df[cols+['FraudFound_P']]"
   ]
  },
  {
   "cell_type": "code",
   "execution_count": 4,
   "metadata": {},
   "outputs": [],
   "source": [
    "df[32] = df[32].asfactor()\n",
    "predictors = df.columns[0:32]\n",
    "response = 'FraudFound_P'"
   ]
  },
  {
   "cell_type": "code",
   "execution_count": 5,
   "metadata": {},
   "outputs": [
    {
     "data": {
      "text/html": [
       "<table>\n",
       "<thead>\n",
       "<tr><th style=\"text-align: right;\">  WeekOfMonth</th><th style=\"text-align: right;\">  WeekOfMonthClaimed</th><th style=\"text-align: right;\">  Age</th><th style=\"text-align: right;\">  PolicyNumber</th><th style=\"text-align: right;\">  RepNumber</th><th style=\"text-align: right;\">  Deductible</th><th style=\"text-align: right;\">  DriverRating</th><th style=\"text-align: right;\">  Year</th><th style=\"text-align: right;\">  Month</th><th style=\"text-align: right;\">  DayOfWeek</th><th style=\"text-align: right;\">  Make</th><th style=\"text-align: right;\">  AccidentArea</th><th style=\"text-align: right;\">  DayOfWeekClaimed</th><th style=\"text-align: right;\">  MonthClaimed</th><th style=\"text-align: right;\">  Sex</th><th style=\"text-align: right;\">  MaritalStatus</th><th style=\"text-align: right;\">  Fault</th><th style=\"text-align: right;\">  PolicyType</th><th style=\"text-align: right;\">  VehicleCategory</th><th style=\"text-align: right;\">  VehiclePrice</th><th style=\"text-align: right;\">  Days_Policy_Accident</th><th style=\"text-align: right;\">  Days_Policy_Claim</th><th style=\"text-align: right;\">  PastNumberOfClaims</th><th style=\"text-align: right;\">  AgeOfVehicle</th><th style=\"text-align: right;\">  AgeOfPolicyHolder</th><th style=\"text-align: right;\">  PoliceReportFiled</th><th style=\"text-align: right;\">  WitnessPresent</th><th style=\"text-align: right;\">  AgentType</th><th style=\"text-align: right;\">  NumberOfSuppliments</th><th style=\"text-align: right;\">  AddressChange_Claim</th><th style=\"text-align: right;\">  NumberOfCars</th><th style=\"text-align: right;\">  BasePolicy</th><th style=\"text-align: right;\">  FraudFound_P</th></tr>\n",
       "</thead>\n",
       "<tbody>\n",
       "<tr><td style=\"text-align: right;\">            5</td><td style=\"text-align: right;\">                   1</td><td style=\"text-align: right;\">   21</td><td style=\"text-align: right;\">             1</td><td style=\"text-align: right;\">         12</td><td style=\"text-align: right;\">         300</td><td style=\"text-align: right;\">             1</td><td style=\"text-align: right;\">  1994</td><td style=\"text-align: right;\">     11</td><td style=\"text-align: right;\">          2</td><td style=\"text-align: right;\">     6</td><td style=\"text-align: right;\">             1</td><td style=\"text-align: right;\">                 1</td><td style=\"text-align: right;\">             0</td><td style=\"text-align: right;\">    0</td><td style=\"text-align: right;\">              0</td><td style=\"text-align: right;\">      0</td><td style=\"text-align: right;\">           5</td><td style=\"text-align: right;\">                1</td><td style=\"text-align: right;\">             5</td><td style=\"text-align: right;\">                     4</td><td style=\"text-align: right;\">                  3</td><td style=\"text-align: right;\">                   0</td><td style=\"text-align: right;\">             2</td><td style=\"text-align: right;\">                  3</td><td style=\"text-align: right;\">                  1</td><td style=\"text-align: right;\">               0</td><td style=\"text-align: right;\">          1</td><td style=\"text-align: right;\">                    0</td><td style=\"text-align: right;\">                    1</td><td style=\"text-align: right;\">             2</td><td style=\"text-align: right;\">           2</td><td style=\"text-align: right;\">             0</td></tr>\n",
       "<tr><td style=\"text-align: right;\">            3</td><td style=\"text-align: right;\">                   4</td><td style=\"text-align: right;\">   34</td><td style=\"text-align: right;\">             2</td><td style=\"text-align: right;\">         15</td><td style=\"text-align: right;\">         400</td><td style=\"text-align: right;\">             4</td><td style=\"text-align: right;\">  1994</td><td style=\"text-align: right;\">      0</td><td style=\"text-align: right;\">          2</td><td style=\"text-align: right;\">     6</td><td style=\"text-align: right;\">             1</td><td style=\"text-align: right;\">                 0</td><td style=\"text-align: right;\">             0</td><td style=\"text-align: right;\">    1</td><td style=\"text-align: right;\">              0</td><td style=\"text-align: right;\">      0</td><td style=\"text-align: right;\">           4</td><td style=\"text-align: right;\">                1</td><td style=\"text-align: right;\">             5</td><td style=\"text-align: right;\">                     4</td><td style=\"text-align: right;\">                  3</td><td style=\"text-align: right;\">                   0</td><td style=\"text-align: right;\">             5</td><td style=\"text-align: right;\">                  4</td><td style=\"text-align: right;\">                  0</td><td style=\"text-align: right;\">               0</td><td style=\"text-align: right;\">          1</td><td style=\"text-align: right;\">                    0</td><td style=\"text-align: right;\">                    0</td><td style=\"text-align: right;\">             0</td><td style=\"text-align: right;\">           1</td><td style=\"text-align: right;\">             0</td></tr>\n",
       "<tr><td style=\"text-align: right;\">            5</td><td style=\"text-align: right;\">                   2</td><td style=\"text-align: right;\">   47</td><td style=\"text-align: right;\">             3</td><td style=\"text-align: right;\">          7</td><td style=\"text-align: right;\">         400</td><td style=\"text-align: right;\">             3</td><td style=\"text-align: right;\">  1994</td><td style=\"text-align: right;\">      9</td><td style=\"text-align: right;\">          4</td><td style=\"text-align: right;\">     6</td><td style=\"text-align: right;\">             1</td><td style=\"text-align: right;\">                 3</td><td style=\"text-align: right;\">            10</td><td style=\"text-align: right;\">    1</td><td style=\"text-align: right;\">              1</td><td style=\"text-align: right;\">      0</td><td style=\"text-align: right;\">           4</td><td style=\"text-align: right;\">                1</td><td style=\"text-align: right;\">             5</td><td style=\"text-align: right;\">                     4</td><td style=\"text-align: right;\">                  3</td><td style=\"text-align: right;\">                   1</td><td style=\"text-align: right;\">             6</td><td style=\"text-align: right;\">                  6</td><td style=\"text-align: right;\">                  1</td><td style=\"text-align: right;\">               0</td><td style=\"text-align: right;\">          1</td><td style=\"text-align: right;\">                    0</td><td style=\"text-align: right;\">                    0</td><td style=\"text-align: right;\">             0</td><td style=\"text-align: right;\">           1</td><td style=\"text-align: right;\">             0</td></tr>\n",
       "<tr><td style=\"text-align: right;\">            2</td><td style=\"text-align: right;\">                   1</td><td style=\"text-align: right;\">   65</td><td style=\"text-align: right;\">             4</td><td style=\"text-align: right;\">          4</td><td style=\"text-align: right;\">         400</td><td style=\"text-align: right;\">             2</td><td style=\"text-align: right;\">  1994</td><td style=\"text-align: right;\">      6</td><td style=\"text-align: right;\">          5</td><td style=\"text-align: right;\">    17</td><td style=\"text-align: right;\">             0</td><td style=\"text-align: right;\">                 4</td><td style=\"text-align: right;\">             6</td><td style=\"text-align: right;\">    1</td><td style=\"text-align: right;\">              1</td><td style=\"text-align: right;\">      1</td><td style=\"text-align: right;\">           2</td><td style=\"text-align: right;\">                1</td><td style=\"text-align: right;\">             1</td><td style=\"text-align: right;\">                     4</td><td style=\"text-align: right;\">                  3</td><td style=\"text-align: right;\">                   1</td><td style=\"text-align: right;\">             7</td><td style=\"text-align: right;\">                  7</td><td style=\"text-align: right;\">                  0</td><td style=\"text-align: right;\">               0</td><td style=\"text-align: right;\">          1</td><td style=\"text-align: right;\">                    3</td><td style=\"text-align: right;\">                    0</td><td style=\"text-align: right;\">             0</td><td style=\"text-align: right;\">           2</td><td style=\"text-align: right;\">             0</td></tr>\n",
       "<tr><td style=\"text-align: right;\">            5</td><td style=\"text-align: right;\">                   2</td><td style=\"text-align: right;\">   27</td><td style=\"text-align: right;\">             5</td><td style=\"text-align: right;\">          3</td><td style=\"text-align: right;\">         400</td><td style=\"text-align: right;\">             1</td><td style=\"text-align: right;\">  1994</td><td style=\"text-align: right;\">      0</td><td style=\"text-align: right;\">          0</td><td style=\"text-align: right;\">     6</td><td style=\"text-align: right;\">             1</td><td style=\"text-align: right;\">                 1</td><td style=\"text-align: right;\">             1</td><td style=\"text-align: right;\">    0</td><td style=\"text-align: right;\">              0</td><td style=\"text-align: right;\">      1</td><td style=\"text-align: right;\">           4</td><td style=\"text-align: right;\">                1</td><td style=\"text-align: right;\">             5</td><td style=\"text-align: right;\">                     4</td><td style=\"text-align: right;\">                  3</td><td style=\"text-align: right;\">                   0</td><td style=\"text-align: right;\">             4</td><td style=\"text-align: right;\">                  4</td><td style=\"text-align: right;\">                  1</td><td style=\"text-align: right;\">               0</td><td style=\"text-align: right;\">          1</td><td style=\"text-align: right;\">                    0</td><td style=\"text-align: right;\">                    0</td><td style=\"text-align: right;\">             0</td><td style=\"text-align: right;\">           1</td><td style=\"text-align: right;\">             0</td></tr>\n",
       "<tr><td style=\"text-align: right;\">            4</td><td style=\"text-align: right;\">                   1</td><td style=\"text-align: right;\">   20</td><td style=\"text-align: right;\">             6</td><td style=\"text-align: right;\">         12</td><td style=\"text-align: right;\">         400</td><td style=\"text-align: right;\">             3</td><td style=\"text-align: right;\">  1994</td><td style=\"text-align: right;\">      9</td><td style=\"text-align: right;\">          4</td><td style=\"text-align: right;\">     6</td><td style=\"text-align: right;\">             1</td><td style=\"text-align: right;\">                 2</td><td style=\"text-align: right;\">            10</td><td style=\"text-align: right;\">    1</td><td style=\"text-align: right;\">              0</td><td style=\"text-align: right;\">      1</td><td style=\"text-align: right;\">           4</td><td style=\"text-align: right;\">                1</td><td style=\"text-align: right;\">             5</td><td style=\"text-align: right;\">                     4</td><td style=\"text-align: right;\">                  3</td><td style=\"text-align: right;\">                   0</td><td style=\"text-align: right;\">             4</td><td style=\"text-align: right;\">                  2</td><td style=\"text-align: right;\">                  1</td><td style=\"text-align: right;\">               0</td><td style=\"text-align: right;\">          1</td><td style=\"text-align: right;\">                    2</td><td style=\"text-align: right;\">                    0</td><td style=\"text-align: right;\">             0</td><td style=\"text-align: right;\">           1</td><td style=\"text-align: right;\">             0</td></tr>\n",
       "<tr><td style=\"text-align: right;\">            1</td><td style=\"text-align: right;\">                   3</td><td style=\"text-align: right;\">   36</td><td style=\"text-align: right;\">             7</td><td style=\"text-align: right;\">         14</td><td style=\"text-align: right;\">         400</td><td style=\"text-align: right;\">             1</td><td style=\"text-align: right;\">  1994</td><td style=\"text-align: right;\">      1</td><td style=\"text-align: right;\">          5</td><td style=\"text-align: right;\">     6</td><td style=\"text-align: right;\">             1</td><td style=\"text-align: right;\">                 0</td><td style=\"text-align: right;\">             1</td><td style=\"text-align: right;\">    1</td><td style=\"text-align: right;\">              1</td><td style=\"text-align: right;\">      1</td><td style=\"text-align: right;\">           4</td><td style=\"text-align: right;\">                1</td><td style=\"text-align: right;\">             5</td><td style=\"text-align: right;\">                     4</td><td style=\"text-align: right;\">                  3</td><td style=\"text-align: right;\">                   1</td><td style=\"text-align: right;\">             6</td><td style=\"text-align: right;\">                  5</td><td style=\"text-align: right;\">                  1</td><td style=\"text-align: right;\">               0</td><td style=\"text-align: right;\">          1</td><td style=\"text-align: right;\">                    1</td><td style=\"text-align: right;\">                    0</td><td style=\"text-align: right;\">             0</td><td style=\"text-align: right;\">           1</td><td style=\"text-align: right;\">             0</td></tr>\n",
       "<tr><td style=\"text-align: right;\">            1</td><td style=\"text-align: right;\">                   4</td><td style=\"text-align: right;\">    0</td><td style=\"text-align: right;\">             8</td><td style=\"text-align: right;\">          1</td><td style=\"text-align: right;\">         400</td><td style=\"text-align: right;\">             4</td><td style=\"text-align: right;\">  1994</td><td style=\"text-align: right;\">     10</td><td style=\"text-align: right;\">          4</td><td style=\"text-align: right;\">     6</td><td style=\"text-align: right;\">             1</td><td style=\"text-align: right;\">                 1</td><td style=\"text-align: right;\">             2</td><td style=\"text-align: right;\">    1</td><td style=\"text-align: right;\">              0</td><td style=\"text-align: right;\">      0</td><td style=\"text-align: right;\">           4</td><td style=\"text-align: right;\">                1</td><td style=\"text-align: right;\">             5</td><td style=\"text-align: right;\">                     4</td><td style=\"text-align: right;\">                  3</td><td style=\"text-align: right;\">                   1</td><td style=\"text-align: right;\">             0</td><td style=\"text-align: right;\">                  0</td><td style=\"text-align: right;\">                  1</td><td style=\"text-align: right;\">               0</td><td style=\"text-align: right;\">          1</td><td style=\"text-align: right;\">                    0</td><td style=\"text-align: right;\">                    0</td><td style=\"text-align: right;\">             0</td><td style=\"text-align: right;\">           1</td><td style=\"text-align: right;\">             0</td></tr>\n",
       "<tr><td style=\"text-align: right;\">            4</td><td style=\"text-align: right;\">                   5</td><td style=\"text-align: right;\">   30</td><td style=\"text-align: right;\">             9</td><td style=\"text-align: right;\">          7</td><td style=\"text-align: right;\">         400</td><td style=\"text-align: right;\">             4</td><td style=\"text-align: right;\">  1994</td><td style=\"text-align: right;\">     11</td><td style=\"text-align: right;\">          5</td><td style=\"text-align: right;\">     6</td><td style=\"text-align: right;\">             1</td><td style=\"text-align: right;\">                 2</td><td style=\"text-align: right;\">            11</td><td style=\"text-align: right;\">    1</td><td style=\"text-align: right;\">              0</td><td style=\"text-align: right;\">      0</td><td style=\"text-align: right;\">           4</td><td style=\"text-align: right;\">                1</td><td style=\"text-align: right;\">             5</td><td style=\"text-align: right;\">                     4</td><td style=\"text-align: right;\">                  3</td><td style=\"text-align: right;\">                   0</td><td style=\"text-align: right;\">             5</td><td style=\"text-align: right;\">                  4</td><td style=\"text-align: right;\">                  1</td><td style=\"text-align: right;\">               1</td><td style=\"text-align: right;\">          1</td><td style=\"text-align: right;\">                    2</td><td style=\"text-align: right;\">                    0</td><td style=\"text-align: right;\">             0</td><td style=\"text-align: right;\">           1</td><td style=\"text-align: right;\">             0</td></tr>\n",
       "<tr><td style=\"text-align: right;\">            3</td><td style=\"text-align: right;\">                   3</td><td style=\"text-align: right;\">   42</td><td style=\"text-align: right;\">            10</td><td style=\"text-align: right;\">          7</td><td style=\"text-align: right;\">         400</td><td style=\"text-align: right;\">             1</td><td style=\"text-align: right;\">  1994</td><td style=\"text-align: right;\">      3</td><td style=\"text-align: right;\">          1</td><td style=\"text-align: right;\">     5</td><td style=\"text-align: right;\">             1</td><td style=\"text-align: right;\">                 2</td><td style=\"text-align: right;\">             3</td><td style=\"text-align: right;\">    1</td><td style=\"text-align: right;\">              1</td><td style=\"text-align: right;\">      0</td><td style=\"text-align: right;\">           6</td><td style=\"text-align: right;\">                2</td><td style=\"text-align: right;\">             5</td><td style=\"text-align: right;\">                     4</td><td style=\"text-align: right;\">                  3</td><td style=\"text-align: right;\">                   2</td><td style=\"text-align: right;\">             7</td><td style=\"text-align: right;\">                  5</td><td style=\"text-align: right;\">                  1</td><td style=\"text-align: right;\">               0</td><td style=\"text-align: right;\">          1</td><td style=\"text-align: right;\">                    2</td><td style=\"text-align: right;\">                    0</td><td style=\"text-align: right;\">             0</td><td style=\"text-align: right;\">           0</td><td style=\"text-align: right;\">             0</td></tr>\n",
       "</tbody>\n",
       "</table>"
      ]
     },
     "metadata": {},
     "output_type": "display_data"
    },
    {
     "data": {
      "text/plain": []
     },
     "execution_count": 5,
     "metadata": {},
     "output_type": "execute_result"
    }
   ],
   "source": [
    "df.head()"
   ]
  },
  {
   "cell_type": "code",
   "execution_count": 6,
   "metadata": {},
   "outputs": [],
   "source": [
    "train, test, valid = df.split_frame(ratios=[.9, .09], seed = 1234)"
   ]
  },
  {
   "cell_type": "code",
   "execution_count": 7,
   "metadata": {},
   "outputs": [
    {
     "name": "stdout",
     "output_type": "stream",
     "text": [
      "drf Model Build progress: |███████████████████████████████████████████████| 100%\n"
     ]
    }
   ],
   "source": [
    "rf = H2ORandomForestEstimator(balance_classes = True, seed = 1234)\n",
    "rf.train(x = predictors, y = response, training_frame = train, validation_frame = valid)"
   ]
  },
  {
   "cell_type": "code",
   "execution_count": 8,
   "metadata": {},
   "outputs": [
    {
     "name": "stdout",
     "output_type": "stream",
     "text": [
      "Confusion Matrix (Act/Pred) for max f1 @ threshold = 0.19937920848722196: \n"
     ]
    },
    {
     "data": {
      "text/html": [
       "<div style=\"overflow:auto\"><table style=\"width:50%\"><tr><td><b></b></td>\n",
       "<td><b>0</b></td>\n",
       "<td><b>1</b></td>\n",
       "<td><b>Error</b></td>\n",
       "<td><b>Rate</b></td></tr>\n",
       "<tr><td>0</td>\n",
       "<td>13036.0</td>\n",
       "<td>6.0</td>\n",
       "<td>0.0005</td>\n",
       "<td> (6.0/13042.0)</td></tr>\n",
       "<tr><td>1</td>\n",
       "<td>2.0</td>\n",
       "<td>13054.0</td>\n",
       "<td>0.0002</td>\n",
       "<td> (2.0/13056.0)</td></tr>\n",
       "<tr><td>Total</td>\n",
       "<td>13038.0</td>\n",
       "<td>13060.0</td>\n",
       "<td>0.0003</td>\n",
       "<td> (8.0/26098.0)</td></tr></table></div>"
      ],
      "text/plain": [
       "       0      1      Error    Rate\n",
       "-----  -----  -----  -------  -------------\n",
       "0      13036  6      0.0005   (6.0/13042.0)\n",
       "1      2      13054  0.0002   (2.0/13056.0)\n",
       "Total  13038  13060  0.0003   (8.0/26098.0)"
      ]
     },
     "metadata": {},
     "output_type": "display_data"
    },
    {
     "data": {
      "text/plain": []
     },
     "execution_count": 8,
     "metadata": {},
     "output_type": "execute_result"
    }
   ],
   "source": [
    "rf.confusion_matrix()"
   ]
  },
  {
   "cell_type": "code",
   "execution_count": 9,
   "metadata": {},
   "outputs": [
    {
     "name": "stdout",
     "output_type": "stream",
     "text": [
      "\n",
      "ModelMetricsBinomial: drf\n",
      "** Reported on test data. **\n",
      "\n",
      "MSE: 0.0508821652121906\n",
      "RMSE: 0.22557075433706072\n",
      "LogLoss: 0.2474722505812874\n",
      "Mean Per-Class Error: 0.19373676217879554\n",
      "AUC: 0.8658783918794709\n",
      "Gini: 0.7317567837589418\n",
      "Confusion Matrix (Act/Pred) for max f1 @ threshold = 0.03164475931368697: \n"
     ]
    },
    {
     "data": {
      "text/html": [
       "<div style=\"overflow:auto\"><table style=\"width:50%\"><tr><td><b></b></td>\n",
       "<td><b>0</b></td>\n",
       "<td><b>1</b></td>\n",
       "<td><b>Error</b></td>\n",
       "<td><b>Rate</b></td></tr>\n",
       "<tr><td>0</td>\n",
       "<td>1235.0</td>\n",
       "<td>82.0</td>\n",
       "<td>0.0623</td>\n",
       "<td> (82.0/1317.0)</td></tr>\n",
       "<tr><td>1</td>\n",
       "<td>39.0</td>\n",
       "<td>37.0</td>\n",
       "<td>0.5132</td>\n",
       "<td> (39.0/76.0)</td></tr>\n",
       "<tr><td>Total</td>\n",
       "<td>1274.0</td>\n",
       "<td>119.0</td>\n",
       "<td>0.0869</td>\n",
       "<td> (121.0/1393.0)</td></tr></table></div>"
      ],
      "text/plain": [
       "       0     1    Error    Rate\n",
       "-----  ----  ---  -------  --------------\n",
       "0      1235  82   0.0623   (82.0/1317.0)\n",
       "1      39    37   0.5132   (39.0/76.0)\n",
       "Total  1274  119  0.0869   (121.0/1393.0)"
      ]
     },
     "metadata": {},
     "output_type": "display_data"
    },
    {
     "name": "stdout",
     "output_type": "stream",
     "text": [
      "Maximum Metrics: Maximum metrics at their respective thresholds\n",
      "\n"
     ]
    },
    {
     "data": {
      "text/html": [
       "<div style=\"overflow:auto\"><table style=\"width:50%\"><tr><td><b>metric</b></td>\n",
       "<td><b>threshold</b></td>\n",
       "<td><b>value</b></td>\n",
       "<td><b>idx</b></td></tr>\n",
       "<tr><td>max f1</td>\n",
       "<td>0.0316448</td>\n",
       "<td>0.3794872</td>\n",
       "<td>100.0</td></tr>\n",
       "<tr><td>max f2</td>\n",
       "<td>0.0214883</td>\n",
       "<td>0.5057252</td>\n",
       "<td>170.0</td></tr>\n",
       "<tr><td>max f0point5</td>\n",
       "<td>0.0468541</td>\n",
       "<td>0.3993056</td>\n",
       "<td>48.0</td></tr>\n",
       "<tr><td>max accuracy</td>\n",
       "<td>0.1739915</td>\n",
       "<td>0.9454415</td>\n",
       "<td>1.0</td></tr>\n",
       "<tr><td>max precision</td>\n",
       "<td>0.1739915</td>\n",
       "<td>0.5</td>\n",
       "<td>1.0</td></tr>\n",
       "<tr><td>max recall</td>\n",
       "<td>0.0</td>\n",
       "<td>1.0</td>\n",
       "<td>399.0</td></tr>\n",
       "<tr><td>max specificity</td>\n",
       "<td>0.1862247</td>\n",
       "<td>0.9992407</td>\n",
       "<td>0.0</td></tr>\n",
       "<tr><td>max absolute_mcc</td>\n",
       "<td>0.0214883</td>\n",
       "<td>0.3553403</td>\n",
       "<td>170.0</td></tr>\n",
       "<tr><td>max min_per_class_accuracy</td>\n",
       "<td>0.0140007</td>\n",
       "<td>0.7760061</td>\n",
       "<td>246.0</td></tr>\n",
       "<tr><td>max mean_per_class_accuracy</td>\n",
       "<td>0.0096908</td>\n",
       "<td>0.8062632</td>\n",
       "<td>298.0</td></tr></table></div>"
      ],
      "text/plain": [
       "metric                       threshold    value     idx\n",
       "---------------------------  -----------  --------  -----\n",
       "max f1                       0.0316448    0.379487  100\n",
       "max f2                       0.0214883    0.505725  170\n",
       "max f0point5                 0.0468541    0.399306  48\n",
       "max accuracy                 0.173991     0.945441  1\n",
       "max precision                0.173991     0.5       1\n",
       "max recall                   0            1         399\n",
       "max specificity              0.186225     0.999241  0\n",
       "max absolute_mcc             0.0214883    0.35534   170\n",
       "max min_per_class_accuracy   0.0140007    0.776006  246\n",
       "max mean_per_class_accuracy  0.00969082   0.806263  298"
      ]
     },
     "metadata": {},
     "output_type": "display_data"
    },
    {
     "name": "stdout",
     "output_type": "stream",
     "text": [
      "Gains/Lift Table: Avg response rate:  5.46 %\n",
      "\n"
     ]
    },
    {
     "data": {
      "text/html": [
       "<div style=\"overflow:auto\"><table style=\"width:50%\"><tr><td><b></b></td>\n",
       "<td><b>group</b></td>\n",
       "<td><b>cumulative_data_fraction</b></td>\n",
       "<td><b>lower_threshold</b></td>\n",
       "<td><b>lift</b></td>\n",
       "<td><b>cumulative_lift</b></td>\n",
       "<td><b>response_rate</b></td>\n",
       "<td><b>cumulative_response_rate</b></td>\n",
       "<td><b>capture_rate</b></td>\n",
       "<td><b>cumulative_capture_rate</b></td>\n",
       "<td><b>gain</b></td>\n",
       "<td><b>cumulative_gain</b></td></tr>\n",
       "<tr><td></td>\n",
       "<td>1</td>\n",
       "<td>0.0100503</td>\n",
       "<td>0.0772148</td>\n",
       "<td>7.8552632</td>\n",
       "<td>7.8552632</td>\n",
       "<td>0.4285714</td>\n",
       "<td>0.4285714</td>\n",
       "<td>0.0789474</td>\n",
       "<td>0.0789474</td>\n",
       "<td>685.5263158</td>\n",
       "<td>685.5263158</td></tr>\n",
       "<tr><td></td>\n",
       "<td>2</td>\n",
       "<td>0.0201005</td>\n",
       "<td>0.0618278</td>\n",
       "<td>9.1644737</td>\n",
       "<td>8.5098684</td>\n",
       "<td>0.5</td>\n",
       "<td>0.4642857</td>\n",
       "<td>0.0921053</td>\n",
       "<td>0.1710526</td>\n",
       "<td>816.4473684</td>\n",
       "<td>750.9868421</td></tr>\n",
       "<tr><td></td>\n",
       "<td>3</td>\n",
       "<td>0.0301508</td>\n",
       "<td>0.0520119</td>\n",
       "<td>7.8552632</td>\n",
       "<td>8.2916667</td>\n",
       "<td>0.4285714</td>\n",
       "<td>0.4523810</td>\n",
       "<td>0.0789474</td>\n",
       "<td>0.25</td>\n",
       "<td>685.5263158</td>\n",
       "<td>729.1666667</td></tr>\n",
       "<tr><td></td>\n",
       "<td>4</td>\n",
       "<td>0.0402010</td>\n",
       "<td>0.0450110</td>\n",
       "<td>5.2368421</td>\n",
       "<td>7.5279605</td>\n",
       "<td>0.2857143</td>\n",
       "<td>0.4107143</td>\n",
       "<td>0.0526316</td>\n",
       "<td>0.3026316</td>\n",
       "<td>423.6842105</td>\n",
       "<td>652.7960526</td></tr>\n",
       "<tr><td></td>\n",
       "<td>5</td>\n",
       "<td>0.0502513</td>\n",
       "<td>0.0430932</td>\n",
       "<td>5.2368421</td>\n",
       "<td>7.0697368</td>\n",
       "<td>0.2857143</td>\n",
       "<td>0.3857143</td>\n",
       "<td>0.0526316</td>\n",
       "<td>0.3552632</td>\n",
       "<td>423.6842105</td>\n",
       "<td>606.9736842</td></tr>\n",
       "<tr><td></td>\n",
       "<td>6</td>\n",
       "<td>0.1005025</td>\n",
       "<td>0.0294273</td>\n",
       "<td>3.1421053</td>\n",
       "<td>5.1059211</td>\n",
       "<td>0.1714286</td>\n",
       "<td>0.2785714</td>\n",
       "<td>0.1578947</td>\n",
       "<td>0.5131579</td>\n",
       "<td>214.2105263</td>\n",
       "<td>410.5921053</td></tr>\n",
       "<tr><td></td>\n",
       "<td>7</td>\n",
       "<td>0.1500359</td>\n",
       "<td>0.0224464</td>\n",
       "<td>2.9220061</td>\n",
       "<td>4.3849156</td>\n",
       "<td>0.1594203</td>\n",
       "<td>0.2392344</td>\n",
       "<td>0.1447368</td>\n",
       "<td>0.6578947</td>\n",
       "<td>192.2006102</td>\n",
       "<td>338.4915638</td></tr>\n",
       "<tr><td></td>\n",
       "<td>8</td>\n",
       "<td>0.2002872</td>\n",
       "<td>0.0177140</td>\n",
       "<td>1.3092105</td>\n",
       "<td>3.6132334</td>\n",
       "<td>0.0714286</td>\n",
       "<td>0.1971326</td>\n",
       "<td>0.0657895</td>\n",
       "<td>0.7236842</td>\n",
       "<td>30.9210526</td>\n",
       "<td>261.3233352</td></tr>\n",
       "<tr><td></td>\n",
       "<td>9</td>\n",
       "<td>0.3000718</td>\n",
       "<td>0.0115361</td>\n",
       "<td>1.4504922</td>\n",
       "<td>2.8940443</td>\n",
       "<td>0.0791367</td>\n",
       "<td>0.1578947</td>\n",
       "<td>0.1447368</td>\n",
       "<td>0.8684211</td>\n",
       "<td>45.0492238</td>\n",
       "<td>189.4044321</td></tr>\n",
       "<tr><td></td>\n",
       "<td>10</td>\n",
       "<td>0.3998564</td>\n",
       "<td>0.0054375</td>\n",
       "<td>0.6593147</td>\n",
       "<td>2.3363649</td>\n",
       "<td>0.0359712</td>\n",
       "<td>0.1274686</td>\n",
       "<td>0.0657895</td>\n",
       "<td>0.9342105</td>\n",
       "<td>-34.0685346</td>\n",
       "<td>133.6364925</td></tr>\n",
       "<tr><td></td>\n",
       "<td>11</td>\n",
       "<td>0.5190237</td>\n",
       "<td>0.0026641</td>\n",
       "<td>0.1104153</td>\n",
       "<td>1.8252894</td>\n",
       "<td>0.0060241</td>\n",
       "<td>0.0995851</td>\n",
       "<td>0.0131579</td>\n",
       "<td>0.9473684</td>\n",
       "<td>-88.9584654</td>\n",
       "<td>82.5289364</td></tr>\n",
       "<tr><td></td>\n",
       "<td>12</td>\n",
       "<td>0.6525485</td>\n",
       "<td>0.0013066</td>\n",
       "<td>0.1970855</td>\n",
       "<td>1.4921255</td>\n",
       "<td>0.0107527</td>\n",
       "<td>0.0814081</td>\n",
       "<td>0.0263158</td>\n",
       "<td>0.9736842</td>\n",
       "<td>-80.2914544</td>\n",
       "<td>49.2125528</td></tr>\n",
       "<tr><td></td>\n",
       "<td>13</td>\n",
       "<td>1.0</td>\n",
       "<td>0.0</td>\n",
       "<td>0.0757395</td>\n",
       "<td>1.0</td>\n",
       "<td>0.0041322</td>\n",
       "<td>0.0545585</td>\n",
       "<td>0.0263158</td>\n",
       "<td>1.0</td>\n",
       "<td>-92.4260548</td>\n",
       "<td>0.0</td></tr></table></div>"
      ],
      "text/plain": [
       "    group    cumulative_data_fraction    lower_threshold    lift       cumulative_lift    response_rate    cumulative_response_rate    capture_rate    cumulative_capture_rate    gain      cumulative_gain\n",
       "--  -------  --------------------------  -----------------  ---------  -----------------  ---------------  --------------------------  --------------  -------------------------  --------  -----------------\n",
       "    1        0.0100503                   0.0772148          7.85526    7.85526            0.428571         0.428571                    0.0789474       0.0789474                  685.526   685.526\n",
       "    2        0.0201005                   0.0618278          9.16447    8.50987            0.5              0.464286                    0.0921053       0.171053                   816.447   750.987\n",
       "    3        0.0301508                   0.0520119          7.85526    8.29167            0.428571         0.452381                    0.0789474       0.25                       685.526   729.167\n",
       "    4        0.040201                    0.045011           5.23684    7.52796            0.285714         0.410714                    0.0526316       0.302632                   423.684   652.796\n",
       "    5        0.0502513                   0.0430932          5.23684    7.06974            0.285714         0.385714                    0.0526316       0.355263                   423.684   606.974\n",
       "    6        0.100503                    0.0294273          3.14211    5.10592            0.171429         0.278571                    0.157895        0.513158                   214.211   410.592\n",
       "    7        0.150036                    0.0224464          2.92201    4.38492            0.15942          0.239234                    0.144737        0.657895                   192.201   338.492\n",
       "    8        0.200287                    0.017714           1.30921    3.61323            0.0714286        0.197133                    0.0657895       0.723684                   30.9211   261.323\n",
       "    9        0.300072                    0.0115361          1.45049    2.89404            0.0791367        0.157895                    0.144737        0.868421                   45.0492   189.404\n",
       "    10       0.399856                    0.00543748         0.659315   2.33636            0.0359712        0.127469                    0.0657895       0.934211                   -34.0685  133.636\n",
       "    11       0.519024                    0.00266407         0.110415   1.82529            0.0060241        0.0995851                   0.0131579       0.947368                   -88.9585  82.5289\n",
       "    12       0.652548                    0.00130663         0.197085   1.49213            0.0107527        0.0814081                   0.0263158       0.973684                   -80.2915  49.2126\n",
       "    13       1                           0                  0.0757395  1                  0.00413223       0.0545585                   0.0263158       1                          -92.4261  0"
      ]
     },
     "metadata": {},
     "output_type": "display_data"
    },
    {
     "name": "stdout",
     "output_type": "stream",
     "text": [
      "\n"
     ]
    },
    {
     "data": {
      "text/plain": []
     },
     "execution_count": 9,
     "metadata": {},
     "output_type": "execute_result"
    }
   ],
   "source": [
    "rf.model_performance(test_data = test)"
   ]
  },
  {
   "cell_type": "code",
   "execution_count": 10,
   "metadata": {},
   "outputs": [],
   "source": [
    "rf_v2 = H2ORandomForestEstimator(\n",
    "    model_id=\"rf_covType_v2\",\n",
    "    ntrees=200,\n",
    "    max_depth=30,\n",
    "    stopping_rounds=2,\n",
    "    stopping_tolerance=0.01,\n",
    "    score_each_iteration=True,\n",
    "    seed=3000000)"
   ]
  },
  {
   "cell_type": "code",
   "execution_count": 11,
   "metadata": {},
   "outputs": [
    {
     "name": "stdout",
     "output_type": "stream",
     "text": [
      "drf Model Build progress: |███████████████████████████████████████████████| 100%\n"
     ]
    }
   ],
   "source": [
    "rf_v2.train(x = predictors, y = response, training_frame = train, validation_frame = valid)"
   ]
  },
  {
   "cell_type": "code",
   "execution_count": 12,
   "metadata": {},
   "outputs": [
    {
     "name": "stdout",
     "output_type": "stream",
     "text": [
      "drf prediction progress: |████████████████████████████████████████████████| 100%\n"
     ]
    }
   ],
   "source": [
    "final_rf_predictions = rf_v2.predict(test)"
   ]
  },
  {
   "cell_type": "code",
   "execution_count": 13,
   "metadata": {},
   "outputs": [
    {
     "data": {
      "text/html": [
       "<table>\n",
       "<thead>\n",
       "<tr><th style=\"text-align: right;\">  predict</th><th style=\"text-align: right;\">      p0</th><th style=\"text-align: right;\">       p1</th></tr>\n",
       "</thead>\n",
       "<tbody>\n",
       "<tr><td style=\"text-align: right;\">        0</td><td style=\"text-align: right;\">0.941176</td><td style=\"text-align: right;\">0.0588235</td></tr>\n",
       "<tr><td style=\"text-align: right;\">        0</td><td style=\"text-align: right;\">1       </td><td style=\"text-align: right;\">0        </td></tr>\n",
       "<tr><td style=\"text-align: right;\">        0</td><td style=\"text-align: right;\">1       </td><td style=\"text-align: right;\">0        </td></tr>\n",
       "<tr><td style=\"text-align: right;\">        0</td><td style=\"text-align: right;\">1       </td><td style=\"text-align: right;\">0        </td></tr>\n",
       "<tr><td style=\"text-align: right;\">        0</td><td style=\"text-align: right;\">0.882353</td><td style=\"text-align: right;\">0.117647 </td></tr>\n",
       "<tr><td style=\"text-align: right;\">        0</td><td style=\"text-align: right;\">0.941176</td><td style=\"text-align: right;\">0.0588235</td></tr>\n",
       "<tr><td style=\"text-align: right;\">        0</td><td style=\"text-align: right;\">1       </td><td style=\"text-align: right;\">0        </td></tr>\n",
       "<tr><td style=\"text-align: right;\">        0</td><td style=\"text-align: right;\">1       </td><td style=\"text-align: right;\">0        </td></tr>\n",
       "<tr><td style=\"text-align: right;\">        0</td><td style=\"text-align: right;\">0.941176</td><td style=\"text-align: right;\">0.0588235</td></tr>\n",
       "<tr><td style=\"text-align: right;\">        0</td><td style=\"text-align: right;\">1       </td><td style=\"text-align: right;\">0        </td></tr>\n",
       "</tbody>\n",
       "</table>"
      ]
     },
     "metadata": {},
     "output_type": "display_data"
    },
    {
     "data": {
      "text/plain": []
     },
     "execution_count": 13,
     "metadata": {},
     "output_type": "execute_result"
    }
   ],
   "source": [
    "final_rf_predictions"
   ]
  },
  {
   "cell_type": "code",
   "execution_count": 14,
   "metadata": {},
   "outputs": [
    {
     "data": {
      "text/plain": [
       "predict    0.921752\n",
       "dtype: float64"
      ]
     },
     "execution_count": 14,
     "metadata": {},
     "output_type": "execute_result"
    }
   ],
   "source": [
    "(final_rf_predictions['predict']==test['FraudFound_P']).as_data_frame(use_pandas=True).mean()"
   ]
  },
  {
   "cell_type": "code",
   "execution_count": 15,
   "metadata": {},
   "outputs": [
    {
     "name": "stdout",
     "output_type": "stream",
     "text": [
      "Confusion Matrix (Act/Pred) for max f1 @ threshold = 0.2857142857142857: \n"
     ]
    },
    {
     "data": {
      "text/html": [
       "<div style=\"overflow:auto\"><table style=\"width:50%\"><tr><td><b></b></td>\n",
       "<td><b>0</b></td>\n",
       "<td><b>1</b></td>\n",
       "<td><b>Error</b></td>\n",
       "<td><b>Rate</b></td></tr>\n",
       "<tr><td>0</td>\n",
       "<td>12187.0</td>\n",
       "<td>853.0</td>\n",
       "<td>0.0654</td>\n",
       "<td> (853.0/13040.0)</td></tr>\n",
       "<tr><td>1</td>\n",
       "<td>552.0</td>\n",
       "<td>285.0</td>\n",
       "<td>0.6595</td>\n",
       "<td> (552.0/837.0)</td></tr>\n",
       "<tr><td>Total</td>\n",
       "<td>12739.0</td>\n",
       "<td>1138.0</td>\n",
       "<td>0.1012</td>\n",
       "<td> (1405.0/13877.0)</td></tr></table></div>"
      ],
      "text/plain": [
       "       0      1     Error    Rate\n",
       "-----  -----  ----  -------  ----------------\n",
       "0      12187  853   0.0654   (853.0/13040.0)\n",
       "1      552    285   0.6595   (552.0/837.0)\n",
       "Total  12739  1138  0.1012   (1405.0/13877.0)"
      ]
     },
     "metadata": {},
     "output_type": "display_data"
    },
    {
     "data": {
      "text/plain": []
     },
     "execution_count": 15,
     "metadata": {},
     "output_type": "execute_result"
    }
   ],
   "source": [
    "rf_v2.confusion_matrix()"
   ]
  },
  {
   "cell_type": "code",
   "execution_count": 16,
   "metadata": {},
   "outputs": [],
   "source": [
    "from h2o.grid.grid_search import H2OGridSearch"
   ]
  },
  {
   "cell_type": "code",
   "execution_count": 17,
   "metadata": {},
   "outputs": [],
   "source": [
    "gbm_params1 = {'learn_rate': [0.01, 0.1],\n",
    "                'max_depth': [3, 5, 9],\n",
    "                'sample_rate': [0.8, 1.0],\n",
    "                'col_sample_rate': [0.2, 0.5, 1.0]}"
   ]
  }
 ],
 "metadata": {
  "kernelspec": {
   "display_name": "Python 3",
   "language": "python",
   "name": "python3"
  },
  "language_info": {
   "codemirror_mode": {
    "name": "ipython",
    "version": 3
   },
   "file_extension": ".py",
   "mimetype": "text/x-python",
   "name": "python",
   "nbconvert_exporter": "python",
   "pygments_lexer": "ipython3",
   "version": "3.6.5"
  }
 },
 "nbformat": 4,
 "nbformat_minor": 2
}
