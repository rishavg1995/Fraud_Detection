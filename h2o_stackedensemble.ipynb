{
 "cells": [
  {
   "cell_type": "code",
   "execution_count": 1,
   "metadata": {},
   "outputs": [
    {
     "name": "stdout",
     "output_type": "stream",
     "text": [
      "Checking whether there is an H2O instance running at http://localhost:54321. connected.\n"
     ]
    },
    {
     "data": {
      "text/html": [
       "<div style=\"overflow:auto\"><table style=\"width:50%\"><tr><td>H2O cluster uptime:</td>\n",
       "<td>11 mins 10 secs</td></tr>\n",
       "<tr><td>H2O cluster timezone:</td>\n",
       "<td>Asia/Kolkata</td></tr>\n",
       "<tr><td>H2O data parsing timezone:</td>\n",
       "<td>UTC</td></tr>\n",
       "<tr><td>H2O cluster version:</td>\n",
       "<td>3.18.0.10</td></tr>\n",
       "<tr><td>H2O cluster version age:</td>\n",
       "<td>3 days </td></tr>\n",
       "<tr><td>H2O cluster name:</td>\n",
       "<td>H2O_from_python_rishav_miiyum</td></tr>\n",
       "<tr><td>H2O cluster total nodes:</td>\n",
       "<td>1</td></tr>\n",
       "<tr><td>H2O cluster free memory:</td>\n",
       "<td>1.514 Gb</td></tr>\n",
       "<tr><td>H2O cluster total cores:</td>\n",
       "<td>4</td></tr>\n",
       "<tr><td>H2O cluster allowed cores:</td>\n",
       "<td>4</td></tr>\n",
       "<tr><td>H2O cluster status:</td>\n",
       "<td>locked, healthy</td></tr>\n",
       "<tr><td>H2O connection url:</td>\n",
       "<td>http://localhost:54321</td></tr>\n",
       "<tr><td>H2O connection proxy:</td>\n",
       "<td>None</td></tr>\n",
       "<tr><td>H2O internal security:</td>\n",
       "<td>False</td></tr>\n",
       "<tr><td>H2O API Extensions:</td>\n",
       "<td>XGBoost, Algos, AutoML, Core V3, Core V4</td></tr>\n",
       "<tr><td>Python version:</td>\n",
       "<td>3.6.5 final</td></tr></table></div>"
      ],
      "text/plain": [
       "--------------------------  ----------------------------------------\n",
       "H2O cluster uptime:         11 mins 10 secs\n",
       "H2O cluster timezone:       Asia/Kolkata\n",
       "H2O data parsing timezone:  UTC\n",
       "H2O cluster version:        3.18.0.10\n",
       "H2O cluster version age:    3 days\n",
       "H2O cluster name:           H2O_from_python_rishav_miiyum\n",
       "H2O cluster total nodes:    1\n",
       "H2O cluster free memory:    1.514 Gb\n",
       "H2O cluster total cores:    4\n",
       "H2O cluster allowed cores:  4\n",
       "H2O cluster status:         locked, healthy\n",
       "H2O connection url:         http://localhost:54321\n",
       "H2O connection proxy:\n",
       "H2O internal security:      False\n",
       "H2O API Extensions:         XGBoost, Algos, AutoML, Core V3, Core V4\n",
       "Python version:             3.6.5 final\n",
       "--------------------------  ----------------------------------------"
      ]
     },
     "metadata": {},
     "output_type": "display_data"
    }
   ],
   "source": [
    "import h2o\n",
    "from h2o.estimators.random_forest import H2ORandomForestEstimator\n",
    "from h2o.estimators.gbm import H2OGradientBoostingEstimator\n",
    "from h2o.estimators.stackedensemble import H2OStackedEnsembleEstimator\n",
    "from h2o.grid.grid_search import H2OGridSearch\n",
    "from __future__ import print_function\n",
    "h2o.init()"
   ]
  },
  {
   "cell_type": "code",
   "execution_count": 2,
   "metadata": {},
   "outputs": [
    {
     "name": "stdout",
     "output_type": "stream",
     "text": [
      "Parse progress: |█████████████████████████████████████████████████████████| 100%\n"
     ]
    }
   ],
   "source": [
    "df = h2o.import_file(path = \"Claims1.csv\")"
   ]
  },
  {
   "cell_type": "code",
   "execution_count": 3,
   "metadata": {},
   "outputs": [
    {
     "data": {
      "text/html": [
       "<table>\n",
       "<thead>\n",
       "<tr><th style=\"text-align: right;\">  WeekOfMonth</th><th style=\"text-align: right;\">  WeekOfMonthClaimed</th><th style=\"text-align: right;\">  Age</th><th style=\"text-align: right;\">  FraudFound_P</th><th style=\"text-align: right;\">  PolicyNumber</th><th style=\"text-align: right;\">  RepNumber</th><th style=\"text-align: right;\">  Deductible</th><th style=\"text-align: right;\">  DriverRating</th><th style=\"text-align: right;\">  Year</th><th style=\"text-align: right;\">  Month</th><th style=\"text-align: right;\">  DayOfWeek</th><th style=\"text-align: right;\">  Make</th><th style=\"text-align: right;\">  AccidentArea</th><th style=\"text-align: right;\">  DayOfWeekClaimed</th><th style=\"text-align: right;\">  MonthClaimed</th><th style=\"text-align: right;\">  Sex</th><th style=\"text-align: right;\">  MaritalStatus</th><th style=\"text-align: right;\">  Fault</th><th style=\"text-align: right;\">  PolicyType</th><th style=\"text-align: right;\">  VehicleCategory</th><th style=\"text-align: right;\">  VehiclePrice</th><th style=\"text-align: right;\">  Days_Policy_Accident</th><th style=\"text-align: right;\">  Days_Policy_Claim</th><th style=\"text-align: right;\">  PastNumberOfClaims</th><th style=\"text-align: right;\">  AgeOfVehicle</th><th style=\"text-align: right;\">  AgeOfPolicyHolder</th><th style=\"text-align: right;\">  PoliceReportFiled</th><th style=\"text-align: right;\">  WitnessPresent</th><th style=\"text-align: right;\">  AgentType</th><th style=\"text-align: right;\">  NumberOfSuppliments</th><th style=\"text-align: right;\">  AddressChange_Claim</th><th style=\"text-align: right;\">  NumberOfCars</th><th style=\"text-align: right;\">  BasePolicy</th></tr>\n",
       "</thead>\n",
       "<tbody>\n",
       "<tr><td style=\"text-align: right;\">            5</td><td style=\"text-align: right;\">                   1</td><td style=\"text-align: right;\">   21</td><td style=\"text-align: right;\">             0</td><td style=\"text-align: right;\">             1</td><td style=\"text-align: right;\">         12</td><td style=\"text-align: right;\">         300</td><td style=\"text-align: right;\">             1</td><td style=\"text-align: right;\">  1994</td><td style=\"text-align: right;\">     11</td><td style=\"text-align: right;\">          2</td><td style=\"text-align: right;\">     6</td><td style=\"text-align: right;\">             1</td><td style=\"text-align: right;\">                 1</td><td style=\"text-align: right;\">             0</td><td style=\"text-align: right;\">    0</td><td style=\"text-align: right;\">              0</td><td style=\"text-align: right;\">      0</td><td style=\"text-align: right;\">           5</td><td style=\"text-align: right;\">                1</td><td style=\"text-align: right;\">             5</td><td style=\"text-align: right;\">                     4</td><td style=\"text-align: right;\">                  3</td><td style=\"text-align: right;\">                   0</td><td style=\"text-align: right;\">             2</td><td style=\"text-align: right;\">                  3</td><td style=\"text-align: right;\">                  1</td><td style=\"text-align: right;\">               0</td><td style=\"text-align: right;\">          1</td><td style=\"text-align: right;\">                    0</td><td style=\"text-align: right;\">                    1</td><td style=\"text-align: right;\">             2</td><td style=\"text-align: right;\">           2</td></tr>\n",
       "<tr><td style=\"text-align: right;\">            3</td><td style=\"text-align: right;\">                   4</td><td style=\"text-align: right;\">   34</td><td style=\"text-align: right;\">             0</td><td style=\"text-align: right;\">             2</td><td style=\"text-align: right;\">         15</td><td style=\"text-align: right;\">         400</td><td style=\"text-align: right;\">             4</td><td style=\"text-align: right;\">  1994</td><td style=\"text-align: right;\">      0</td><td style=\"text-align: right;\">          2</td><td style=\"text-align: right;\">     6</td><td style=\"text-align: right;\">             1</td><td style=\"text-align: right;\">                 0</td><td style=\"text-align: right;\">             0</td><td style=\"text-align: right;\">    1</td><td style=\"text-align: right;\">              0</td><td style=\"text-align: right;\">      0</td><td style=\"text-align: right;\">           4</td><td style=\"text-align: right;\">                1</td><td style=\"text-align: right;\">             5</td><td style=\"text-align: right;\">                     4</td><td style=\"text-align: right;\">                  3</td><td style=\"text-align: right;\">                   0</td><td style=\"text-align: right;\">             5</td><td style=\"text-align: right;\">                  4</td><td style=\"text-align: right;\">                  0</td><td style=\"text-align: right;\">               0</td><td style=\"text-align: right;\">          1</td><td style=\"text-align: right;\">                    0</td><td style=\"text-align: right;\">                    0</td><td style=\"text-align: right;\">             0</td><td style=\"text-align: right;\">           1</td></tr>\n",
       "<tr><td style=\"text-align: right;\">            5</td><td style=\"text-align: right;\">                   2</td><td style=\"text-align: right;\">   47</td><td style=\"text-align: right;\">             0</td><td style=\"text-align: right;\">             3</td><td style=\"text-align: right;\">          7</td><td style=\"text-align: right;\">         400</td><td style=\"text-align: right;\">             3</td><td style=\"text-align: right;\">  1994</td><td style=\"text-align: right;\">      9</td><td style=\"text-align: right;\">          4</td><td style=\"text-align: right;\">     6</td><td style=\"text-align: right;\">             1</td><td style=\"text-align: right;\">                 3</td><td style=\"text-align: right;\">            10</td><td style=\"text-align: right;\">    1</td><td style=\"text-align: right;\">              1</td><td style=\"text-align: right;\">      0</td><td style=\"text-align: right;\">           4</td><td style=\"text-align: right;\">                1</td><td style=\"text-align: right;\">             5</td><td style=\"text-align: right;\">                     4</td><td style=\"text-align: right;\">                  3</td><td style=\"text-align: right;\">                   1</td><td style=\"text-align: right;\">             6</td><td style=\"text-align: right;\">                  6</td><td style=\"text-align: right;\">                  1</td><td style=\"text-align: right;\">               0</td><td style=\"text-align: right;\">          1</td><td style=\"text-align: right;\">                    0</td><td style=\"text-align: right;\">                    0</td><td style=\"text-align: right;\">             0</td><td style=\"text-align: right;\">           1</td></tr>\n",
       "<tr><td style=\"text-align: right;\">            2</td><td style=\"text-align: right;\">                   1</td><td style=\"text-align: right;\">   65</td><td style=\"text-align: right;\">             0</td><td style=\"text-align: right;\">             4</td><td style=\"text-align: right;\">          4</td><td style=\"text-align: right;\">         400</td><td style=\"text-align: right;\">             2</td><td style=\"text-align: right;\">  1994</td><td style=\"text-align: right;\">      6</td><td style=\"text-align: right;\">          5</td><td style=\"text-align: right;\">    17</td><td style=\"text-align: right;\">             0</td><td style=\"text-align: right;\">                 4</td><td style=\"text-align: right;\">             6</td><td style=\"text-align: right;\">    1</td><td style=\"text-align: right;\">              1</td><td style=\"text-align: right;\">      1</td><td style=\"text-align: right;\">           2</td><td style=\"text-align: right;\">                1</td><td style=\"text-align: right;\">             1</td><td style=\"text-align: right;\">                     4</td><td style=\"text-align: right;\">                  3</td><td style=\"text-align: right;\">                   1</td><td style=\"text-align: right;\">             7</td><td style=\"text-align: right;\">                  7</td><td style=\"text-align: right;\">                  0</td><td style=\"text-align: right;\">               0</td><td style=\"text-align: right;\">          1</td><td style=\"text-align: right;\">                    3</td><td style=\"text-align: right;\">                    0</td><td style=\"text-align: right;\">             0</td><td style=\"text-align: right;\">           2</td></tr>\n",
       "<tr><td style=\"text-align: right;\">            5</td><td style=\"text-align: right;\">                   2</td><td style=\"text-align: right;\">   27</td><td style=\"text-align: right;\">             0</td><td style=\"text-align: right;\">             5</td><td style=\"text-align: right;\">          3</td><td style=\"text-align: right;\">         400</td><td style=\"text-align: right;\">             1</td><td style=\"text-align: right;\">  1994</td><td style=\"text-align: right;\">      0</td><td style=\"text-align: right;\">          0</td><td style=\"text-align: right;\">     6</td><td style=\"text-align: right;\">             1</td><td style=\"text-align: right;\">                 1</td><td style=\"text-align: right;\">             1</td><td style=\"text-align: right;\">    0</td><td style=\"text-align: right;\">              0</td><td style=\"text-align: right;\">      1</td><td style=\"text-align: right;\">           4</td><td style=\"text-align: right;\">                1</td><td style=\"text-align: right;\">             5</td><td style=\"text-align: right;\">                     4</td><td style=\"text-align: right;\">                  3</td><td style=\"text-align: right;\">                   0</td><td style=\"text-align: right;\">             4</td><td style=\"text-align: right;\">                  4</td><td style=\"text-align: right;\">                  1</td><td style=\"text-align: right;\">               0</td><td style=\"text-align: right;\">          1</td><td style=\"text-align: right;\">                    0</td><td style=\"text-align: right;\">                    0</td><td style=\"text-align: right;\">             0</td><td style=\"text-align: right;\">           1</td></tr>\n",
       "<tr><td style=\"text-align: right;\">            4</td><td style=\"text-align: right;\">                   1</td><td style=\"text-align: right;\">   20</td><td style=\"text-align: right;\">             0</td><td style=\"text-align: right;\">             6</td><td style=\"text-align: right;\">         12</td><td style=\"text-align: right;\">         400</td><td style=\"text-align: right;\">             3</td><td style=\"text-align: right;\">  1994</td><td style=\"text-align: right;\">      9</td><td style=\"text-align: right;\">          4</td><td style=\"text-align: right;\">     6</td><td style=\"text-align: right;\">             1</td><td style=\"text-align: right;\">                 2</td><td style=\"text-align: right;\">            10</td><td style=\"text-align: right;\">    1</td><td style=\"text-align: right;\">              0</td><td style=\"text-align: right;\">      1</td><td style=\"text-align: right;\">           4</td><td style=\"text-align: right;\">                1</td><td style=\"text-align: right;\">             5</td><td style=\"text-align: right;\">                     4</td><td style=\"text-align: right;\">                  3</td><td style=\"text-align: right;\">                   0</td><td style=\"text-align: right;\">             4</td><td style=\"text-align: right;\">                  2</td><td style=\"text-align: right;\">                  1</td><td style=\"text-align: right;\">               0</td><td style=\"text-align: right;\">          1</td><td style=\"text-align: right;\">                    2</td><td style=\"text-align: right;\">                    0</td><td style=\"text-align: right;\">             0</td><td style=\"text-align: right;\">           1</td></tr>\n",
       "<tr><td style=\"text-align: right;\">            1</td><td style=\"text-align: right;\">                   3</td><td style=\"text-align: right;\">   36</td><td style=\"text-align: right;\">             0</td><td style=\"text-align: right;\">             7</td><td style=\"text-align: right;\">         14</td><td style=\"text-align: right;\">         400</td><td style=\"text-align: right;\">             1</td><td style=\"text-align: right;\">  1994</td><td style=\"text-align: right;\">      1</td><td style=\"text-align: right;\">          5</td><td style=\"text-align: right;\">     6</td><td style=\"text-align: right;\">             1</td><td style=\"text-align: right;\">                 0</td><td style=\"text-align: right;\">             1</td><td style=\"text-align: right;\">    1</td><td style=\"text-align: right;\">              1</td><td style=\"text-align: right;\">      1</td><td style=\"text-align: right;\">           4</td><td style=\"text-align: right;\">                1</td><td style=\"text-align: right;\">             5</td><td style=\"text-align: right;\">                     4</td><td style=\"text-align: right;\">                  3</td><td style=\"text-align: right;\">                   1</td><td style=\"text-align: right;\">             6</td><td style=\"text-align: right;\">                  5</td><td style=\"text-align: right;\">                  1</td><td style=\"text-align: right;\">               0</td><td style=\"text-align: right;\">          1</td><td style=\"text-align: right;\">                    1</td><td style=\"text-align: right;\">                    0</td><td style=\"text-align: right;\">             0</td><td style=\"text-align: right;\">           1</td></tr>\n",
       "<tr><td style=\"text-align: right;\">            1</td><td style=\"text-align: right;\">                   4</td><td style=\"text-align: right;\">    0</td><td style=\"text-align: right;\">             0</td><td style=\"text-align: right;\">             8</td><td style=\"text-align: right;\">          1</td><td style=\"text-align: right;\">         400</td><td style=\"text-align: right;\">             4</td><td style=\"text-align: right;\">  1994</td><td style=\"text-align: right;\">     10</td><td style=\"text-align: right;\">          4</td><td style=\"text-align: right;\">     6</td><td style=\"text-align: right;\">             1</td><td style=\"text-align: right;\">                 1</td><td style=\"text-align: right;\">             2</td><td style=\"text-align: right;\">    1</td><td style=\"text-align: right;\">              0</td><td style=\"text-align: right;\">      0</td><td style=\"text-align: right;\">           4</td><td style=\"text-align: right;\">                1</td><td style=\"text-align: right;\">             5</td><td style=\"text-align: right;\">                     4</td><td style=\"text-align: right;\">                  3</td><td style=\"text-align: right;\">                   1</td><td style=\"text-align: right;\">             0</td><td style=\"text-align: right;\">                  0</td><td style=\"text-align: right;\">                  1</td><td style=\"text-align: right;\">               0</td><td style=\"text-align: right;\">          1</td><td style=\"text-align: right;\">                    0</td><td style=\"text-align: right;\">                    0</td><td style=\"text-align: right;\">             0</td><td style=\"text-align: right;\">           1</td></tr>\n",
       "<tr><td style=\"text-align: right;\">            4</td><td style=\"text-align: right;\">                   5</td><td style=\"text-align: right;\">   30</td><td style=\"text-align: right;\">             0</td><td style=\"text-align: right;\">             9</td><td style=\"text-align: right;\">          7</td><td style=\"text-align: right;\">         400</td><td style=\"text-align: right;\">             4</td><td style=\"text-align: right;\">  1994</td><td style=\"text-align: right;\">     11</td><td style=\"text-align: right;\">          5</td><td style=\"text-align: right;\">     6</td><td style=\"text-align: right;\">             1</td><td style=\"text-align: right;\">                 2</td><td style=\"text-align: right;\">            11</td><td style=\"text-align: right;\">    1</td><td style=\"text-align: right;\">              0</td><td style=\"text-align: right;\">      0</td><td style=\"text-align: right;\">           4</td><td style=\"text-align: right;\">                1</td><td style=\"text-align: right;\">             5</td><td style=\"text-align: right;\">                     4</td><td style=\"text-align: right;\">                  3</td><td style=\"text-align: right;\">                   0</td><td style=\"text-align: right;\">             5</td><td style=\"text-align: right;\">                  4</td><td style=\"text-align: right;\">                  1</td><td style=\"text-align: right;\">               1</td><td style=\"text-align: right;\">          1</td><td style=\"text-align: right;\">                    2</td><td style=\"text-align: right;\">                    0</td><td style=\"text-align: right;\">             0</td><td style=\"text-align: right;\">           1</td></tr>\n",
       "<tr><td style=\"text-align: right;\">            3</td><td style=\"text-align: right;\">                   3</td><td style=\"text-align: right;\">   42</td><td style=\"text-align: right;\">             0</td><td style=\"text-align: right;\">            10</td><td style=\"text-align: right;\">          7</td><td style=\"text-align: right;\">         400</td><td style=\"text-align: right;\">             1</td><td style=\"text-align: right;\">  1994</td><td style=\"text-align: right;\">      3</td><td style=\"text-align: right;\">          1</td><td style=\"text-align: right;\">     5</td><td style=\"text-align: right;\">             1</td><td style=\"text-align: right;\">                 2</td><td style=\"text-align: right;\">             3</td><td style=\"text-align: right;\">    1</td><td style=\"text-align: right;\">              1</td><td style=\"text-align: right;\">      0</td><td style=\"text-align: right;\">           6</td><td style=\"text-align: right;\">                2</td><td style=\"text-align: right;\">             5</td><td style=\"text-align: right;\">                     4</td><td style=\"text-align: right;\">                  3</td><td style=\"text-align: right;\">                   2</td><td style=\"text-align: right;\">             7</td><td style=\"text-align: right;\">                  5</td><td style=\"text-align: right;\">                  1</td><td style=\"text-align: right;\">               0</td><td style=\"text-align: right;\">          1</td><td style=\"text-align: right;\">                    2</td><td style=\"text-align: right;\">                    0</td><td style=\"text-align: right;\">             0</td><td style=\"text-align: right;\">           0</td></tr>\n",
       "</tbody>\n",
       "</table>"
      ]
     },
     "metadata": {},
     "output_type": "display_data"
    },
    {
     "data": {
      "text/plain": []
     },
     "execution_count": 3,
     "metadata": {},
     "output_type": "execute_result"
    }
   ],
   "source": [
    "df.head()"
   ]
  },
  {
   "cell_type": "code",
   "execution_count": 4,
   "metadata": {},
   "outputs": [],
   "source": [
    "cols = list(df.columns)\n",
    "cols.pop(cols.index('FraudFound_P'))\n",
    "df = df[cols+['FraudFound_P']]"
   ]
  },
  {
   "cell_type": "code",
   "execution_count": 5,
   "metadata": {},
   "outputs": [],
   "source": [
    "df[32] = df[32].asfactor()\n",
    "predictors = df.columns[0:32]\n",
    "response = 'FraudFound_P'"
   ]
  },
  {
   "cell_type": "code",
   "execution_count": 6,
   "metadata": {},
   "outputs": [
    {
     "data": {
      "text/html": [
       "<table>\n",
       "<thead>\n",
       "<tr><th style=\"text-align: right;\">  WeekOfMonth</th><th style=\"text-align: right;\">  WeekOfMonthClaimed</th><th style=\"text-align: right;\">  Age</th><th style=\"text-align: right;\">  PolicyNumber</th><th style=\"text-align: right;\">  RepNumber</th><th style=\"text-align: right;\">  Deductible</th><th style=\"text-align: right;\">  DriverRating</th><th style=\"text-align: right;\">  Year</th><th style=\"text-align: right;\">  Month</th><th style=\"text-align: right;\">  DayOfWeek</th><th style=\"text-align: right;\">  Make</th><th style=\"text-align: right;\">  AccidentArea</th><th style=\"text-align: right;\">  DayOfWeekClaimed</th><th style=\"text-align: right;\">  MonthClaimed</th><th style=\"text-align: right;\">  Sex</th><th style=\"text-align: right;\">  MaritalStatus</th><th style=\"text-align: right;\">  Fault</th><th style=\"text-align: right;\">  PolicyType</th><th style=\"text-align: right;\">  VehicleCategory</th><th style=\"text-align: right;\">  VehiclePrice</th><th style=\"text-align: right;\">  Days_Policy_Accident</th><th style=\"text-align: right;\">  Days_Policy_Claim</th><th style=\"text-align: right;\">  PastNumberOfClaims</th><th style=\"text-align: right;\">  AgeOfVehicle</th><th style=\"text-align: right;\">  AgeOfPolicyHolder</th><th style=\"text-align: right;\">  PoliceReportFiled</th><th style=\"text-align: right;\">  WitnessPresent</th><th style=\"text-align: right;\">  AgentType</th><th style=\"text-align: right;\">  NumberOfSuppliments</th><th style=\"text-align: right;\">  AddressChange_Claim</th><th style=\"text-align: right;\">  NumberOfCars</th><th style=\"text-align: right;\">  BasePolicy</th><th style=\"text-align: right;\">  FraudFound_P</th></tr>\n",
       "</thead>\n",
       "<tbody>\n",
       "<tr><td style=\"text-align: right;\">            5</td><td style=\"text-align: right;\">                   1</td><td style=\"text-align: right;\">   21</td><td style=\"text-align: right;\">             1</td><td style=\"text-align: right;\">         12</td><td style=\"text-align: right;\">         300</td><td style=\"text-align: right;\">             1</td><td style=\"text-align: right;\">  1994</td><td style=\"text-align: right;\">     11</td><td style=\"text-align: right;\">          2</td><td style=\"text-align: right;\">     6</td><td style=\"text-align: right;\">             1</td><td style=\"text-align: right;\">                 1</td><td style=\"text-align: right;\">             0</td><td style=\"text-align: right;\">    0</td><td style=\"text-align: right;\">              0</td><td style=\"text-align: right;\">      0</td><td style=\"text-align: right;\">           5</td><td style=\"text-align: right;\">                1</td><td style=\"text-align: right;\">             5</td><td style=\"text-align: right;\">                     4</td><td style=\"text-align: right;\">                  3</td><td style=\"text-align: right;\">                   0</td><td style=\"text-align: right;\">             2</td><td style=\"text-align: right;\">                  3</td><td style=\"text-align: right;\">                  1</td><td style=\"text-align: right;\">               0</td><td style=\"text-align: right;\">          1</td><td style=\"text-align: right;\">                    0</td><td style=\"text-align: right;\">                    1</td><td style=\"text-align: right;\">             2</td><td style=\"text-align: right;\">           2</td><td style=\"text-align: right;\">             0</td></tr>\n",
       "<tr><td style=\"text-align: right;\">            3</td><td style=\"text-align: right;\">                   4</td><td style=\"text-align: right;\">   34</td><td style=\"text-align: right;\">             2</td><td style=\"text-align: right;\">         15</td><td style=\"text-align: right;\">         400</td><td style=\"text-align: right;\">             4</td><td style=\"text-align: right;\">  1994</td><td style=\"text-align: right;\">      0</td><td style=\"text-align: right;\">          2</td><td style=\"text-align: right;\">     6</td><td style=\"text-align: right;\">             1</td><td style=\"text-align: right;\">                 0</td><td style=\"text-align: right;\">             0</td><td style=\"text-align: right;\">    1</td><td style=\"text-align: right;\">              0</td><td style=\"text-align: right;\">      0</td><td style=\"text-align: right;\">           4</td><td style=\"text-align: right;\">                1</td><td style=\"text-align: right;\">             5</td><td style=\"text-align: right;\">                     4</td><td style=\"text-align: right;\">                  3</td><td style=\"text-align: right;\">                   0</td><td style=\"text-align: right;\">             5</td><td style=\"text-align: right;\">                  4</td><td style=\"text-align: right;\">                  0</td><td style=\"text-align: right;\">               0</td><td style=\"text-align: right;\">          1</td><td style=\"text-align: right;\">                    0</td><td style=\"text-align: right;\">                    0</td><td style=\"text-align: right;\">             0</td><td style=\"text-align: right;\">           1</td><td style=\"text-align: right;\">             0</td></tr>\n",
       "<tr><td style=\"text-align: right;\">            5</td><td style=\"text-align: right;\">                   2</td><td style=\"text-align: right;\">   47</td><td style=\"text-align: right;\">             3</td><td style=\"text-align: right;\">          7</td><td style=\"text-align: right;\">         400</td><td style=\"text-align: right;\">             3</td><td style=\"text-align: right;\">  1994</td><td style=\"text-align: right;\">      9</td><td style=\"text-align: right;\">          4</td><td style=\"text-align: right;\">     6</td><td style=\"text-align: right;\">             1</td><td style=\"text-align: right;\">                 3</td><td style=\"text-align: right;\">            10</td><td style=\"text-align: right;\">    1</td><td style=\"text-align: right;\">              1</td><td style=\"text-align: right;\">      0</td><td style=\"text-align: right;\">           4</td><td style=\"text-align: right;\">                1</td><td style=\"text-align: right;\">             5</td><td style=\"text-align: right;\">                     4</td><td style=\"text-align: right;\">                  3</td><td style=\"text-align: right;\">                   1</td><td style=\"text-align: right;\">             6</td><td style=\"text-align: right;\">                  6</td><td style=\"text-align: right;\">                  1</td><td style=\"text-align: right;\">               0</td><td style=\"text-align: right;\">          1</td><td style=\"text-align: right;\">                    0</td><td style=\"text-align: right;\">                    0</td><td style=\"text-align: right;\">             0</td><td style=\"text-align: right;\">           1</td><td style=\"text-align: right;\">             0</td></tr>\n",
       "<tr><td style=\"text-align: right;\">            2</td><td style=\"text-align: right;\">                   1</td><td style=\"text-align: right;\">   65</td><td style=\"text-align: right;\">             4</td><td style=\"text-align: right;\">          4</td><td style=\"text-align: right;\">         400</td><td style=\"text-align: right;\">             2</td><td style=\"text-align: right;\">  1994</td><td style=\"text-align: right;\">      6</td><td style=\"text-align: right;\">          5</td><td style=\"text-align: right;\">    17</td><td style=\"text-align: right;\">             0</td><td style=\"text-align: right;\">                 4</td><td style=\"text-align: right;\">             6</td><td style=\"text-align: right;\">    1</td><td style=\"text-align: right;\">              1</td><td style=\"text-align: right;\">      1</td><td style=\"text-align: right;\">           2</td><td style=\"text-align: right;\">                1</td><td style=\"text-align: right;\">             1</td><td style=\"text-align: right;\">                     4</td><td style=\"text-align: right;\">                  3</td><td style=\"text-align: right;\">                   1</td><td style=\"text-align: right;\">             7</td><td style=\"text-align: right;\">                  7</td><td style=\"text-align: right;\">                  0</td><td style=\"text-align: right;\">               0</td><td style=\"text-align: right;\">          1</td><td style=\"text-align: right;\">                    3</td><td style=\"text-align: right;\">                    0</td><td style=\"text-align: right;\">             0</td><td style=\"text-align: right;\">           2</td><td style=\"text-align: right;\">             0</td></tr>\n",
       "<tr><td style=\"text-align: right;\">            5</td><td style=\"text-align: right;\">                   2</td><td style=\"text-align: right;\">   27</td><td style=\"text-align: right;\">             5</td><td style=\"text-align: right;\">          3</td><td style=\"text-align: right;\">         400</td><td style=\"text-align: right;\">             1</td><td style=\"text-align: right;\">  1994</td><td style=\"text-align: right;\">      0</td><td style=\"text-align: right;\">          0</td><td style=\"text-align: right;\">     6</td><td style=\"text-align: right;\">             1</td><td style=\"text-align: right;\">                 1</td><td style=\"text-align: right;\">             1</td><td style=\"text-align: right;\">    0</td><td style=\"text-align: right;\">              0</td><td style=\"text-align: right;\">      1</td><td style=\"text-align: right;\">           4</td><td style=\"text-align: right;\">                1</td><td style=\"text-align: right;\">             5</td><td style=\"text-align: right;\">                     4</td><td style=\"text-align: right;\">                  3</td><td style=\"text-align: right;\">                   0</td><td style=\"text-align: right;\">             4</td><td style=\"text-align: right;\">                  4</td><td style=\"text-align: right;\">                  1</td><td style=\"text-align: right;\">               0</td><td style=\"text-align: right;\">          1</td><td style=\"text-align: right;\">                    0</td><td style=\"text-align: right;\">                    0</td><td style=\"text-align: right;\">             0</td><td style=\"text-align: right;\">           1</td><td style=\"text-align: right;\">             0</td></tr>\n",
       "<tr><td style=\"text-align: right;\">            4</td><td style=\"text-align: right;\">                   1</td><td style=\"text-align: right;\">   20</td><td style=\"text-align: right;\">             6</td><td style=\"text-align: right;\">         12</td><td style=\"text-align: right;\">         400</td><td style=\"text-align: right;\">             3</td><td style=\"text-align: right;\">  1994</td><td style=\"text-align: right;\">      9</td><td style=\"text-align: right;\">          4</td><td style=\"text-align: right;\">     6</td><td style=\"text-align: right;\">             1</td><td style=\"text-align: right;\">                 2</td><td style=\"text-align: right;\">            10</td><td style=\"text-align: right;\">    1</td><td style=\"text-align: right;\">              0</td><td style=\"text-align: right;\">      1</td><td style=\"text-align: right;\">           4</td><td style=\"text-align: right;\">                1</td><td style=\"text-align: right;\">             5</td><td style=\"text-align: right;\">                     4</td><td style=\"text-align: right;\">                  3</td><td style=\"text-align: right;\">                   0</td><td style=\"text-align: right;\">             4</td><td style=\"text-align: right;\">                  2</td><td style=\"text-align: right;\">                  1</td><td style=\"text-align: right;\">               0</td><td style=\"text-align: right;\">          1</td><td style=\"text-align: right;\">                    2</td><td style=\"text-align: right;\">                    0</td><td style=\"text-align: right;\">             0</td><td style=\"text-align: right;\">           1</td><td style=\"text-align: right;\">             0</td></tr>\n",
       "<tr><td style=\"text-align: right;\">            1</td><td style=\"text-align: right;\">                   3</td><td style=\"text-align: right;\">   36</td><td style=\"text-align: right;\">             7</td><td style=\"text-align: right;\">         14</td><td style=\"text-align: right;\">         400</td><td style=\"text-align: right;\">             1</td><td style=\"text-align: right;\">  1994</td><td style=\"text-align: right;\">      1</td><td style=\"text-align: right;\">          5</td><td style=\"text-align: right;\">     6</td><td style=\"text-align: right;\">             1</td><td style=\"text-align: right;\">                 0</td><td style=\"text-align: right;\">             1</td><td style=\"text-align: right;\">    1</td><td style=\"text-align: right;\">              1</td><td style=\"text-align: right;\">      1</td><td style=\"text-align: right;\">           4</td><td style=\"text-align: right;\">                1</td><td style=\"text-align: right;\">             5</td><td style=\"text-align: right;\">                     4</td><td style=\"text-align: right;\">                  3</td><td style=\"text-align: right;\">                   1</td><td style=\"text-align: right;\">             6</td><td style=\"text-align: right;\">                  5</td><td style=\"text-align: right;\">                  1</td><td style=\"text-align: right;\">               0</td><td style=\"text-align: right;\">          1</td><td style=\"text-align: right;\">                    1</td><td style=\"text-align: right;\">                    0</td><td style=\"text-align: right;\">             0</td><td style=\"text-align: right;\">           1</td><td style=\"text-align: right;\">             0</td></tr>\n",
       "<tr><td style=\"text-align: right;\">            1</td><td style=\"text-align: right;\">                   4</td><td style=\"text-align: right;\">    0</td><td style=\"text-align: right;\">             8</td><td style=\"text-align: right;\">          1</td><td style=\"text-align: right;\">         400</td><td style=\"text-align: right;\">             4</td><td style=\"text-align: right;\">  1994</td><td style=\"text-align: right;\">     10</td><td style=\"text-align: right;\">          4</td><td style=\"text-align: right;\">     6</td><td style=\"text-align: right;\">             1</td><td style=\"text-align: right;\">                 1</td><td style=\"text-align: right;\">             2</td><td style=\"text-align: right;\">    1</td><td style=\"text-align: right;\">              0</td><td style=\"text-align: right;\">      0</td><td style=\"text-align: right;\">           4</td><td style=\"text-align: right;\">                1</td><td style=\"text-align: right;\">             5</td><td style=\"text-align: right;\">                     4</td><td style=\"text-align: right;\">                  3</td><td style=\"text-align: right;\">                   1</td><td style=\"text-align: right;\">             0</td><td style=\"text-align: right;\">                  0</td><td style=\"text-align: right;\">                  1</td><td style=\"text-align: right;\">               0</td><td style=\"text-align: right;\">          1</td><td style=\"text-align: right;\">                    0</td><td style=\"text-align: right;\">                    0</td><td style=\"text-align: right;\">             0</td><td style=\"text-align: right;\">           1</td><td style=\"text-align: right;\">             0</td></tr>\n",
       "<tr><td style=\"text-align: right;\">            4</td><td style=\"text-align: right;\">                   5</td><td style=\"text-align: right;\">   30</td><td style=\"text-align: right;\">             9</td><td style=\"text-align: right;\">          7</td><td style=\"text-align: right;\">         400</td><td style=\"text-align: right;\">             4</td><td style=\"text-align: right;\">  1994</td><td style=\"text-align: right;\">     11</td><td style=\"text-align: right;\">          5</td><td style=\"text-align: right;\">     6</td><td style=\"text-align: right;\">             1</td><td style=\"text-align: right;\">                 2</td><td style=\"text-align: right;\">            11</td><td style=\"text-align: right;\">    1</td><td style=\"text-align: right;\">              0</td><td style=\"text-align: right;\">      0</td><td style=\"text-align: right;\">           4</td><td style=\"text-align: right;\">                1</td><td style=\"text-align: right;\">             5</td><td style=\"text-align: right;\">                     4</td><td style=\"text-align: right;\">                  3</td><td style=\"text-align: right;\">                   0</td><td style=\"text-align: right;\">             5</td><td style=\"text-align: right;\">                  4</td><td style=\"text-align: right;\">                  1</td><td style=\"text-align: right;\">               1</td><td style=\"text-align: right;\">          1</td><td style=\"text-align: right;\">                    2</td><td style=\"text-align: right;\">                    0</td><td style=\"text-align: right;\">             0</td><td style=\"text-align: right;\">           1</td><td style=\"text-align: right;\">             0</td></tr>\n",
       "<tr><td style=\"text-align: right;\">            3</td><td style=\"text-align: right;\">                   3</td><td style=\"text-align: right;\">   42</td><td style=\"text-align: right;\">            10</td><td style=\"text-align: right;\">          7</td><td style=\"text-align: right;\">         400</td><td style=\"text-align: right;\">             1</td><td style=\"text-align: right;\">  1994</td><td style=\"text-align: right;\">      3</td><td style=\"text-align: right;\">          1</td><td style=\"text-align: right;\">     5</td><td style=\"text-align: right;\">             1</td><td style=\"text-align: right;\">                 2</td><td style=\"text-align: right;\">             3</td><td style=\"text-align: right;\">    1</td><td style=\"text-align: right;\">              1</td><td style=\"text-align: right;\">      0</td><td style=\"text-align: right;\">           6</td><td style=\"text-align: right;\">                2</td><td style=\"text-align: right;\">             5</td><td style=\"text-align: right;\">                     4</td><td style=\"text-align: right;\">                  3</td><td style=\"text-align: right;\">                   2</td><td style=\"text-align: right;\">             7</td><td style=\"text-align: right;\">                  5</td><td style=\"text-align: right;\">                  1</td><td style=\"text-align: right;\">               0</td><td style=\"text-align: right;\">          1</td><td style=\"text-align: right;\">                    2</td><td style=\"text-align: right;\">                    0</td><td style=\"text-align: right;\">             0</td><td style=\"text-align: right;\">           0</td><td style=\"text-align: right;\">             0</td></tr>\n",
       "</tbody>\n",
       "</table>"
      ]
     },
     "metadata": {},
     "output_type": "display_data"
    },
    {
     "data": {
      "text/plain": []
     },
     "execution_count": 6,
     "metadata": {},
     "output_type": "execute_result"
    }
   ],
   "source": [
    "df.head()"
   ]
  },
  {
   "cell_type": "code",
   "execution_count": 7,
   "metadata": {},
   "outputs": [],
   "source": [
    "train, test, valid = df.split_frame(ratios=[.7, .15], seed = 1234)"
   ]
  },
  {
   "cell_type": "code",
   "execution_count": 8,
   "metadata": {},
   "outputs": [],
   "source": [
    "nfolds = 5"
   ]
  },
  {
   "cell_type": "code",
   "execution_count": 9,
   "metadata": {},
   "outputs": [],
   "source": [
    "my_gbm = H2OGradientBoostingEstimator(balance_classes = True,\n",
    "                                      distribution=\"bernoulli\",\n",
    "                                      ntrees=10,\n",
    "                                      max_depth=3,\n",
    "                                      min_rows=2,\n",
    "                                      learn_rate=0.2,\n",
    "                                      nfolds=nfolds,\n",
    "                                      fold_assignment=\"Modulo\",\n",
    "                                      keep_cross_validation_predictions=True,\n",
    "                                      seed=1234)"
   ]
  },
  {
   "cell_type": "code",
   "execution_count": 10,
   "metadata": {},
   "outputs": [
    {
     "name": "stdout",
     "output_type": "stream",
     "text": [
      "gbm Model Build progress: |███████████████████████████████████████████████| 100%\n"
     ]
    }
   ],
   "source": [
    "my_gbm.train(x=predictors, y=response, training_frame=train, validation_frame = valid)"
   ]
  },
  {
   "cell_type": "code",
   "execution_count": 11,
   "metadata": {},
   "outputs": [],
   "source": [
    "my_rf = H2ORandomForestEstimator(balance_classes = True,\n",
    "                                 ntrees=50,\n",
    "                                 nfolds=nfolds,\n",
    "                                 fold_assignment=\"Modulo\",\n",
    "                                 keep_cross_validation_predictions=True,\n",
    "                                 seed=1234)"
   ]
  },
  {
   "cell_type": "code",
   "execution_count": 12,
   "metadata": {},
   "outputs": [
    {
     "name": "stdout",
     "output_type": "stream",
     "text": [
      "drf Model Build progress: |███████████████████████████████████████████████| 100%\n"
     ]
    }
   ],
   "source": [
    "my_rf.train(x=predictors, y=response, training_frame=train, validation_frame = valid)"
   ]
  },
  {
   "cell_type": "code",
   "execution_count": 13,
   "metadata": {},
   "outputs": [
    {
     "name": "stdout",
     "output_type": "stream",
     "text": [
      "stackedensemble Model Build progress: |███████████████████████████████████| 100%\n"
     ]
    }
   ],
   "source": [
    "ensemble = H2OStackedEnsembleEstimator(model_id=\"my_ensemble_binomial\",\n",
    "                                       base_models=[my_gbm, my_rf])\n",
    "ensemble.train(x=predictors, y=response, training_frame=train)"
   ]
  },
  {
   "cell_type": "code",
   "execution_count": 14,
   "metadata": {},
   "outputs": [],
   "source": [
    "perf_stack_test = ensemble.model_performance(test)"
   ]
  },
  {
   "cell_type": "code",
   "execution_count": 15,
   "metadata": {},
   "outputs": [
    {
     "name": "stdout",
     "output_type": "stream",
     "text": [
      "Best Base-learner Test AUC:  0.8873292558613659\n",
      "Ensemble Test AUC:  0.8790655793408086\n"
     ]
    }
   ],
   "source": [
    "perf_gbm_test = my_gbm.model_performance(test)\n",
    "perf_rf_test = my_rf.model_performance(test)\n",
    "baselearner_best_auc_test = max(perf_gbm_test.auc(), perf_rf_test.auc())\n",
    "stack_auc_test = perf_stack_test.auc()\n",
    "print(\"Best Base-learner Test AUC:  {0}\".format(baselearner_best_auc_test))\n",
    "print(\"Ensemble Test AUC:  {0}\".format(stack_auc_test))"
   ]
  },
  {
   "cell_type": "code",
   "execution_count": 16,
   "metadata": {},
   "outputs": [
    {
     "name": "stdout",
     "output_type": "stream",
     "text": [
      "stackedensemble prediction progress: |████████████████████████████████████| 100%\n"
     ]
    }
   ],
   "source": [
    "pred = ensemble.predict(test)"
   ]
  },
  {
   "cell_type": "code",
   "execution_count": null,
   "metadata": {},
   "outputs": [],
   "source": []
  }
 ],
 "metadata": {
  "kernelspec": {
   "display_name": "Python 3",
   "language": "python",
   "name": "python3"
  },
  "language_info": {
   "codemirror_mode": {
    "name": "ipython",
    "version": 3
   },
   "file_extension": ".py",
   "mimetype": "text/x-python",
   "name": "python",
   "nbconvert_exporter": "python",
   "pygments_lexer": "ipython3",
   "version": "3.6.5"
  }
 },
 "nbformat": 4,
 "nbformat_minor": 2
}
