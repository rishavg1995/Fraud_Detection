{
 "cells": [
  {
   "cell_type": "code",
   "execution_count": 1,
   "metadata": {},
   "outputs": [
    {
     "name": "stdout",
     "output_type": "stream",
     "text": [
      "Checking whether there is an H2O instance running at http://localhost:54321..... not found.\n",
      "Attempting to start a local H2O server...\n",
      "  Java Version: java version \"1.8.0_171\"; Java(TM) SE Runtime Environment (build 1.8.0_171-b11); Java HotSpot(TM) 64-Bit Server VM (build 25.171-b11, mixed mode)\n",
      "  Starting server from /usr/local/lib/python3.6/dist-packages/h2o/backend/bin/h2o.jar\n",
      "  Ice root: /tmp/tmpvib04c72\n",
      "  JVM stdout: /tmp/tmpvib04c72/h2o_rishav_started_from_python.out\n",
      "  JVM stderr: /tmp/tmpvib04c72/h2o_rishav_started_from_python.err\n",
      "  Server is running at http://127.0.0.1:54321\n",
      "Connecting to H2O server at http://127.0.0.1:54321... successful.\n"
     ]
    },
    {
     "data": {
      "text/html": [
       "<div style=\"overflow:auto\"><table style=\"width:50%\"><tr><td>H2O cluster uptime:</td>\n",
       "<td>01 secs</td></tr>\n",
       "<tr><td>H2O cluster timezone:</td>\n",
       "<td>Asia/Kolkata</td></tr>\n",
       "<tr><td>H2O data parsing timezone:</td>\n",
       "<td>UTC</td></tr>\n",
       "<tr><td>H2O cluster version:</td>\n",
       "<td>3.18.0.10</td></tr>\n",
       "<tr><td>H2O cluster version age:</td>\n",
       "<td>4 days </td></tr>\n",
       "<tr><td>H2O cluster name:</td>\n",
       "<td>H2O_from_python_rishav_bfo0hm</td></tr>\n",
       "<tr><td>H2O cluster total nodes:</td>\n",
       "<td>1</td></tr>\n",
       "<tr><td>H2O cluster free memory:</td>\n",
       "<td>1.681 Gb</td></tr>\n",
       "<tr><td>H2O cluster total cores:</td>\n",
       "<td>4</td></tr>\n",
       "<tr><td>H2O cluster allowed cores:</td>\n",
       "<td>4</td></tr>\n",
       "<tr><td>H2O cluster status:</td>\n",
       "<td>accepting new members, healthy</td></tr>\n",
       "<tr><td>H2O connection url:</td>\n",
       "<td>http://127.0.0.1:54321</td></tr>\n",
       "<tr><td>H2O connection proxy:</td>\n",
       "<td>None</td></tr>\n",
       "<tr><td>H2O internal security:</td>\n",
       "<td>False</td></tr>\n",
       "<tr><td>H2O API Extensions:</td>\n",
       "<td>XGBoost, Algos, AutoML, Core V3, Core V4</td></tr>\n",
       "<tr><td>Python version:</td>\n",
       "<td>3.6.5 final</td></tr></table></div>"
      ],
      "text/plain": [
       "--------------------------  ----------------------------------------\n",
       "H2O cluster uptime:         01 secs\n",
       "H2O cluster timezone:       Asia/Kolkata\n",
       "H2O data parsing timezone:  UTC\n",
       "H2O cluster version:        3.18.0.10\n",
       "H2O cluster version age:    4 days\n",
       "H2O cluster name:           H2O_from_python_rishav_bfo0hm\n",
       "H2O cluster total nodes:    1\n",
       "H2O cluster free memory:    1.681 Gb\n",
       "H2O cluster total cores:    4\n",
       "H2O cluster allowed cores:  4\n",
       "H2O cluster status:         accepting new members, healthy\n",
       "H2O connection url:         http://127.0.0.1:54321\n",
       "H2O connection proxy:\n",
       "H2O internal security:      False\n",
       "H2O API Extensions:         XGBoost, Algos, AutoML, Core V3, Core V4\n",
       "Python version:             3.6.5 final\n",
       "--------------------------  ----------------------------------------"
      ]
     },
     "metadata": {},
     "output_type": "display_data"
    },
    {
     "data": {
      "text/html": [
       "<div style=\"overflow:auto\"><table style=\"width:50%\"><tr><td>H2O cluster uptime:</td>\n",
       "<td>01 secs</td></tr>\n",
       "<tr><td>H2O cluster timezone:</td>\n",
       "<td>Asia/Kolkata</td></tr>\n",
       "<tr><td>H2O data parsing timezone:</td>\n",
       "<td>UTC</td></tr>\n",
       "<tr><td>H2O cluster version:</td>\n",
       "<td>3.18.0.10</td></tr>\n",
       "<tr><td>H2O cluster version age:</td>\n",
       "<td>4 days </td></tr>\n",
       "<tr><td>H2O cluster name:</td>\n",
       "<td>H2O_from_python_rishav_bfo0hm</td></tr>\n",
       "<tr><td>H2O cluster total nodes:</td>\n",
       "<td>1</td></tr>\n",
       "<tr><td>H2O cluster free memory:</td>\n",
       "<td>1.681 Gb</td></tr>\n",
       "<tr><td>H2O cluster total cores:</td>\n",
       "<td>4</td></tr>\n",
       "<tr><td>H2O cluster allowed cores:</td>\n",
       "<td>4</td></tr>\n",
       "<tr><td>H2O cluster status:</td>\n",
       "<td>accepting new members, healthy</td></tr>\n",
       "<tr><td>H2O connection url:</td>\n",
       "<td>http://127.0.0.1:54321</td></tr>\n",
       "<tr><td>H2O connection proxy:</td>\n",
       "<td>None</td></tr>\n",
       "<tr><td>H2O internal security:</td>\n",
       "<td>False</td></tr>\n",
       "<tr><td>H2O API Extensions:</td>\n",
       "<td>XGBoost, Algos, AutoML, Core V3, Core V4</td></tr>\n",
       "<tr><td>Python version:</td>\n",
       "<td>3.6.5 final</td></tr></table></div>"
      ],
      "text/plain": [
       "--------------------------  ----------------------------------------\n",
       "H2O cluster uptime:         01 secs\n",
       "H2O cluster timezone:       Asia/Kolkata\n",
       "H2O data parsing timezone:  UTC\n",
       "H2O cluster version:        3.18.0.10\n",
       "H2O cluster version age:    4 days\n",
       "H2O cluster name:           H2O_from_python_rishav_bfo0hm\n",
       "H2O cluster total nodes:    1\n",
       "H2O cluster free memory:    1.681 Gb\n",
       "H2O cluster total cores:    4\n",
       "H2O cluster allowed cores:  4\n",
       "H2O cluster status:         accepting new members, healthy\n",
       "H2O connection url:         http://127.0.0.1:54321\n",
       "H2O connection proxy:\n",
       "H2O internal security:      False\n",
       "H2O API Extensions:         XGBoost, Algos, AutoML, Core V3, Core V4\n",
       "Python version:             3.6.5 final\n",
       "--------------------------  ----------------------------------------"
      ]
     },
     "metadata": {},
     "output_type": "display_data"
    }
   ],
   "source": [
    "import h2o\n",
    "import numpy as np\n",
    "import pandas as pd\n",
    "from h2o.estimators.random_forest import H2ORandomForestEstimator\n",
    "from h2o.estimators.gbm import H2OGradientBoostingEstimator\n",
    "h2o.init()\n",
    "h2o.cluster().show_status()"
   ]
  },
  {
   "cell_type": "code",
   "execution_count": 2,
   "metadata": {},
   "outputs": [
    {
     "name": "stdout",
     "output_type": "stream",
     "text": [
      "Parse progress: |█████████████████████████████████████████████████████████| 100%\n"
     ]
    }
   ],
   "source": [
    "df = h2o.import_file(\"Claims1.csv\")"
   ]
  },
  {
   "cell_type": "code",
   "execution_count": 3,
   "metadata": {},
   "outputs": [],
   "source": [
    "cols = list(df.columns)\n",
    "cols.pop(cols.index('FraudFound_P'))\n",
    "df = df[cols+['FraudFound_P']]"
   ]
  },
  {
   "cell_type": "code",
   "execution_count": 4,
   "metadata": {},
   "outputs": [],
   "source": [
    "df[32] = df[32].asfactor()\n",
    "predictors = df.columns[0:32]\n",
    "response = 'FraudFound_P'"
   ]
  },
  {
   "cell_type": "code",
   "execution_count": 5,
   "metadata": {},
   "outputs": [],
   "source": [
    "# split into train and validation sets\n",
    "train, test, valid = df.split_frame(ratios=[.7, .15], seed = 1234)\n",
    "#train, valid = df.split_frame(ratios = [.8], seed = 1234)"
   ]
  },
  {
   "cell_type": "code",
   "execution_count": 6,
   "metadata": {},
   "outputs": [
    {
     "data": {
      "text/html": [
       "<table>\n",
       "<thead>\n",
       "<tr><th style=\"text-align: right;\">  WeekOfMonth</th><th style=\"text-align: right;\">  WeekOfMonthClaimed</th><th style=\"text-align: right;\">  Age</th><th style=\"text-align: right;\">  PolicyNumber</th><th style=\"text-align: right;\">  RepNumber</th><th style=\"text-align: right;\">  Deductible</th><th style=\"text-align: right;\">  DriverRating</th><th style=\"text-align: right;\">  Year</th><th style=\"text-align: right;\">  Month</th><th style=\"text-align: right;\">  DayOfWeek</th><th style=\"text-align: right;\">  Make</th><th style=\"text-align: right;\">  AccidentArea</th><th style=\"text-align: right;\">  DayOfWeekClaimed</th><th style=\"text-align: right;\">  MonthClaimed</th><th style=\"text-align: right;\">  Sex</th><th style=\"text-align: right;\">  MaritalStatus</th><th style=\"text-align: right;\">  Fault</th><th style=\"text-align: right;\">  PolicyType</th><th style=\"text-align: right;\">  VehicleCategory</th><th style=\"text-align: right;\">  VehiclePrice</th><th style=\"text-align: right;\">  Days_Policy_Accident</th><th style=\"text-align: right;\">  Days_Policy_Claim</th><th style=\"text-align: right;\">  PastNumberOfClaims</th><th style=\"text-align: right;\">  AgeOfVehicle</th><th style=\"text-align: right;\">  AgeOfPolicyHolder</th><th style=\"text-align: right;\">  PoliceReportFiled</th><th style=\"text-align: right;\">  WitnessPresent</th><th style=\"text-align: right;\">  AgentType</th><th style=\"text-align: right;\">  NumberOfSuppliments</th><th style=\"text-align: right;\">  AddressChange_Claim</th><th style=\"text-align: right;\">  NumberOfCars</th><th style=\"text-align: right;\">  BasePolicy</th></tr>\n",
       "</thead>\n",
       "<tbody>\n",
       "<tr><td style=\"text-align: right;\">            3</td><td style=\"text-align: right;\">                   4</td><td style=\"text-align: right;\">   34</td><td style=\"text-align: right;\">             2</td><td style=\"text-align: right;\">         15</td><td style=\"text-align: right;\">         400</td><td style=\"text-align: right;\">             4</td><td style=\"text-align: right;\">  1994</td><td style=\"text-align: right;\">      0</td><td style=\"text-align: right;\">          2</td><td style=\"text-align: right;\">     6</td><td style=\"text-align: right;\">             1</td><td style=\"text-align: right;\">                 0</td><td style=\"text-align: right;\">             0</td><td style=\"text-align: right;\">    1</td><td style=\"text-align: right;\">              0</td><td style=\"text-align: right;\">      0</td><td style=\"text-align: right;\">           4</td><td style=\"text-align: right;\">                1</td><td style=\"text-align: right;\">             5</td><td style=\"text-align: right;\">                     4</td><td style=\"text-align: right;\">                  3</td><td style=\"text-align: right;\">                   0</td><td style=\"text-align: right;\">             5</td><td style=\"text-align: right;\">                  4</td><td style=\"text-align: right;\">                  0</td><td style=\"text-align: right;\">               0</td><td style=\"text-align: right;\">          1</td><td style=\"text-align: right;\">                    0</td><td style=\"text-align: right;\">                    0</td><td style=\"text-align: right;\">             0</td><td style=\"text-align: right;\">           1</td></tr>\n",
       "<tr><td style=\"text-align: right;\">            5</td><td style=\"text-align: right;\">                   2</td><td style=\"text-align: right;\">   47</td><td style=\"text-align: right;\">             3</td><td style=\"text-align: right;\">          7</td><td style=\"text-align: right;\">         400</td><td style=\"text-align: right;\">             3</td><td style=\"text-align: right;\">  1994</td><td style=\"text-align: right;\">      9</td><td style=\"text-align: right;\">          4</td><td style=\"text-align: right;\">     6</td><td style=\"text-align: right;\">             1</td><td style=\"text-align: right;\">                 3</td><td style=\"text-align: right;\">            10</td><td style=\"text-align: right;\">    1</td><td style=\"text-align: right;\">              1</td><td style=\"text-align: right;\">      0</td><td style=\"text-align: right;\">           4</td><td style=\"text-align: right;\">                1</td><td style=\"text-align: right;\">             5</td><td style=\"text-align: right;\">                     4</td><td style=\"text-align: right;\">                  3</td><td style=\"text-align: right;\">                   1</td><td style=\"text-align: right;\">             6</td><td style=\"text-align: right;\">                  6</td><td style=\"text-align: right;\">                  1</td><td style=\"text-align: right;\">               0</td><td style=\"text-align: right;\">          1</td><td style=\"text-align: right;\">                    0</td><td style=\"text-align: right;\">                    0</td><td style=\"text-align: right;\">             0</td><td style=\"text-align: right;\">           1</td></tr>\n",
       "<tr><td style=\"text-align: right;\">            5</td><td style=\"text-align: right;\">                   2</td><td style=\"text-align: right;\">   27</td><td style=\"text-align: right;\">             5</td><td style=\"text-align: right;\">          3</td><td style=\"text-align: right;\">         400</td><td style=\"text-align: right;\">             1</td><td style=\"text-align: right;\">  1994</td><td style=\"text-align: right;\">      0</td><td style=\"text-align: right;\">          0</td><td style=\"text-align: right;\">     6</td><td style=\"text-align: right;\">             1</td><td style=\"text-align: right;\">                 1</td><td style=\"text-align: right;\">             1</td><td style=\"text-align: right;\">    0</td><td style=\"text-align: right;\">              0</td><td style=\"text-align: right;\">      1</td><td style=\"text-align: right;\">           4</td><td style=\"text-align: right;\">                1</td><td style=\"text-align: right;\">             5</td><td style=\"text-align: right;\">                     4</td><td style=\"text-align: right;\">                  3</td><td style=\"text-align: right;\">                   0</td><td style=\"text-align: right;\">             4</td><td style=\"text-align: right;\">                  4</td><td style=\"text-align: right;\">                  1</td><td style=\"text-align: right;\">               0</td><td style=\"text-align: right;\">          1</td><td style=\"text-align: right;\">                    0</td><td style=\"text-align: right;\">                    0</td><td style=\"text-align: right;\">             0</td><td style=\"text-align: right;\">           1</td></tr>\n",
       "<tr><td style=\"text-align: right;\">            4</td><td style=\"text-align: right;\">                   1</td><td style=\"text-align: right;\">   20</td><td style=\"text-align: right;\">             6</td><td style=\"text-align: right;\">         12</td><td style=\"text-align: right;\">         400</td><td style=\"text-align: right;\">             3</td><td style=\"text-align: right;\">  1994</td><td style=\"text-align: right;\">      9</td><td style=\"text-align: right;\">          4</td><td style=\"text-align: right;\">     6</td><td style=\"text-align: right;\">             1</td><td style=\"text-align: right;\">                 2</td><td style=\"text-align: right;\">            10</td><td style=\"text-align: right;\">    1</td><td style=\"text-align: right;\">              0</td><td style=\"text-align: right;\">      1</td><td style=\"text-align: right;\">           4</td><td style=\"text-align: right;\">                1</td><td style=\"text-align: right;\">             5</td><td style=\"text-align: right;\">                     4</td><td style=\"text-align: right;\">                  3</td><td style=\"text-align: right;\">                   0</td><td style=\"text-align: right;\">             4</td><td style=\"text-align: right;\">                  2</td><td style=\"text-align: right;\">                  1</td><td style=\"text-align: right;\">               0</td><td style=\"text-align: right;\">          1</td><td style=\"text-align: right;\">                    2</td><td style=\"text-align: right;\">                    0</td><td style=\"text-align: right;\">             0</td><td style=\"text-align: right;\">           1</td></tr>\n",
       "<tr><td style=\"text-align: right;\">            1</td><td style=\"text-align: right;\">                   3</td><td style=\"text-align: right;\">   36</td><td style=\"text-align: right;\">             7</td><td style=\"text-align: right;\">         14</td><td style=\"text-align: right;\">         400</td><td style=\"text-align: right;\">             1</td><td style=\"text-align: right;\">  1994</td><td style=\"text-align: right;\">      1</td><td style=\"text-align: right;\">          5</td><td style=\"text-align: right;\">     6</td><td style=\"text-align: right;\">             1</td><td style=\"text-align: right;\">                 0</td><td style=\"text-align: right;\">             1</td><td style=\"text-align: right;\">    1</td><td style=\"text-align: right;\">              1</td><td style=\"text-align: right;\">      1</td><td style=\"text-align: right;\">           4</td><td style=\"text-align: right;\">                1</td><td style=\"text-align: right;\">             5</td><td style=\"text-align: right;\">                     4</td><td style=\"text-align: right;\">                  3</td><td style=\"text-align: right;\">                   1</td><td style=\"text-align: right;\">             6</td><td style=\"text-align: right;\">                  5</td><td style=\"text-align: right;\">                  1</td><td style=\"text-align: right;\">               0</td><td style=\"text-align: right;\">          1</td><td style=\"text-align: right;\">                    1</td><td style=\"text-align: right;\">                    0</td><td style=\"text-align: right;\">             0</td><td style=\"text-align: right;\">           1</td></tr>\n",
       "<tr><td style=\"text-align: right;\">            1</td><td style=\"text-align: right;\">                   4</td><td style=\"text-align: right;\">    0</td><td style=\"text-align: right;\">             8</td><td style=\"text-align: right;\">          1</td><td style=\"text-align: right;\">         400</td><td style=\"text-align: right;\">             4</td><td style=\"text-align: right;\">  1994</td><td style=\"text-align: right;\">     10</td><td style=\"text-align: right;\">          4</td><td style=\"text-align: right;\">     6</td><td style=\"text-align: right;\">             1</td><td style=\"text-align: right;\">                 1</td><td style=\"text-align: right;\">             2</td><td style=\"text-align: right;\">    1</td><td style=\"text-align: right;\">              0</td><td style=\"text-align: right;\">      0</td><td style=\"text-align: right;\">           4</td><td style=\"text-align: right;\">                1</td><td style=\"text-align: right;\">             5</td><td style=\"text-align: right;\">                     4</td><td style=\"text-align: right;\">                  3</td><td style=\"text-align: right;\">                   1</td><td style=\"text-align: right;\">             0</td><td style=\"text-align: right;\">                  0</td><td style=\"text-align: right;\">                  1</td><td style=\"text-align: right;\">               0</td><td style=\"text-align: right;\">          1</td><td style=\"text-align: right;\">                    0</td><td style=\"text-align: right;\">                    0</td><td style=\"text-align: right;\">             0</td><td style=\"text-align: right;\">           1</td></tr>\n",
       "<tr><td style=\"text-align: right;\">            4</td><td style=\"text-align: right;\">                   5</td><td style=\"text-align: right;\">   30</td><td style=\"text-align: right;\">             9</td><td style=\"text-align: right;\">          7</td><td style=\"text-align: right;\">         400</td><td style=\"text-align: right;\">             4</td><td style=\"text-align: right;\">  1994</td><td style=\"text-align: right;\">     11</td><td style=\"text-align: right;\">          5</td><td style=\"text-align: right;\">     6</td><td style=\"text-align: right;\">             1</td><td style=\"text-align: right;\">                 2</td><td style=\"text-align: right;\">            11</td><td style=\"text-align: right;\">    1</td><td style=\"text-align: right;\">              0</td><td style=\"text-align: right;\">      0</td><td style=\"text-align: right;\">           4</td><td style=\"text-align: right;\">                1</td><td style=\"text-align: right;\">             5</td><td style=\"text-align: right;\">                     4</td><td style=\"text-align: right;\">                  3</td><td style=\"text-align: right;\">                   0</td><td style=\"text-align: right;\">             5</td><td style=\"text-align: right;\">                  4</td><td style=\"text-align: right;\">                  1</td><td style=\"text-align: right;\">               1</td><td style=\"text-align: right;\">          1</td><td style=\"text-align: right;\">                    2</td><td style=\"text-align: right;\">                    0</td><td style=\"text-align: right;\">             0</td><td style=\"text-align: right;\">           1</td></tr>\n",
       "<tr><td style=\"text-align: right;\">            2</td><td style=\"text-align: right;\">                   3</td><td style=\"text-align: right;\">   71</td><td style=\"text-align: right;\">            11</td><td style=\"text-align: right;\">          7</td><td style=\"text-align: right;\">         400</td><td style=\"text-align: right;\">             3</td><td style=\"text-align: right;\">  1994</td><td style=\"text-align: right;\">      2</td><td style=\"text-align: right;\">          6</td><td style=\"text-align: right;\">     9</td><td style=\"text-align: right;\">             1</td><td style=\"text-align: right;\">                 2</td><td style=\"text-align: right;\">             2</td><td style=\"text-align: right;\">    1</td><td style=\"text-align: right;\">              0</td><td style=\"text-align: right;\">      0</td><td style=\"text-align: right;\">           1</td><td style=\"text-align: right;\">                0</td><td style=\"text-align: right;\">             5</td><td style=\"text-align: right;\">                     4</td><td style=\"text-align: right;\">                  3</td><td style=\"text-align: right;\">                   0</td><td style=\"text-align: right;\">             7</td><td style=\"text-align: right;\">                  8</td><td style=\"text-align: right;\">                  1</td><td style=\"text-align: right;\">               0</td><td style=\"text-align: right;\">          1</td><td style=\"text-align: right;\">                    0</td><td style=\"text-align: right;\">                    0</td><td style=\"text-align: right;\">             0</td><td style=\"text-align: right;\">           0</td></tr>\n",
       "<tr><td style=\"text-align: right;\">            5</td><td style=\"text-align: right;\">                   5</td><td style=\"text-align: right;\">   52</td><td style=\"text-align: right;\">            12</td><td style=\"text-align: right;\">         13</td><td style=\"text-align: right;\">         400</td><td style=\"text-align: right;\">             1</td><td style=\"text-align: right;\">  1994</td><td style=\"text-align: right;\">      2</td><td style=\"text-align: right;\">          0</td><td style=\"text-align: right;\">     6</td><td style=\"text-align: right;\">             1</td><td style=\"text-align: right;\">                 0</td><td style=\"text-align: right;\">             2</td><td style=\"text-align: right;\">    1</td><td style=\"text-align: right;\">              1</td><td style=\"text-align: right;\">      0</td><td style=\"text-align: right;\">           2</td><td style=\"text-align: right;\">                1</td><td style=\"text-align: right;\">             1</td><td style=\"text-align: right;\">                     4</td><td style=\"text-align: right;\">                  3</td><td style=\"text-align: right;\">                   2</td><td style=\"text-align: right;\">             7</td><td style=\"text-align: right;\">                  6</td><td style=\"text-align: right;\">                  1</td><td style=\"text-align: right;\">               0</td><td style=\"text-align: right;\">          1</td><td style=\"text-align: right;\">                    0</td><td style=\"text-align: right;\">                    0</td><td style=\"text-align: right;\">             0</td><td style=\"text-align: right;\">           2</td></tr>\n",
       "<tr><td style=\"text-align: right;\">            3</td><td style=\"text-align: right;\">                   3</td><td style=\"text-align: right;\">   28</td><td style=\"text-align: right;\">            13</td><td style=\"text-align: right;\">         11</td><td style=\"text-align: right;\">         400</td><td style=\"text-align: right;\">             1</td><td style=\"text-align: right;\">  1994</td><td style=\"text-align: right;\">      0</td><td style=\"text-align: right;\">          4</td><td style=\"text-align: right;\">     5</td><td style=\"text-align: right;\">             1</td><td style=\"text-align: right;\">                 4</td><td style=\"text-align: right;\">             0</td><td style=\"text-align: right;\">    1</td><td style=\"text-align: right;\">              1</td><td style=\"text-align: right;\">      0</td><td style=\"text-align: right;\">           2</td><td style=\"text-align: right;\">                1</td><td style=\"text-align: right;\">             5</td><td style=\"text-align: right;\">                     4</td><td style=\"text-align: right;\">                  3</td><td style=\"text-align: right;\">                   1</td><td style=\"text-align: right;\">             6</td><td style=\"text-align: right;\">                  4</td><td style=\"text-align: right;\">                  1</td><td style=\"text-align: right;\">               0</td><td style=\"text-align: right;\">          1</td><td style=\"text-align: right;\">                    0</td><td style=\"text-align: right;\">                    0</td><td style=\"text-align: right;\">             0</td><td style=\"text-align: right;\">           2</td></tr>\n",
       "</tbody>\n",
       "</table>"
      ]
     },
     "metadata": {},
     "output_type": "display_data"
    },
    {
     "data": {
      "text/plain": []
     },
     "execution_count": 6,
     "metadata": {},
     "output_type": "execute_result"
    }
   ],
   "source": [
    "train[0:-1].head()"
   ]
  },
  {
   "cell_type": "code",
   "execution_count": 7,
   "metadata": {},
   "outputs": [],
   "source": [
    "X_train = train[0:-1].as_data_frame().as_matrix()\n",
    "y_train = train[-1].as_data_frame().as_matrix()"
   ]
  },
  {
   "cell_type": "code",
   "execution_count": 8,
   "metadata": {},
   "outputs": [
    {
     "name": "stderr",
     "output_type": "stream",
     "text": [
      "/usr/local/lib/python3.6/dist-packages/sklearn/utils/validation.py:578: DataConversionWarning: A column-vector y was passed when a 1d array was expected. Please change the shape of y to (n_samples, ), for example using ravel().\n",
      "  y = column_or_1d(y, warn=True)\n"
     ]
    }
   ],
   "source": [
    "from imblearn.over_sampling import SMOTE\n",
    "# Apply SMOTE's\n",
    "kind = 'regular'\n",
    "sm = SMOTE(kind='regular')\n",
    "X_res, y_res = sm.fit_sample(X_train, y_train)"
   ]
  },
  {
   "cell_type": "code",
   "execution_count": 10,
   "metadata": {},
   "outputs": [],
   "source": [
    "p = np.c_[X_res,y_res]\n",
    "train = pd.DataFrame(p, columns = ['WeekOfMonth', 'WeekOfMonthClaimed', 'Age',\n",
    "       'PolicyNumber', 'RepNumber', 'Deductible', 'DriverRating', 'Year',\n",
    "       'Month', 'DayOfWeek', 'Make', 'AccidentArea', 'DayOfWeekClaimed',\n",
    "       'MonthClaimed', 'Sex', 'MaritalStatus', 'Fault', 'PolicyType',\n",
    "       'VehicleCategory', 'VehiclePrice', 'Days_Policy_Accident',\n",
    "       'Days_Policy_Claim', 'PastNumberOfClaims', 'AgeOfVehicle',\n",
    "       'AgeOfPolicyHolder', 'PoliceReportFiled', 'WitnessPresent', 'AgentType',\n",
    "       'NumberOfSuppliments', 'AddressChange_Claim', 'NumberOfCars',\n",
    "       'BasePolicy', 'FraudFound_P'])"
   ]
  },
  {
   "cell_type": "code",
   "execution_count": 11,
   "metadata": {},
   "outputs": [
    {
     "data": {
      "text/html": [
       "<div>\n",
       "<style scoped>\n",
       "    .dataframe tbody tr th:only-of-type {\n",
       "        vertical-align: middle;\n",
       "    }\n",
       "\n",
       "    .dataframe tbody tr th {\n",
       "        vertical-align: top;\n",
       "    }\n",
       "\n",
       "    .dataframe thead th {\n",
       "        text-align: right;\n",
       "    }\n",
       "</style>\n",
       "<table border=\"1\" class=\"dataframe\">\n",
       "  <thead>\n",
       "    <tr style=\"text-align: right;\">\n",
       "      <th></th>\n",
       "      <th>WeekOfMonth</th>\n",
       "      <th>WeekOfMonthClaimed</th>\n",
       "      <th>Age</th>\n",
       "      <th>PolicyNumber</th>\n",
       "      <th>RepNumber</th>\n",
       "      <th>Deductible</th>\n",
       "      <th>DriverRating</th>\n",
       "      <th>Year</th>\n",
       "      <th>Month</th>\n",
       "      <th>DayOfWeek</th>\n",
       "      <th>...</th>\n",
       "      <th>AgeOfVehicle</th>\n",
       "      <th>AgeOfPolicyHolder</th>\n",
       "      <th>PoliceReportFiled</th>\n",
       "      <th>WitnessPresent</th>\n",
       "      <th>AgentType</th>\n",
       "      <th>NumberOfSuppliments</th>\n",
       "      <th>AddressChange_Claim</th>\n",
       "      <th>NumberOfCars</th>\n",
       "      <th>BasePolicy</th>\n",
       "      <th>FraudFound_P</th>\n",
       "    </tr>\n",
       "  </thead>\n",
       "  <tbody>\n",
       "    <tr>\n",
       "      <th>0</th>\n",
       "      <td>3.0</td>\n",
       "      <td>4.0</td>\n",
       "      <td>34.0</td>\n",
       "      <td>2.0</td>\n",
       "      <td>15.0</td>\n",
       "      <td>400.0</td>\n",
       "      <td>4.0</td>\n",
       "      <td>1994.0</td>\n",
       "      <td>0.0</td>\n",
       "      <td>2.0</td>\n",
       "      <td>...</td>\n",
       "      <td>5.0</td>\n",
       "      <td>4.0</td>\n",
       "      <td>0.0</td>\n",
       "      <td>0.0</td>\n",
       "      <td>1.0</td>\n",
       "      <td>0.0</td>\n",
       "      <td>0.0</td>\n",
       "      <td>0.0</td>\n",
       "      <td>1.0</td>\n",
       "      <td>0.0</td>\n",
       "    </tr>\n",
       "    <tr>\n",
       "      <th>1</th>\n",
       "      <td>5.0</td>\n",
       "      <td>2.0</td>\n",
       "      <td>47.0</td>\n",
       "      <td>3.0</td>\n",
       "      <td>7.0</td>\n",
       "      <td>400.0</td>\n",
       "      <td>3.0</td>\n",
       "      <td>1994.0</td>\n",
       "      <td>9.0</td>\n",
       "      <td>4.0</td>\n",
       "      <td>...</td>\n",
       "      <td>6.0</td>\n",
       "      <td>6.0</td>\n",
       "      <td>1.0</td>\n",
       "      <td>0.0</td>\n",
       "      <td>1.0</td>\n",
       "      <td>0.0</td>\n",
       "      <td>0.0</td>\n",
       "      <td>0.0</td>\n",
       "      <td>1.0</td>\n",
       "      <td>0.0</td>\n",
       "    </tr>\n",
       "    <tr>\n",
       "      <th>2</th>\n",
       "      <td>5.0</td>\n",
       "      <td>2.0</td>\n",
       "      <td>27.0</td>\n",
       "      <td>5.0</td>\n",
       "      <td>3.0</td>\n",
       "      <td>400.0</td>\n",
       "      <td>1.0</td>\n",
       "      <td>1994.0</td>\n",
       "      <td>0.0</td>\n",
       "      <td>0.0</td>\n",
       "      <td>...</td>\n",
       "      <td>4.0</td>\n",
       "      <td>4.0</td>\n",
       "      <td>1.0</td>\n",
       "      <td>0.0</td>\n",
       "      <td>1.0</td>\n",
       "      <td>0.0</td>\n",
       "      <td>0.0</td>\n",
       "      <td>0.0</td>\n",
       "      <td>1.0</td>\n",
       "      <td>0.0</td>\n",
       "    </tr>\n",
       "    <tr>\n",
       "      <th>3</th>\n",
       "      <td>4.0</td>\n",
       "      <td>1.0</td>\n",
       "      <td>20.0</td>\n",
       "      <td>6.0</td>\n",
       "      <td>12.0</td>\n",
       "      <td>400.0</td>\n",
       "      <td>3.0</td>\n",
       "      <td>1994.0</td>\n",
       "      <td>9.0</td>\n",
       "      <td>4.0</td>\n",
       "      <td>...</td>\n",
       "      <td>4.0</td>\n",
       "      <td>2.0</td>\n",
       "      <td>1.0</td>\n",
       "      <td>0.0</td>\n",
       "      <td>1.0</td>\n",
       "      <td>2.0</td>\n",
       "      <td>0.0</td>\n",
       "      <td>0.0</td>\n",
       "      <td>1.0</td>\n",
       "      <td>0.0</td>\n",
       "    </tr>\n",
       "    <tr>\n",
       "      <th>4</th>\n",
       "      <td>1.0</td>\n",
       "      <td>3.0</td>\n",
       "      <td>36.0</td>\n",
       "      <td>7.0</td>\n",
       "      <td>14.0</td>\n",
       "      <td>400.0</td>\n",
       "      <td>1.0</td>\n",
       "      <td>1994.0</td>\n",
       "      <td>1.0</td>\n",
       "      <td>5.0</td>\n",
       "      <td>...</td>\n",
       "      <td>6.0</td>\n",
       "      <td>5.0</td>\n",
       "      <td>1.0</td>\n",
       "      <td>0.0</td>\n",
       "      <td>1.0</td>\n",
       "      <td>1.0</td>\n",
       "      <td>0.0</td>\n",
       "      <td>0.0</td>\n",
       "      <td>1.0</td>\n",
       "      <td>0.0</td>\n",
       "    </tr>\n",
       "  </tbody>\n",
       "</table>\n",
       "<p>5 rows × 33 columns</p>\n",
       "</div>"
      ],
      "text/plain": [
       "   WeekOfMonth  WeekOfMonthClaimed   Age  PolicyNumber  RepNumber  Deductible  \\\n",
       "0          3.0                 4.0  34.0           2.0       15.0       400.0   \n",
       "1          5.0                 2.0  47.0           3.0        7.0       400.0   \n",
       "2          5.0                 2.0  27.0           5.0        3.0       400.0   \n",
       "3          4.0                 1.0  20.0           6.0       12.0       400.0   \n",
       "4          1.0                 3.0  36.0           7.0       14.0       400.0   \n",
       "\n",
       "   DriverRating    Year  Month  DayOfWeek      ...       AgeOfVehicle  \\\n",
       "0           4.0  1994.0    0.0        2.0      ...                5.0   \n",
       "1           3.0  1994.0    9.0        4.0      ...                6.0   \n",
       "2           1.0  1994.0    0.0        0.0      ...                4.0   \n",
       "3           3.0  1994.0    9.0        4.0      ...                4.0   \n",
       "4           1.0  1994.0    1.0        5.0      ...                6.0   \n",
       "\n",
       "   AgeOfPolicyHolder  PoliceReportFiled  WitnessPresent  AgentType  \\\n",
       "0                4.0                0.0             0.0        1.0   \n",
       "1                6.0                1.0             0.0        1.0   \n",
       "2                4.0                1.0             0.0        1.0   \n",
       "3                2.0                1.0             0.0        1.0   \n",
       "4                5.0                1.0             0.0        1.0   \n",
       "\n",
       "   NumberOfSuppliments  AddressChange_Claim  NumberOfCars  BasePolicy  \\\n",
       "0                  0.0                  0.0           0.0         1.0   \n",
       "1                  0.0                  0.0           0.0         1.0   \n",
       "2                  0.0                  0.0           0.0         1.0   \n",
       "3                  2.0                  0.0           0.0         1.0   \n",
       "4                  1.0                  0.0           0.0         1.0   \n",
       "\n",
       "   FraudFound_P  \n",
       "0           0.0  \n",
       "1           0.0  \n",
       "2           0.0  \n",
       "3           0.0  \n",
       "4           0.0  \n",
       "\n",
       "[5 rows x 33 columns]"
      ]
     },
     "execution_count": 11,
     "metadata": {},
     "output_type": "execute_result"
    }
   ],
   "source": [
    "train.head()"
   ]
  },
  {
   "cell_type": "code",
   "execution_count": 12,
   "metadata": {},
   "outputs": [
    {
     "ename": "AttributeError",
     "evalue": "'DataFrame' object has no attribute 'names'",
     "output_type": "error",
     "traceback": [
      "\u001b[0;31m---------------------------------------------------------------------------\u001b[0m",
      "\u001b[0;31mAttributeError\u001b[0m                            Traceback (most recent call last)",
      "\u001b[0;32m<ipython-input-12-8eab79b06632>\u001b[0m in \u001b[0;36m<module>\u001b[0;34m()\u001b[0m\n\u001b[1;32m     23\u001b[0m                 \u001b[0mvalidation_frame\u001b[0m\u001b[0;34m=\u001b[0m\u001b[0mvalid\u001b[0m\u001b[0;34m,\u001b[0m\u001b[0;34m\u001b[0m\u001b[0m\n\u001b[1;32m     24\u001b[0m                 \u001b[0mntrees\u001b[0m\u001b[0;34m=\u001b[0m\u001b[0;36m100\u001b[0m\u001b[0;34m,\u001b[0m\u001b[0;34m\u001b[0m\u001b[0m\n\u001b[0;32m---> 25\u001b[0;31m                 seed=1)\n\u001b[0m\u001b[1;32m     26\u001b[0m \u001b[0mgbm_gridperf2\u001b[0m \u001b[0;34m=\u001b[0m \u001b[0mgbm_grid2\u001b[0m\u001b[0;34m.\u001b[0m\u001b[0mget_grid\u001b[0m\u001b[0;34m(\u001b[0m\u001b[0msort_by\u001b[0m\u001b[0;34m=\u001b[0m\u001b[0;34m'auc'\u001b[0m\u001b[0;34m,\u001b[0m \u001b[0mdecreasing\u001b[0m\u001b[0;34m=\u001b[0m\u001b[0;32mTrue\u001b[0m\u001b[0;34m)\u001b[0m\u001b[0;34m\u001b[0m\u001b[0m\n\u001b[1;32m     27\u001b[0m \u001b[0mgbm_gridperf2\u001b[0m\u001b[0;34m\u001b[0m\u001b[0m\n",
      "\u001b[0;32m/usr/local/lib/python3.6/dist-packages/h2o/grid/grid_search.py\u001b[0m in \u001b[0;36mtrain\u001b[0;34m(self, x, y, training_frame, offset_column, fold_column, weights_column, validation_frame, **params)\u001b[0m\n\u001b[1;32m    201\u001b[0m                     \u001b[0mxset\u001b[0m\u001b[0;34m.\u001b[0m\u001b[0madd\u001b[0m\u001b[0;34m(\u001b[0m\u001b[0mtraining_frame\u001b[0m\u001b[0;34m.\u001b[0m\u001b[0mnames\u001b[0m\u001b[0;34m[\u001b[0m\u001b[0mxi\u001b[0m\u001b[0;34m]\u001b[0m\u001b[0;34m)\u001b[0m\u001b[0;34m\u001b[0m\u001b[0m\n\u001b[1;32m    202\u001b[0m                 \u001b[0;32melse\u001b[0m\u001b[0;34m:\u001b[0m\u001b[0;34m\u001b[0m\u001b[0m\n\u001b[0;32m--> 203\u001b[0;31m                     \u001b[0;32mif\u001b[0m \u001b[0mxi\u001b[0m \u001b[0;32mnot\u001b[0m \u001b[0;32min\u001b[0m \u001b[0mtraining_frame\u001b[0m\u001b[0;34m.\u001b[0m\u001b[0mnames\u001b[0m\u001b[0;34m:\u001b[0m\u001b[0;34m\u001b[0m\u001b[0m\n\u001b[0m\u001b[1;32m    204\u001b[0m                         \u001b[0;32mraise\u001b[0m \u001b[0mH2OValueError\u001b[0m\u001b[0;34m(\u001b[0m\u001b[0;34m\"Column %s not in the training frame\"\u001b[0m \u001b[0;34m%\u001b[0m \u001b[0mxi\u001b[0m\u001b[0;34m)\u001b[0m\u001b[0;34m\u001b[0m\u001b[0m\n\u001b[1;32m    205\u001b[0m                     \u001b[0mxset\u001b[0m\u001b[0;34m.\u001b[0m\u001b[0madd\u001b[0m\u001b[0;34m(\u001b[0m\u001b[0mxi\u001b[0m\u001b[0;34m)\u001b[0m\u001b[0;34m\u001b[0m\u001b[0m\n",
      "\u001b[0;32m/usr/lib/python3/dist-packages/pandas/core/generic.py\u001b[0m in \u001b[0;36m__getattr__\u001b[0;34m(self, name)\u001b[0m\n\u001b[1;32m   3612\u001b[0m             \u001b[0;32mif\u001b[0m \u001b[0mname\u001b[0m \u001b[0;32min\u001b[0m \u001b[0mself\u001b[0m\u001b[0;34m.\u001b[0m\u001b[0m_info_axis\u001b[0m\u001b[0;34m:\u001b[0m\u001b[0;34m\u001b[0m\u001b[0m\n\u001b[1;32m   3613\u001b[0m                 \u001b[0;32mreturn\u001b[0m \u001b[0mself\u001b[0m\u001b[0;34m[\u001b[0m\u001b[0mname\u001b[0m\u001b[0;34m]\u001b[0m\u001b[0;34m\u001b[0m\u001b[0m\n\u001b[0;32m-> 3614\u001b[0;31m             \u001b[0;32mreturn\u001b[0m \u001b[0mobject\u001b[0m\u001b[0;34m.\u001b[0m\u001b[0m__getattribute__\u001b[0m\u001b[0;34m(\u001b[0m\u001b[0mself\u001b[0m\u001b[0;34m,\u001b[0m \u001b[0mname\u001b[0m\u001b[0;34m)\u001b[0m\u001b[0;34m\u001b[0m\u001b[0m\n\u001b[0m\u001b[1;32m   3615\u001b[0m \u001b[0;34m\u001b[0m\u001b[0m\n\u001b[1;32m   3616\u001b[0m     \u001b[0;32mdef\u001b[0m \u001b[0m__setattr__\u001b[0m\u001b[0;34m(\u001b[0m\u001b[0mself\u001b[0m\u001b[0;34m,\u001b[0m \u001b[0mname\u001b[0m\u001b[0;34m,\u001b[0m \u001b[0mvalue\u001b[0m\u001b[0;34m)\u001b[0m\u001b[0;34m:\u001b[0m\u001b[0;34m\u001b[0m\u001b[0m\n",
      "\u001b[0;31mAttributeError\u001b[0m: 'DataFrame' object has no attribute 'names'"
     ]
    }
   ],
   "source": [
    "from h2o.grid.grid_search import H2OGridSearch\n",
    "\n",
    "# select the values for `balance_classes` to grid over\n",
    "gbm_params2 = {'learn_rate': [0.01, 0.02, 0.03, 0.04, 0.05, 0.06, 0.07, 0.08, 0.09, 0.1],\n",
    "                'max_depth': [2, 3, 4, 5, 6, 7, 8, 9, 10],\n",
    "                'sample_rate': [0.5, 0.6000000000000001, 0.7000000000000001, 0.8, 0.9, 1.0],\n",
    "                'col_sample_rate': [0.1, 0.2, 0.30000000000000004, 0.4, 0.5, 0.6000000000000001, 0.7000000000000001, 0.8, 0.9, 1.0]}\n",
    "\n",
    "search_criteria = {\"strategy\": \"RandomDiscrete\", \"max_models\": 36, \"seed\": 1}\n",
    "\n",
    "# this example uses cartesian grid search because the search space is small\n",
    "# and we want to see the performance of all models. For a larger search space use\n",
    "# random grid search instead: {'strategy': \"RandomDiscrete\"}\n",
    "# initialize the GBM estimator\n",
    "\n",
    "gbm_grid2 = H2OGridSearch(model=H2OGradientBoostingEstimator,\n",
    "                          grid_id='gbm_grid2',\n",
    "                          hyper_params=gbm_params2,\n",
    "                          search_criteria=search_criteria)\n",
    "\n",
    "gbm_grid2.train(x=predictors, y=response,\n",
    "                training_frame=train,\n",
    "                validation_frame=valid,\n",
    "                ntrees=100,\n",
    "                seed=1)\n",
    "gbm_gridperf2 = gbm_grid2.get_grid(sort_by='auc', decreasing=True)\n",
    "gbm_gridperf2\n",
    "\n",
    "best_gbm2 = gbm_gridperf2.models[0]\n",
    "\n",
    "best_gbm_perf2 = best_gbm2.model_performance(test)\n",
    "\n",
    "best_gbm_perf2.auc() "
   ]
  },
  {
   "cell_type": "code",
   "execution_count": null,
   "metadata": {},
   "outputs": [],
   "source": [
    "gbm_grid2.confusion_matrix()"
   ]
  },
  {
   "cell_type": "code",
   "execution_count": null,
   "metadata": {},
   "outputs": [],
   "source": [
    "from h2o.grid.grid_search import H2OGridSearch\n",
    "\n",
    "estimator = H2ORandomForestEstimator(\n",
    "    # Stops fitting new trees when 10-tree rolling average is within 0.00001\n",
    "    stopping_rounds = 10,\n",
    "    stopping_tolerance = 0.00001,\n",
    "    stopping_metric = 'auto',\n",
    "    score_each_iteration = True,\n",
    "    balance_classes = True,\n",
    "    seed = 7)\n",
    "\n",
    "hyper_parameters = {'ntrees':[5, 10, 20, 30, 40, 50, 60, 70, 80, 90, 100], \n",
    "                    'max_depth':[5, 10, 20, 30, 40, 50, 60, 70, 80, 90, 100]}\n",
    "\n",
    "criteria = {\"strategy\": \"RandomDiscrete\", \n",
    "            \"stopping_rounds\": 10,\n",
    "            \"stopping_tolerance\": 0.00001,\n",
    "            \"stopping_metric\": \"misclassification\"}\n",
    "\n",
    "grid_search = H2OGridSearch(model = estimator, \n",
    "                            hyper_params = hyper_parameters,\n",
    "                            search_criteria = criteria)"
   ]
  },
  {
   "cell_type": "code",
   "execution_count": null,
   "metadata": {},
   "outputs": [],
   "source": [
    "grid_search.train(x=predictors, y=response,\n",
    "                training_frame=train,\n",
    "                validation_frame=valid)"
   ]
  },
  {
   "cell_type": "code",
   "execution_count": null,
   "metadata": {},
   "outputs": [],
   "source": [
    "gbm_gridperf2 = grid_search.get_grid(sort_by='auc', decreasing=True)\n",
    "gbm_gridperf2\n",
    "\n",
    "best_gbm2 = gbm_gridperf2.models[0]\n",
    "\n",
    "best_gbm_perf2 = best_gbm2.model_performance(test)\n",
    "\n",
    "best_gbm_perf2.auc() "
   ]
  },
  {
   "cell_type": "code",
   "execution_count": null,
   "metadata": {},
   "outputs": [],
   "source": [
    "grid_search.confusion_matrix()"
   ]
  },
  {
   "cell_type": "code",
   "execution_count": null,
   "metadata": {},
   "outputs": [],
   "source": []
  }
 ],
 "metadata": {
  "kernelspec": {
   "display_name": "Python 3",
   "language": "python",
   "name": "python3"
  },
  "language_info": {
   "codemirror_mode": {
    "name": "ipython",
    "version": 3
   },
   "file_extension": ".py",
   "mimetype": "text/x-python",
   "name": "python",
   "nbconvert_exporter": "python",
   "pygments_lexer": "ipython3",
   "version": "3.6.5"
  }
 },
 "nbformat": 4,
 "nbformat_minor": 2
}
