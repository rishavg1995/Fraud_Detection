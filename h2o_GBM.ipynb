{
 "cells": [
  {
   "cell_type": "code",
   "execution_count": 1,
   "metadata": {},
   "outputs": [
    {
     "name": "stdout",
     "output_type": "stream",
     "text": [
      "Checking whether there is an H2O instance running at http://localhost:54321..... not found.\n",
      "Attempting to start a local H2O server...\n",
      "  Java Version: java version \"1.8.0_171\"; Java(TM) SE Runtime Environment (build 1.8.0_171-b11); Java HotSpot(TM) 64-Bit Server VM (build 25.171-b11, mixed mode)\n",
      "  Starting server from /usr/local/lib/python3.6/dist-packages/h2o/backend/bin/h2o.jar\n",
      "  Ice root: /tmp/tmp91b6hfmt\n",
      "  JVM stdout: /tmp/tmp91b6hfmt/h2o_rishav_started_from_python.out\n",
      "  JVM stderr: /tmp/tmp91b6hfmt/h2o_rishav_started_from_python.err\n",
      "  Server is running at http://127.0.0.1:54321\n",
      "Connecting to H2O server at http://127.0.0.1:54321... successful.\n"
     ]
    },
    {
     "data": {
      "text/html": [
       "<div style=\"overflow:auto\"><table style=\"width:50%\"><tr><td>H2O cluster uptime:</td>\n",
       "<td>02 secs</td></tr>\n",
       "<tr><td>H2O cluster timezone:</td>\n",
       "<td>Asia/Kolkata</td></tr>\n",
       "<tr><td>H2O data parsing timezone:</td>\n",
       "<td>UTC</td></tr>\n",
       "<tr><td>H2O cluster version:</td>\n",
       "<td>3.18.0.10</td></tr>\n",
       "<tr><td>H2O cluster version age:</td>\n",
       "<td>3 days </td></tr>\n",
       "<tr><td>H2O cluster name:</td>\n",
       "<td>H2O_from_python_rishav_miiyum</td></tr>\n",
       "<tr><td>H2O cluster total nodes:</td>\n",
       "<td>1</td></tr>\n",
       "<tr><td>H2O cluster free memory:</td>\n",
       "<td>1.681 Gb</td></tr>\n",
       "<tr><td>H2O cluster total cores:</td>\n",
       "<td>4</td></tr>\n",
       "<tr><td>H2O cluster allowed cores:</td>\n",
       "<td>4</td></tr>\n",
       "<tr><td>H2O cluster status:</td>\n",
       "<td>accepting new members, healthy</td></tr>\n",
       "<tr><td>H2O connection url:</td>\n",
       "<td>http://127.0.0.1:54321</td></tr>\n",
       "<tr><td>H2O connection proxy:</td>\n",
       "<td>None</td></tr>\n",
       "<tr><td>H2O internal security:</td>\n",
       "<td>False</td></tr>\n",
       "<tr><td>H2O API Extensions:</td>\n",
       "<td>XGBoost, Algos, AutoML, Core V3, Core V4</td></tr>\n",
       "<tr><td>Python version:</td>\n",
       "<td>3.6.5 final</td></tr></table></div>"
      ],
      "text/plain": [
       "--------------------------  ----------------------------------------\n",
       "H2O cluster uptime:         02 secs\n",
       "H2O cluster timezone:       Asia/Kolkata\n",
       "H2O data parsing timezone:  UTC\n",
       "H2O cluster version:        3.18.0.10\n",
       "H2O cluster version age:    3 days\n",
       "H2O cluster name:           H2O_from_python_rishav_miiyum\n",
       "H2O cluster total nodes:    1\n",
       "H2O cluster free memory:    1.681 Gb\n",
       "H2O cluster total cores:    4\n",
       "H2O cluster allowed cores:  4\n",
       "H2O cluster status:         accepting new members, healthy\n",
       "H2O connection url:         http://127.0.0.1:54321\n",
       "H2O connection proxy:\n",
       "H2O internal security:      False\n",
       "H2O API Extensions:         XGBoost, Algos, AutoML, Core V3, Core V4\n",
       "Python version:             3.6.5 final\n",
       "--------------------------  ----------------------------------------"
      ]
     },
     "metadata": {},
     "output_type": "display_data"
    },
    {
     "data": {
      "text/html": [
       "<div style=\"overflow:auto\"><table style=\"width:50%\"><tr><td>H2O cluster uptime:</td>\n",
       "<td>02 secs</td></tr>\n",
       "<tr><td>H2O cluster timezone:</td>\n",
       "<td>Asia/Kolkata</td></tr>\n",
       "<tr><td>H2O data parsing timezone:</td>\n",
       "<td>UTC</td></tr>\n",
       "<tr><td>H2O cluster version:</td>\n",
       "<td>3.18.0.10</td></tr>\n",
       "<tr><td>H2O cluster version age:</td>\n",
       "<td>3 days </td></tr>\n",
       "<tr><td>H2O cluster name:</td>\n",
       "<td>H2O_from_python_rishav_miiyum</td></tr>\n",
       "<tr><td>H2O cluster total nodes:</td>\n",
       "<td>1</td></tr>\n",
       "<tr><td>H2O cluster free memory:</td>\n",
       "<td>1.681 Gb</td></tr>\n",
       "<tr><td>H2O cluster total cores:</td>\n",
       "<td>4</td></tr>\n",
       "<tr><td>H2O cluster allowed cores:</td>\n",
       "<td>4</td></tr>\n",
       "<tr><td>H2O cluster status:</td>\n",
       "<td>accepting new members, healthy</td></tr>\n",
       "<tr><td>H2O connection url:</td>\n",
       "<td>http://127.0.0.1:54321</td></tr>\n",
       "<tr><td>H2O connection proxy:</td>\n",
       "<td>None</td></tr>\n",
       "<tr><td>H2O internal security:</td>\n",
       "<td>False</td></tr>\n",
       "<tr><td>H2O API Extensions:</td>\n",
       "<td>XGBoost, Algos, AutoML, Core V3, Core V4</td></tr>\n",
       "<tr><td>Python version:</td>\n",
       "<td>3.6.5 final</td></tr></table></div>"
      ],
      "text/plain": [
       "--------------------------  ----------------------------------------\n",
       "H2O cluster uptime:         02 secs\n",
       "H2O cluster timezone:       Asia/Kolkata\n",
       "H2O data parsing timezone:  UTC\n",
       "H2O cluster version:        3.18.0.10\n",
       "H2O cluster version age:    3 days\n",
       "H2O cluster name:           H2O_from_python_rishav_miiyum\n",
       "H2O cluster total nodes:    1\n",
       "H2O cluster free memory:    1.681 Gb\n",
       "H2O cluster total cores:    4\n",
       "H2O cluster allowed cores:  4\n",
       "H2O cluster status:         accepting new members, healthy\n",
       "H2O connection url:         http://127.0.0.1:54321\n",
       "H2O connection proxy:\n",
       "H2O internal security:      False\n",
       "H2O API Extensions:         XGBoost, Algos, AutoML, Core V3, Core V4\n",
       "Python version:             3.6.5 final\n",
       "--------------------------  ----------------------------------------"
      ]
     },
     "metadata": {},
     "output_type": "display_data"
    }
   ],
   "source": [
    "import h2o\n",
    "from h2o.estimators.gbm import H2OGradientBoostingEstimator\n",
    "h2o.init()\n",
    "h2o.cluster().show_status()"
   ]
  },
  {
   "cell_type": "code",
   "execution_count": 2,
   "metadata": {},
   "outputs": [
    {
     "name": "stdout",
     "output_type": "stream",
     "text": [
      "Parse progress: |█████████████████████████████████████████████████████████| 100%\n"
     ]
    }
   ],
   "source": [
    "df = h2o.import_file(\"Claims1.csv\")"
   ]
  },
  {
   "cell_type": "code",
   "execution_count": 3,
   "metadata": {},
   "outputs": [
    {
     "data": {
      "text/html": [
       "<table>\n",
       "<thead>\n",
       "<tr><th style=\"text-align: right;\">  WeekOfMonth</th><th style=\"text-align: right;\">  WeekOfMonthClaimed</th><th style=\"text-align: right;\">  Age</th><th style=\"text-align: right;\">  FraudFound_P</th><th style=\"text-align: right;\">  PolicyNumber</th><th style=\"text-align: right;\">  RepNumber</th><th style=\"text-align: right;\">  Deductible</th><th style=\"text-align: right;\">  DriverRating</th><th style=\"text-align: right;\">  Year</th><th style=\"text-align: right;\">  Month</th><th style=\"text-align: right;\">  DayOfWeek</th><th style=\"text-align: right;\">  Make</th><th style=\"text-align: right;\">  AccidentArea</th><th style=\"text-align: right;\">  DayOfWeekClaimed</th><th style=\"text-align: right;\">  MonthClaimed</th><th style=\"text-align: right;\">  Sex</th><th style=\"text-align: right;\">  MaritalStatus</th><th style=\"text-align: right;\">  Fault</th><th style=\"text-align: right;\">  PolicyType</th><th style=\"text-align: right;\">  VehicleCategory</th><th style=\"text-align: right;\">  VehiclePrice</th><th style=\"text-align: right;\">  Days_Policy_Accident</th><th style=\"text-align: right;\">  Days_Policy_Claim</th><th style=\"text-align: right;\">  PastNumberOfClaims</th><th style=\"text-align: right;\">  AgeOfVehicle</th><th style=\"text-align: right;\">  AgeOfPolicyHolder</th><th style=\"text-align: right;\">  PoliceReportFiled</th><th style=\"text-align: right;\">  WitnessPresent</th><th style=\"text-align: right;\">  AgentType</th><th style=\"text-align: right;\">  NumberOfSuppliments</th><th style=\"text-align: right;\">  AddressChange_Claim</th><th style=\"text-align: right;\">  NumberOfCars</th><th style=\"text-align: right;\">  BasePolicy</th></tr>\n",
       "</thead>\n",
       "<tbody>\n",
       "<tr><td style=\"text-align: right;\">            5</td><td style=\"text-align: right;\">                   1</td><td style=\"text-align: right;\">   21</td><td style=\"text-align: right;\">             0</td><td style=\"text-align: right;\">             1</td><td style=\"text-align: right;\">         12</td><td style=\"text-align: right;\">         300</td><td style=\"text-align: right;\">             1</td><td style=\"text-align: right;\">  1994</td><td style=\"text-align: right;\">     11</td><td style=\"text-align: right;\">          2</td><td style=\"text-align: right;\">     6</td><td style=\"text-align: right;\">             1</td><td style=\"text-align: right;\">                 1</td><td style=\"text-align: right;\">             0</td><td style=\"text-align: right;\">    0</td><td style=\"text-align: right;\">              0</td><td style=\"text-align: right;\">      0</td><td style=\"text-align: right;\">           5</td><td style=\"text-align: right;\">                1</td><td style=\"text-align: right;\">             5</td><td style=\"text-align: right;\">                     4</td><td style=\"text-align: right;\">                  3</td><td style=\"text-align: right;\">                   0</td><td style=\"text-align: right;\">             2</td><td style=\"text-align: right;\">                  3</td><td style=\"text-align: right;\">                  1</td><td style=\"text-align: right;\">               0</td><td style=\"text-align: right;\">          1</td><td style=\"text-align: right;\">                    0</td><td style=\"text-align: right;\">                    1</td><td style=\"text-align: right;\">             2</td><td style=\"text-align: right;\">           2</td></tr>\n",
       "<tr><td style=\"text-align: right;\">            3</td><td style=\"text-align: right;\">                   4</td><td style=\"text-align: right;\">   34</td><td style=\"text-align: right;\">             0</td><td style=\"text-align: right;\">             2</td><td style=\"text-align: right;\">         15</td><td style=\"text-align: right;\">         400</td><td style=\"text-align: right;\">             4</td><td style=\"text-align: right;\">  1994</td><td style=\"text-align: right;\">      0</td><td style=\"text-align: right;\">          2</td><td style=\"text-align: right;\">     6</td><td style=\"text-align: right;\">             1</td><td style=\"text-align: right;\">                 0</td><td style=\"text-align: right;\">             0</td><td style=\"text-align: right;\">    1</td><td style=\"text-align: right;\">              0</td><td style=\"text-align: right;\">      0</td><td style=\"text-align: right;\">           4</td><td style=\"text-align: right;\">                1</td><td style=\"text-align: right;\">             5</td><td style=\"text-align: right;\">                     4</td><td style=\"text-align: right;\">                  3</td><td style=\"text-align: right;\">                   0</td><td style=\"text-align: right;\">             5</td><td style=\"text-align: right;\">                  4</td><td style=\"text-align: right;\">                  0</td><td style=\"text-align: right;\">               0</td><td style=\"text-align: right;\">          1</td><td style=\"text-align: right;\">                    0</td><td style=\"text-align: right;\">                    0</td><td style=\"text-align: right;\">             0</td><td style=\"text-align: right;\">           1</td></tr>\n",
       "<tr><td style=\"text-align: right;\">            5</td><td style=\"text-align: right;\">                   2</td><td style=\"text-align: right;\">   47</td><td style=\"text-align: right;\">             0</td><td style=\"text-align: right;\">             3</td><td style=\"text-align: right;\">          7</td><td style=\"text-align: right;\">         400</td><td style=\"text-align: right;\">             3</td><td style=\"text-align: right;\">  1994</td><td style=\"text-align: right;\">      9</td><td style=\"text-align: right;\">          4</td><td style=\"text-align: right;\">     6</td><td style=\"text-align: right;\">             1</td><td style=\"text-align: right;\">                 3</td><td style=\"text-align: right;\">            10</td><td style=\"text-align: right;\">    1</td><td style=\"text-align: right;\">              1</td><td style=\"text-align: right;\">      0</td><td style=\"text-align: right;\">           4</td><td style=\"text-align: right;\">                1</td><td style=\"text-align: right;\">             5</td><td style=\"text-align: right;\">                     4</td><td style=\"text-align: right;\">                  3</td><td style=\"text-align: right;\">                   1</td><td style=\"text-align: right;\">             6</td><td style=\"text-align: right;\">                  6</td><td style=\"text-align: right;\">                  1</td><td style=\"text-align: right;\">               0</td><td style=\"text-align: right;\">          1</td><td style=\"text-align: right;\">                    0</td><td style=\"text-align: right;\">                    0</td><td style=\"text-align: right;\">             0</td><td style=\"text-align: right;\">           1</td></tr>\n",
       "<tr><td style=\"text-align: right;\">            2</td><td style=\"text-align: right;\">                   1</td><td style=\"text-align: right;\">   65</td><td style=\"text-align: right;\">             0</td><td style=\"text-align: right;\">             4</td><td style=\"text-align: right;\">          4</td><td style=\"text-align: right;\">         400</td><td style=\"text-align: right;\">             2</td><td style=\"text-align: right;\">  1994</td><td style=\"text-align: right;\">      6</td><td style=\"text-align: right;\">          5</td><td style=\"text-align: right;\">    17</td><td style=\"text-align: right;\">             0</td><td style=\"text-align: right;\">                 4</td><td style=\"text-align: right;\">             6</td><td style=\"text-align: right;\">    1</td><td style=\"text-align: right;\">              1</td><td style=\"text-align: right;\">      1</td><td style=\"text-align: right;\">           2</td><td style=\"text-align: right;\">                1</td><td style=\"text-align: right;\">             1</td><td style=\"text-align: right;\">                     4</td><td style=\"text-align: right;\">                  3</td><td style=\"text-align: right;\">                   1</td><td style=\"text-align: right;\">             7</td><td style=\"text-align: right;\">                  7</td><td style=\"text-align: right;\">                  0</td><td style=\"text-align: right;\">               0</td><td style=\"text-align: right;\">          1</td><td style=\"text-align: right;\">                    3</td><td style=\"text-align: right;\">                    0</td><td style=\"text-align: right;\">             0</td><td style=\"text-align: right;\">           2</td></tr>\n",
       "<tr><td style=\"text-align: right;\">            5</td><td style=\"text-align: right;\">                   2</td><td style=\"text-align: right;\">   27</td><td style=\"text-align: right;\">             0</td><td style=\"text-align: right;\">             5</td><td style=\"text-align: right;\">          3</td><td style=\"text-align: right;\">         400</td><td style=\"text-align: right;\">             1</td><td style=\"text-align: right;\">  1994</td><td style=\"text-align: right;\">      0</td><td style=\"text-align: right;\">          0</td><td style=\"text-align: right;\">     6</td><td style=\"text-align: right;\">             1</td><td style=\"text-align: right;\">                 1</td><td style=\"text-align: right;\">             1</td><td style=\"text-align: right;\">    0</td><td style=\"text-align: right;\">              0</td><td style=\"text-align: right;\">      1</td><td style=\"text-align: right;\">           4</td><td style=\"text-align: right;\">                1</td><td style=\"text-align: right;\">             5</td><td style=\"text-align: right;\">                     4</td><td style=\"text-align: right;\">                  3</td><td style=\"text-align: right;\">                   0</td><td style=\"text-align: right;\">             4</td><td style=\"text-align: right;\">                  4</td><td style=\"text-align: right;\">                  1</td><td style=\"text-align: right;\">               0</td><td style=\"text-align: right;\">          1</td><td style=\"text-align: right;\">                    0</td><td style=\"text-align: right;\">                    0</td><td style=\"text-align: right;\">             0</td><td style=\"text-align: right;\">           1</td></tr>\n",
       "<tr><td style=\"text-align: right;\">            4</td><td style=\"text-align: right;\">                   1</td><td style=\"text-align: right;\">   20</td><td style=\"text-align: right;\">             0</td><td style=\"text-align: right;\">             6</td><td style=\"text-align: right;\">         12</td><td style=\"text-align: right;\">         400</td><td style=\"text-align: right;\">             3</td><td style=\"text-align: right;\">  1994</td><td style=\"text-align: right;\">      9</td><td style=\"text-align: right;\">          4</td><td style=\"text-align: right;\">     6</td><td style=\"text-align: right;\">             1</td><td style=\"text-align: right;\">                 2</td><td style=\"text-align: right;\">            10</td><td style=\"text-align: right;\">    1</td><td style=\"text-align: right;\">              0</td><td style=\"text-align: right;\">      1</td><td style=\"text-align: right;\">           4</td><td style=\"text-align: right;\">                1</td><td style=\"text-align: right;\">             5</td><td style=\"text-align: right;\">                     4</td><td style=\"text-align: right;\">                  3</td><td style=\"text-align: right;\">                   0</td><td style=\"text-align: right;\">             4</td><td style=\"text-align: right;\">                  2</td><td style=\"text-align: right;\">                  1</td><td style=\"text-align: right;\">               0</td><td style=\"text-align: right;\">          1</td><td style=\"text-align: right;\">                    2</td><td style=\"text-align: right;\">                    0</td><td style=\"text-align: right;\">             0</td><td style=\"text-align: right;\">           1</td></tr>\n",
       "<tr><td style=\"text-align: right;\">            1</td><td style=\"text-align: right;\">                   3</td><td style=\"text-align: right;\">   36</td><td style=\"text-align: right;\">             0</td><td style=\"text-align: right;\">             7</td><td style=\"text-align: right;\">         14</td><td style=\"text-align: right;\">         400</td><td style=\"text-align: right;\">             1</td><td style=\"text-align: right;\">  1994</td><td style=\"text-align: right;\">      1</td><td style=\"text-align: right;\">          5</td><td style=\"text-align: right;\">     6</td><td style=\"text-align: right;\">             1</td><td style=\"text-align: right;\">                 0</td><td style=\"text-align: right;\">             1</td><td style=\"text-align: right;\">    1</td><td style=\"text-align: right;\">              1</td><td style=\"text-align: right;\">      1</td><td style=\"text-align: right;\">           4</td><td style=\"text-align: right;\">                1</td><td style=\"text-align: right;\">             5</td><td style=\"text-align: right;\">                     4</td><td style=\"text-align: right;\">                  3</td><td style=\"text-align: right;\">                   1</td><td style=\"text-align: right;\">             6</td><td style=\"text-align: right;\">                  5</td><td style=\"text-align: right;\">                  1</td><td style=\"text-align: right;\">               0</td><td style=\"text-align: right;\">          1</td><td style=\"text-align: right;\">                    1</td><td style=\"text-align: right;\">                    0</td><td style=\"text-align: right;\">             0</td><td style=\"text-align: right;\">           1</td></tr>\n",
       "<tr><td style=\"text-align: right;\">            1</td><td style=\"text-align: right;\">                   4</td><td style=\"text-align: right;\">    0</td><td style=\"text-align: right;\">             0</td><td style=\"text-align: right;\">             8</td><td style=\"text-align: right;\">          1</td><td style=\"text-align: right;\">         400</td><td style=\"text-align: right;\">             4</td><td style=\"text-align: right;\">  1994</td><td style=\"text-align: right;\">     10</td><td style=\"text-align: right;\">          4</td><td style=\"text-align: right;\">     6</td><td style=\"text-align: right;\">             1</td><td style=\"text-align: right;\">                 1</td><td style=\"text-align: right;\">             2</td><td style=\"text-align: right;\">    1</td><td style=\"text-align: right;\">              0</td><td style=\"text-align: right;\">      0</td><td style=\"text-align: right;\">           4</td><td style=\"text-align: right;\">                1</td><td style=\"text-align: right;\">             5</td><td style=\"text-align: right;\">                     4</td><td style=\"text-align: right;\">                  3</td><td style=\"text-align: right;\">                   1</td><td style=\"text-align: right;\">             0</td><td style=\"text-align: right;\">                  0</td><td style=\"text-align: right;\">                  1</td><td style=\"text-align: right;\">               0</td><td style=\"text-align: right;\">          1</td><td style=\"text-align: right;\">                    0</td><td style=\"text-align: right;\">                    0</td><td style=\"text-align: right;\">             0</td><td style=\"text-align: right;\">           1</td></tr>\n",
       "<tr><td style=\"text-align: right;\">            4</td><td style=\"text-align: right;\">                   5</td><td style=\"text-align: right;\">   30</td><td style=\"text-align: right;\">             0</td><td style=\"text-align: right;\">             9</td><td style=\"text-align: right;\">          7</td><td style=\"text-align: right;\">         400</td><td style=\"text-align: right;\">             4</td><td style=\"text-align: right;\">  1994</td><td style=\"text-align: right;\">     11</td><td style=\"text-align: right;\">          5</td><td style=\"text-align: right;\">     6</td><td style=\"text-align: right;\">             1</td><td style=\"text-align: right;\">                 2</td><td style=\"text-align: right;\">            11</td><td style=\"text-align: right;\">    1</td><td style=\"text-align: right;\">              0</td><td style=\"text-align: right;\">      0</td><td style=\"text-align: right;\">           4</td><td style=\"text-align: right;\">                1</td><td style=\"text-align: right;\">             5</td><td style=\"text-align: right;\">                     4</td><td style=\"text-align: right;\">                  3</td><td style=\"text-align: right;\">                   0</td><td style=\"text-align: right;\">             5</td><td style=\"text-align: right;\">                  4</td><td style=\"text-align: right;\">                  1</td><td style=\"text-align: right;\">               1</td><td style=\"text-align: right;\">          1</td><td style=\"text-align: right;\">                    2</td><td style=\"text-align: right;\">                    0</td><td style=\"text-align: right;\">             0</td><td style=\"text-align: right;\">           1</td></tr>\n",
       "<tr><td style=\"text-align: right;\">            3</td><td style=\"text-align: right;\">                   3</td><td style=\"text-align: right;\">   42</td><td style=\"text-align: right;\">             0</td><td style=\"text-align: right;\">            10</td><td style=\"text-align: right;\">          7</td><td style=\"text-align: right;\">         400</td><td style=\"text-align: right;\">             1</td><td style=\"text-align: right;\">  1994</td><td style=\"text-align: right;\">      3</td><td style=\"text-align: right;\">          1</td><td style=\"text-align: right;\">     5</td><td style=\"text-align: right;\">             1</td><td style=\"text-align: right;\">                 2</td><td style=\"text-align: right;\">             3</td><td style=\"text-align: right;\">    1</td><td style=\"text-align: right;\">              1</td><td style=\"text-align: right;\">      0</td><td style=\"text-align: right;\">           6</td><td style=\"text-align: right;\">                2</td><td style=\"text-align: right;\">             5</td><td style=\"text-align: right;\">                     4</td><td style=\"text-align: right;\">                  3</td><td style=\"text-align: right;\">                   2</td><td style=\"text-align: right;\">             7</td><td style=\"text-align: right;\">                  5</td><td style=\"text-align: right;\">                  1</td><td style=\"text-align: right;\">               0</td><td style=\"text-align: right;\">          1</td><td style=\"text-align: right;\">                    2</td><td style=\"text-align: right;\">                    0</td><td style=\"text-align: right;\">             0</td><td style=\"text-align: right;\">           0</td></tr>\n",
       "</tbody>\n",
       "</table>"
      ]
     },
     "metadata": {},
     "output_type": "display_data"
    },
    {
     "data": {
      "text/plain": []
     },
     "execution_count": 3,
     "metadata": {},
     "output_type": "execute_result"
    }
   ],
   "source": [
    "df.head()"
   ]
  },
  {
   "cell_type": "code",
   "execution_count": 4,
   "metadata": {},
   "outputs": [],
   "source": [
    "cols = list(df.columns)\n",
    "cols.pop(cols.index('FraudFound_P'))\n",
    "df = df[cols+['FraudFound_P']]"
   ]
  },
  {
   "cell_type": "code",
   "execution_count": 5,
   "metadata": {},
   "outputs": [],
   "source": [
    "df[32] = df[32].asfactor()\n",
    "predictors = df.columns[0:32]\n",
    "response = 'FraudFound_P'"
   ]
  },
  {
   "cell_type": "code",
   "execution_count": 6,
   "metadata": {},
   "outputs": [
    {
     "data": {
      "text/html": [
       "<table>\n",
       "<thead>\n",
       "<tr><th style=\"text-align: right;\">  WeekOfMonth</th><th style=\"text-align: right;\">  WeekOfMonthClaimed</th><th style=\"text-align: right;\">  Age</th><th style=\"text-align: right;\">  PolicyNumber</th><th style=\"text-align: right;\">  RepNumber</th><th style=\"text-align: right;\">  Deductible</th><th style=\"text-align: right;\">  DriverRating</th><th style=\"text-align: right;\">  Year</th><th style=\"text-align: right;\">  Month</th><th style=\"text-align: right;\">  DayOfWeek</th><th style=\"text-align: right;\">  Make</th><th style=\"text-align: right;\">  AccidentArea</th><th style=\"text-align: right;\">  DayOfWeekClaimed</th><th style=\"text-align: right;\">  MonthClaimed</th><th style=\"text-align: right;\">  Sex</th><th style=\"text-align: right;\">  MaritalStatus</th><th style=\"text-align: right;\">  Fault</th><th style=\"text-align: right;\">  PolicyType</th><th style=\"text-align: right;\">  VehicleCategory</th><th style=\"text-align: right;\">  VehiclePrice</th><th style=\"text-align: right;\">  Days_Policy_Accident</th><th style=\"text-align: right;\">  Days_Policy_Claim</th><th style=\"text-align: right;\">  PastNumberOfClaims</th><th style=\"text-align: right;\">  AgeOfVehicle</th><th style=\"text-align: right;\">  AgeOfPolicyHolder</th><th style=\"text-align: right;\">  PoliceReportFiled</th><th style=\"text-align: right;\">  WitnessPresent</th><th style=\"text-align: right;\">  AgentType</th><th style=\"text-align: right;\">  NumberOfSuppliments</th><th style=\"text-align: right;\">  AddressChange_Claim</th><th style=\"text-align: right;\">  NumberOfCars</th><th style=\"text-align: right;\">  BasePolicy</th><th style=\"text-align: right;\">  FraudFound_P</th></tr>\n",
       "</thead>\n",
       "<tbody>\n",
       "<tr><td style=\"text-align: right;\">            5</td><td style=\"text-align: right;\">                   1</td><td style=\"text-align: right;\">   21</td><td style=\"text-align: right;\">             1</td><td style=\"text-align: right;\">         12</td><td style=\"text-align: right;\">         300</td><td style=\"text-align: right;\">             1</td><td style=\"text-align: right;\">  1994</td><td style=\"text-align: right;\">     11</td><td style=\"text-align: right;\">          2</td><td style=\"text-align: right;\">     6</td><td style=\"text-align: right;\">             1</td><td style=\"text-align: right;\">                 1</td><td style=\"text-align: right;\">             0</td><td style=\"text-align: right;\">    0</td><td style=\"text-align: right;\">              0</td><td style=\"text-align: right;\">      0</td><td style=\"text-align: right;\">           5</td><td style=\"text-align: right;\">                1</td><td style=\"text-align: right;\">             5</td><td style=\"text-align: right;\">                     4</td><td style=\"text-align: right;\">                  3</td><td style=\"text-align: right;\">                   0</td><td style=\"text-align: right;\">             2</td><td style=\"text-align: right;\">                  3</td><td style=\"text-align: right;\">                  1</td><td style=\"text-align: right;\">               0</td><td style=\"text-align: right;\">          1</td><td style=\"text-align: right;\">                    0</td><td style=\"text-align: right;\">                    1</td><td style=\"text-align: right;\">             2</td><td style=\"text-align: right;\">           2</td><td style=\"text-align: right;\">             0</td></tr>\n",
       "<tr><td style=\"text-align: right;\">            3</td><td style=\"text-align: right;\">                   4</td><td style=\"text-align: right;\">   34</td><td style=\"text-align: right;\">             2</td><td style=\"text-align: right;\">         15</td><td style=\"text-align: right;\">         400</td><td style=\"text-align: right;\">             4</td><td style=\"text-align: right;\">  1994</td><td style=\"text-align: right;\">      0</td><td style=\"text-align: right;\">          2</td><td style=\"text-align: right;\">     6</td><td style=\"text-align: right;\">             1</td><td style=\"text-align: right;\">                 0</td><td style=\"text-align: right;\">             0</td><td style=\"text-align: right;\">    1</td><td style=\"text-align: right;\">              0</td><td style=\"text-align: right;\">      0</td><td style=\"text-align: right;\">           4</td><td style=\"text-align: right;\">                1</td><td style=\"text-align: right;\">             5</td><td style=\"text-align: right;\">                     4</td><td style=\"text-align: right;\">                  3</td><td style=\"text-align: right;\">                   0</td><td style=\"text-align: right;\">             5</td><td style=\"text-align: right;\">                  4</td><td style=\"text-align: right;\">                  0</td><td style=\"text-align: right;\">               0</td><td style=\"text-align: right;\">          1</td><td style=\"text-align: right;\">                    0</td><td style=\"text-align: right;\">                    0</td><td style=\"text-align: right;\">             0</td><td style=\"text-align: right;\">           1</td><td style=\"text-align: right;\">             0</td></tr>\n",
       "<tr><td style=\"text-align: right;\">            5</td><td style=\"text-align: right;\">                   2</td><td style=\"text-align: right;\">   47</td><td style=\"text-align: right;\">             3</td><td style=\"text-align: right;\">          7</td><td style=\"text-align: right;\">         400</td><td style=\"text-align: right;\">             3</td><td style=\"text-align: right;\">  1994</td><td style=\"text-align: right;\">      9</td><td style=\"text-align: right;\">          4</td><td style=\"text-align: right;\">     6</td><td style=\"text-align: right;\">             1</td><td style=\"text-align: right;\">                 3</td><td style=\"text-align: right;\">            10</td><td style=\"text-align: right;\">    1</td><td style=\"text-align: right;\">              1</td><td style=\"text-align: right;\">      0</td><td style=\"text-align: right;\">           4</td><td style=\"text-align: right;\">                1</td><td style=\"text-align: right;\">             5</td><td style=\"text-align: right;\">                     4</td><td style=\"text-align: right;\">                  3</td><td style=\"text-align: right;\">                   1</td><td style=\"text-align: right;\">             6</td><td style=\"text-align: right;\">                  6</td><td style=\"text-align: right;\">                  1</td><td style=\"text-align: right;\">               0</td><td style=\"text-align: right;\">          1</td><td style=\"text-align: right;\">                    0</td><td style=\"text-align: right;\">                    0</td><td style=\"text-align: right;\">             0</td><td style=\"text-align: right;\">           1</td><td style=\"text-align: right;\">             0</td></tr>\n",
       "<tr><td style=\"text-align: right;\">            2</td><td style=\"text-align: right;\">                   1</td><td style=\"text-align: right;\">   65</td><td style=\"text-align: right;\">             4</td><td style=\"text-align: right;\">          4</td><td style=\"text-align: right;\">         400</td><td style=\"text-align: right;\">             2</td><td style=\"text-align: right;\">  1994</td><td style=\"text-align: right;\">      6</td><td style=\"text-align: right;\">          5</td><td style=\"text-align: right;\">    17</td><td style=\"text-align: right;\">             0</td><td style=\"text-align: right;\">                 4</td><td style=\"text-align: right;\">             6</td><td style=\"text-align: right;\">    1</td><td style=\"text-align: right;\">              1</td><td style=\"text-align: right;\">      1</td><td style=\"text-align: right;\">           2</td><td style=\"text-align: right;\">                1</td><td style=\"text-align: right;\">             1</td><td style=\"text-align: right;\">                     4</td><td style=\"text-align: right;\">                  3</td><td style=\"text-align: right;\">                   1</td><td style=\"text-align: right;\">             7</td><td style=\"text-align: right;\">                  7</td><td style=\"text-align: right;\">                  0</td><td style=\"text-align: right;\">               0</td><td style=\"text-align: right;\">          1</td><td style=\"text-align: right;\">                    3</td><td style=\"text-align: right;\">                    0</td><td style=\"text-align: right;\">             0</td><td style=\"text-align: right;\">           2</td><td style=\"text-align: right;\">             0</td></tr>\n",
       "<tr><td style=\"text-align: right;\">            5</td><td style=\"text-align: right;\">                   2</td><td style=\"text-align: right;\">   27</td><td style=\"text-align: right;\">             5</td><td style=\"text-align: right;\">          3</td><td style=\"text-align: right;\">         400</td><td style=\"text-align: right;\">             1</td><td style=\"text-align: right;\">  1994</td><td style=\"text-align: right;\">      0</td><td style=\"text-align: right;\">          0</td><td style=\"text-align: right;\">     6</td><td style=\"text-align: right;\">             1</td><td style=\"text-align: right;\">                 1</td><td style=\"text-align: right;\">             1</td><td style=\"text-align: right;\">    0</td><td style=\"text-align: right;\">              0</td><td style=\"text-align: right;\">      1</td><td style=\"text-align: right;\">           4</td><td style=\"text-align: right;\">                1</td><td style=\"text-align: right;\">             5</td><td style=\"text-align: right;\">                     4</td><td style=\"text-align: right;\">                  3</td><td style=\"text-align: right;\">                   0</td><td style=\"text-align: right;\">             4</td><td style=\"text-align: right;\">                  4</td><td style=\"text-align: right;\">                  1</td><td style=\"text-align: right;\">               0</td><td style=\"text-align: right;\">          1</td><td style=\"text-align: right;\">                    0</td><td style=\"text-align: right;\">                    0</td><td style=\"text-align: right;\">             0</td><td style=\"text-align: right;\">           1</td><td style=\"text-align: right;\">             0</td></tr>\n",
       "<tr><td style=\"text-align: right;\">            4</td><td style=\"text-align: right;\">                   1</td><td style=\"text-align: right;\">   20</td><td style=\"text-align: right;\">             6</td><td style=\"text-align: right;\">         12</td><td style=\"text-align: right;\">         400</td><td style=\"text-align: right;\">             3</td><td style=\"text-align: right;\">  1994</td><td style=\"text-align: right;\">      9</td><td style=\"text-align: right;\">          4</td><td style=\"text-align: right;\">     6</td><td style=\"text-align: right;\">             1</td><td style=\"text-align: right;\">                 2</td><td style=\"text-align: right;\">            10</td><td style=\"text-align: right;\">    1</td><td style=\"text-align: right;\">              0</td><td style=\"text-align: right;\">      1</td><td style=\"text-align: right;\">           4</td><td style=\"text-align: right;\">                1</td><td style=\"text-align: right;\">             5</td><td style=\"text-align: right;\">                     4</td><td style=\"text-align: right;\">                  3</td><td style=\"text-align: right;\">                   0</td><td style=\"text-align: right;\">             4</td><td style=\"text-align: right;\">                  2</td><td style=\"text-align: right;\">                  1</td><td style=\"text-align: right;\">               0</td><td style=\"text-align: right;\">          1</td><td style=\"text-align: right;\">                    2</td><td style=\"text-align: right;\">                    0</td><td style=\"text-align: right;\">             0</td><td style=\"text-align: right;\">           1</td><td style=\"text-align: right;\">             0</td></tr>\n",
       "<tr><td style=\"text-align: right;\">            1</td><td style=\"text-align: right;\">                   3</td><td style=\"text-align: right;\">   36</td><td style=\"text-align: right;\">             7</td><td style=\"text-align: right;\">         14</td><td style=\"text-align: right;\">         400</td><td style=\"text-align: right;\">             1</td><td style=\"text-align: right;\">  1994</td><td style=\"text-align: right;\">      1</td><td style=\"text-align: right;\">          5</td><td style=\"text-align: right;\">     6</td><td style=\"text-align: right;\">             1</td><td style=\"text-align: right;\">                 0</td><td style=\"text-align: right;\">             1</td><td style=\"text-align: right;\">    1</td><td style=\"text-align: right;\">              1</td><td style=\"text-align: right;\">      1</td><td style=\"text-align: right;\">           4</td><td style=\"text-align: right;\">                1</td><td style=\"text-align: right;\">             5</td><td style=\"text-align: right;\">                     4</td><td style=\"text-align: right;\">                  3</td><td style=\"text-align: right;\">                   1</td><td style=\"text-align: right;\">             6</td><td style=\"text-align: right;\">                  5</td><td style=\"text-align: right;\">                  1</td><td style=\"text-align: right;\">               0</td><td style=\"text-align: right;\">          1</td><td style=\"text-align: right;\">                    1</td><td style=\"text-align: right;\">                    0</td><td style=\"text-align: right;\">             0</td><td style=\"text-align: right;\">           1</td><td style=\"text-align: right;\">             0</td></tr>\n",
       "<tr><td style=\"text-align: right;\">            1</td><td style=\"text-align: right;\">                   4</td><td style=\"text-align: right;\">    0</td><td style=\"text-align: right;\">             8</td><td style=\"text-align: right;\">          1</td><td style=\"text-align: right;\">         400</td><td style=\"text-align: right;\">             4</td><td style=\"text-align: right;\">  1994</td><td style=\"text-align: right;\">     10</td><td style=\"text-align: right;\">          4</td><td style=\"text-align: right;\">     6</td><td style=\"text-align: right;\">             1</td><td style=\"text-align: right;\">                 1</td><td style=\"text-align: right;\">             2</td><td style=\"text-align: right;\">    1</td><td style=\"text-align: right;\">              0</td><td style=\"text-align: right;\">      0</td><td style=\"text-align: right;\">           4</td><td style=\"text-align: right;\">                1</td><td style=\"text-align: right;\">             5</td><td style=\"text-align: right;\">                     4</td><td style=\"text-align: right;\">                  3</td><td style=\"text-align: right;\">                   1</td><td style=\"text-align: right;\">             0</td><td style=\"text-align: right;\">                  0</td><td style=\"text-align: right;\">                  1</td><td style=\"text-align: right;\">               0</td><td style=\"text-align: right;\">          1</td><td style=\"text-align: right;\">                    0</td><td style=\"text-align: right;\">                    0</td><td style=\"text-align: right;\">             0</td><td style=\"text-align: right;\">           1</td><td style=\"text-align: right;\">             0</td></tr>\n",
       "<tr><td style=\"text-align: right;\">            4</td><td style=\"text-align: right;\">                   5</td><td style=\"text-align: right;\">   30</td><td style=\"text-align: right;\">             9</td><td style=\"text-align: right;\">          7</td><td style=\"text-align: right;\">         400</td><td style=\"text-align: right;\">             4</td><td style=\"text-align: right;\">  1994</td><td style=\"text-align: right;\">     11</td><td style=\"text-align: right;\">          5</td><td style=\"text-align: right;\">     6</td><td style=\"text-align: right;\">             1</td><td style=\"text-align: right;\">                 2</td><td style=\"text-align: right;\">            11</td><td style=\"text-align: right;\">    1</td><td style=\"text-align: right;\">              0</td><td style=\"text-align: right;\">      0</td><td style=\"text-align: right;\">           4</td><td style=\"text-align: right;\">                1</td><td style=\"text-align: right;\">             5</td><td style=\"text-align: right;\">                     4</td><td style=\"text-align: right;\">                  3</td><td style=\"text-align: right;\">                   0</td><td style=\"text-align: right;\">             5</td><td style=\"text-align: right;\">                  4</td><td style=\"text-align: right;\">                  1</td><td style=\"text-align: right;\">               1</td><td style=\"text-align: right;\">          1</td><td style=\"text-align: right;\">                    2</td><td style=\"text-align: right;\">                    0</td><td style=\"text-align: right;\">             0</td><td style=\"text-align: right;\">           1</td><td style=\"text-align: right;\">             0</td></tr>\n",
       "<tr><td style=\"text-align: right;\">            3</td><td style=\"text-align: right;\">                   3</td><td style=\"text-align: right;\">   42</td><td style=\"text-align: right;\">            10</td><td style=\"text-align: right;\">          7</td><td style=\"text-align: right;\">         400</td><td style=\"text-align: right;\">             1</td><td style=\"text-align: right;\">  1994</td><td style=\"text-align: right;\">      3</td><td style=\"text-align: right;\">          1</td><td style=\"text-align: right;\">     5</td><td style=\"text-align: right;\">             1</td><td style=\"text-align: right;\">                 2</td><td style=\"text-align: right;\">             3</td><td style=\"text-align: right;\">    1</td><td style=\"text-align: right;\">              1</td><td style=\"text-align: right;\">      0</td><td style=\"text-align: right;\">           6</td><td style=\"text-align: right;\">                2</td><td style=\"text-align: right;\">             5</td><td style=\"text-align: right;\">                     4</td><td style=\"text-align: right;\">                  3</td><td style=\"text-align: right;\">                   2</td><td style=\"text-align: right;\">             7</td><td style=\"text-align: right;\">                  5</td><td style=\"text-align: right;\">                  1</td><td style=\"text-align: right;\">               0</td><td style=\"text-align: right;\">          1</td><td style=\"text-align: right;\">                    2</td><td style=\"text-align: right;\">                    0</td><td style=\"text-align: right;\">             0</td><td style=\"text-align: right;\">           0</td><td style=\"text-align: right;\">             0</td></tr>\n",
       "</tbody>\n",
       "</table>"
      ]
     },
     "metadata": {},
     "output_type": "display_data"
    },
    {
     "data": {
      "text/plain": []
     },
     "execution_count": 6,
     "metadata": {},
     "output_type": "execute_result"
    }
   ],
   "source": [
    "df.head()"
   ]
  },
  {
   "cell_type": "code",
   "execution_count": 7,
   "metadata": {},
   "outputs": [],
   "source": [
    "# split into train and validation sets\n",
    "train, test, valid = df.split_frame(ratios=[.7, .15], seed = 1234)\n",
    "#train, valid = df.split_frame(ratios = [.8], seed = 1234)"
   ]
  },
  {
   "cell_type": "code",
   "execution_count": 8,
   "metadata": {},
   "outputs": [
    {
     "name": "stdout",
     "output_type": "stream",
     "text": [
      "gbm Model Build progress: |███████████████████████████████████████████████| 100%\n"
     ]
    }
   ],
   "source": [
    "cov_gbm = H2OGradientBoostingEstimator(balance_classes = True, seed = 1234)\n",
    "cov_gbm.train(x = predictors, y = response, training_frame = train, validation_frame = valid)"
   ]
  },
  {
   "cell_type": "code",
   "execution_count": 9,
   "metadata": {},
   "outputs": [
    {
     "name": "stdout",
     "output_type": "stream",
     "text": [
      "logloss 0.17216624958237026\n"
     ]
    }
   ],
   "source": [
    "print('logloss', cov_gbm.logloss(valid = True))"
   ]
  },
  {
   "cell_type": "code",
   "execution_count": 10,
   "metadata": {},
   "outputs": [
    {
     "name": "stdout",
     "output_type": "stream",
     "text": [
      "gbm prediction progress: |████████████████████████████████████████████████| 100%\n"
     ]
    },
    {
     "data": {
      "text/html": [
       "<table>\n",
       "<thead>\n",
       "<tr><th style=\"text-align: right;\">  predict</th><th style=\"text-align: right;\">      p0</th><th style=\"text-align: right;\">        p1</th></tr>\n",
       "</thead>\n",
       "<tbody>\n",
       "<tr><td style=\"text-align: right;\">        0</td><td style=\"text-align: right;\">0.997839</td><td style=\"text-align: right;\">0.0021608 </td></tr>\n",
       "<tr><td style=\"text-align: right;\">        0</td><td style=\"text-align: right;\">0.997858</td><td style=\"text-align: right;\">0.00214199</td></tr>\n",
       "<tr><td style=\"text-align: right;\">        0</td><td style=\"text-align: right;\">0.934785</td><td style=\"text-align: right;\">0.0652153 </td></tr>\n",
       "<tr><td style=\"text-align: right;\">        0</td><td style=\"text-align: right;\">0.997349</td><td style=\"text-align: right;\">0.00265093</td></tr>\n",
       "<tr><td style=\"text-align: right;\">        0</td><td style=\"text-align: right;\">0.880956</td><td style=\"text-align: right;\">0.119044  </td></tr>\n",
       "<tr><td style=\"text-align: right;\">        0</td><td style=\"text-align: right;\">0.93019 </td><td style=\"text-align: right;\">0.0698099 </td></tr>\n",
       "<tr><td style=\"text-align: right;\">        0</td><td style=\"text-align: right;\">0.997219</td><td style=\"text-align: right;\">0.00278147</td></tr>\n",
       "<tr><td style=\"text-align: right;\">        0</td><td style=\"text-align: right;\">0.948677</td><td style=\"text-align: right;\">0.0513225 </td></tr>\n",
       "<tr><td style=\"text-align: right;\">        0</td><td style=\"text-align: right;\">0.997785</td><td style=\"text-align: right;\">0.0022153 </td></tr>\n",
       "<tr><td style=\"text-align: right;\">        0</td><td style=\"text-align: right;\">0.998925</td><td style=\"text-align: right;\">0.0010746 </td></tr>\n",
       "</tbody>\n",
       "</table>"
      ]
     },
     "metadata": {},
     "output_type": "display_data"
    },
    {
     "data": {
      "text/plain": []
     },
     "execution_count": 10,
     "metadata": {},
     "output_type": "execute_result"
    }
   ],
   "source": [
    "cov_gbm.predict(test)"
   ]
  },
  {
   "cell_type": "code",
   "execution_count": 11,
   "metadata": {},
   "outputs": [
    {
     "name": "stdout",
     "output_type": "stream",
     "text": [
      "Confusion Matrix (Act/Pred) for max f1 @ threshold = 0.10239679651872233: \n"
     ]
    },
    {
     "data": {
      "text/html": [
       "<div style=\"overflow:auto\"><table style=\"width:50%\"><tr><td><b></b></td>\n",
       "<td><b>0</b></td>\n",
       "<td><b>1</b></td>\n",
       "<td><b>Error</b></td>\n",
       "<td><b>Rate</b></td></tr>\n",
       "<tr><td>0</td>\n",
       "<td>8852.0</td>\n",
       "<td>1324.0</td>\n",
       "<td>0.1301</td>\n",
       "<td> (1324.0/10176.0)</td></tr>\n",
       "<tr><td>1</td>\n",
       "<td>467.0</td>\n",
       "<td>9718.0</td>\n",
       "<td>0.0459</td>\n",
       "<td> (467.0/10185.0)</td></tr>\n",
       "<tr><td>Total</td>\n",
       "<td>9319.0</td>\n",
       "<td>11042.0</td>\n",
       "<td>0.088</td>\n",
       "<td> (1791.0/20361.0)</td></tr></table></div>"
      ],
      "text/plain": [
       "       0     1      Error    Rate\n",
       "-----  ----  -----  -------  ----------------\n",
       "0      8852  1324   0.1301   (1324.0/10176.0)\n",
       "1      467   9718   0.0459   (467.0/10185.0)\n",
       "Total  9319  11042  0.088    (1791.0/20361.0)"
      ]
     },
     "metadata": {},
     "output_type": "display_data"
    },
    {
     "data": {
      "text/plain": []
     },
     "execution_count": 11,
     "metadata": {},
     "output_type": "execute_result"
    }
   ],
   "source": [
    "cov_gbm.confusion_matrix()"
   ]
  },
  {
   "cell_type": "code",
   "execution_count": 12,
   "metadata": {},
   "outputs": [
    {
     "name": "stdout",
     "output_type": "stream",
     "text": [
      "Confusion Matrix (Act/Pred) for max min_per_class_accuracy @ threshold = 0.11402495182254359: \n"
     ]
    },
    {
     "data": {
      "text/html": [
       "<div style=\"overflow:auto\"><table style=\"width:50%\"><tr><td><b></b></td>\n",
       "<td><b>0</b></td>\n",
       "<td><b>1</b></td>\n",
       "<td><b>Error</b></td>\n",
       "<td><b>Rate</b></td></tr>\n",
       "<tr><td>0</td>\n",
       "<td>9189.0</td>\n",
       "<td>987.0</td>\n",
       "<td>0.097</td>\n",
       "<td> (987.0/10176.0)</td></tr>\n",
       "<tr><td>1</td>\n",
       "<td>978.0</td>\n",
       "<td>9207.0</td>\n",
       "<td>0.096</td>\n",
       "<td> (978.0/10185.0)</td></tr>\n",
       "<tr><td>Total</td>\n",
       "<td>10167.0</td>\n",
       "<td>10194.0</td>\n",
       "<td>0.0965</td>\n",
       "<td> (1965.0/20361.0)</td></tr></table></div>"
      ],
      "text/plain": [
       "       0      1      Error    Rate\n",
       "-----  -----  -----  -------  ----------------\n",
       "0      9189   987    0.097    (987.0/10176.0)\n",
       "1      978    9207   0.096    (978.0/10185.0)\n",
       "Total  10167  10194  0.0965   (1965.0/20361.0)"
      ]
     },
     "metadata": {},
     "output_type": "display_data"
    },
    {
     "data": {
      "text/plain": []
     },
     "execution_count": 12,
     "metadata": {},
     "output_type": "execute_result"
    }
   ],
   "source": [
    "cov_gbm.confusion_matrix(\"min_per_class_accuracy\")"
   ]
  },
  {
   "cell_type": "code",
   "execution_count": 13,
   "metadata": {},
   "outputs": [
    {
     "name": "stdout",
     "output_type": "stream",
     "text": [
      "Confusion Matrix (Act/Pred) for max accuracy @ threshold = 0.1059850381817552: \n"
     ]
    },
    {
     "data": {
      "text/html": [
       "<div style=\"overflow:auto\"><table style=\"width:50%\"><tr><td><b></b></td>\n",
       "<td><b>0</b></td>\n",
       "<td><b>1</b></td>\n",
       "<td><b>Error</b></td>\n",
       "<td><b>Rate</b></td></tr>\n",
       "<tr><td>0</td>\n",
       "<td>8969.0</td>\n",
       "<td>1207.0</td>\n",
       "<td>0.1186</td>\n",
       "<td> (1207.0/10176.0)</td></tr>\n",
       "<tr><td>1</td>\n",
       "<td>574.0</td>\n",
       "<td>9611.0</td>\n",
       "<td>0.0564</td>\n",
       "<td> (574.0/10185.0)</td></tr>\n",
       "<tr><td>Total</td>\n",
       "<td>9543.0</td>\n",
       "<td>10818.0</td>\n",
       "<td>0.0875</td>\n",
       "<td> (1781.0/20361.0)</td></tr></table></div>"
      ],
      "text/plain": [
       "       0     1      Error    Rate\n",
       "-----  ----  -----  -------  ----------------\n",
       "0      8969  1207   0.1186   (1207.0/10176.0)\n",
       "1      574   9611   0.0564   (574.0/10185.0)\n",
       "Total  9543  10818  0.0875   (1781.0/20361.0)"
      ]
     },
     "metadata": {},
     "output_type": "display_data"
    },
    {
     "data": {
      "text/plain": []
     },
     "execution_count": 13,
     "metadata": {},
     "output_type": "execute_result"
    }
   ],
   "source": [
    "cov_gbm.confusion_matrix(\"accuracy\")"
   ]
  },
  {
   "cell_type": "code",
   "execution_count": 14,
   "metadata": {},
   "outputs": [
    {
     "name": "stdout",
     "output_type": "stream",
     "text": [
      "Confusion Matrix (Act/Pred) for max precision @ threshold = 0.7637805278791207: \n"
     ]
    },
    {
     "data": {
      "text/html": [
       "<div style=\"overflow:auto\"><table style=\"width:50%\"><tr><td><b></b></td>\n",
       "<td><b>0</b></td>\n",
       "<td><b>1</b></td>\n",
       "<td><b>Error</b></td>\n",
       "<td><b>Rate</b></td></tr>\n",
       "<tr><td>0</td>\n",
       "<td>10176.0</td>\n",
       "<td>0.0</td>\n",
       "<td>0.0</td>\n",
       "<td> (0.0/10176.0)</td></tr>\n",
       "<tr><td>1</td>\n",
       "<td>10169.0</td>\n",
       "<td>16.0</td>\n",
       "<td>0.9984</td>\n",
       "<td> (10169.0/10185.0)</td></tr>\n",
       "<tr><td>Total</td>\n",
       "<td>20345.0</td>\n",
       "<td>16.0</td>\n",
       "<td>0.4994</td>\n",
       "<td> (10169.0/20361.0)</td></tr></table></div>"
      ],
      "text/plain": [
       "       0      1    Error    Rate\n",
       "-----  -----  ---  -------  -----------------\n",
       "0      10176  0    0        (0.0/10176.0)\n",
       "1      10169  16   0.9984   (10169.0/10185.0)\n",
       "Total  20345  16   0.4994   (10169.0/20361.0)"
      ]
     },
     "metadata": {},
     "output_type": "display_data"
    },
    {
     "data": {
      "text/plain": []
     },
     "execution_count": 14,
     "metadata": {},
     "output_type": "execute_result"
    }
   ],
   "source": [
    "cov_gbm.confusion_matrix(\"precision\")"
   ]
  },
  {
   "cell_type": "code",
   "execution_count": 15,
   "metadata": {},
   "outputs": [
    {
     "name": "stdout",
     "output_type": "stream",
     "text": [
      "\n",
      "ModelMetricsBinomial: gbm\n",
      "** Reported on train data. **\n",
      "\n",
      "MSE: 0.33278585074109707\n",
      "RMSE: 0.5768759405115601\n",
      "LogLoss: 0.8897489006421363\n",
      "Mean Per-Class Error: 0.08748490484989957\n",
      "AUC: 0.9613274556321265\n",
      "Gini: 0.922654911264253\n",
      "Confusion Matrix (Act/Pred) for max f1 @ threshold = 0.10239679651872233: \n"
     ]
    },
    {
     "data": {
      "text/html": [
       "<div style=\"overflow:auto\"><table style=\"width:50%\"><tr><td><b></b></td>\n",
       "<td><b>0</b></td>\n",
       "<td><b>1</b></td>\n",
       "<td><b>Error</b></td>\n",
       "<td><b>Rate</b></td></tr>\n",
       "<tr><td>0</td>\n",
       "<td>8852.0</td>\n",
       "<td>1324.0</td>\n",
       "<td>0.1301</td>\n",
       "<td> (1324.0/10176.0)</td></tr>\n",
       "<tr><td>1</td>\n",
       "<td>467.0</td>\n",
       "<td>9718.0</td>\n",
       "<td>0.0459</td>\n",
       "<td> (467.0/10185.0)</td></tr>\n",
       "<tr><td>Total</td>\n",
       "<td>9319.0</td>\n",
       "<td>11042.0</td>\n",
       "<td>0.088</td>\n",
       "<td> (1791.0/20361.0)</td></tr></table></div>"
      ],
      "text/plain": [
       "       0     1      Error    Rate\n",
       "-----  ----  -----  -------  ----------------\n",
       "0      8852  1324   0.1301   (1324.0/10176.0)\n",
       "1      467   9718   0.0459   (467.0/10185.0)\n",
       "Total  9319  11042  0.088    (1791.0/20361.0)"
      ]
     },
     "metadata": {},
     "output_type": "display_data"
    },
    {
     "name": "stdout",
     "output_type": "stream",
     "text": [
      "Maximum Metrics: Maximum metrics at their respective thresholds\n",
      "\n"
     ]
    },
    {
     "data": {
      "text/html": [
       "<div style=\"overflow:auto\"><table style=\"width:50%\"><tr><td><b>metric</b></td>\n",
       "<td><b>threshold</b></td>\n",
       "<td><b>value</b></td>\n",
       "<td><b>idx</b></td></tr>\n",
       "<tr><td>max f1</td>\n",
       "<td>0.1023968</td>\n",
       "<td>0.9156263</td>\n",
       "<td>252.0</td></tr>\n",
       "<tr><td>max f2</td>\n",
       "<td>0.0780922</td>\n",
       "<td>0.9499272</td>\n",
       "<td>284.0</td></tr>\n",
       "<tr><td>max f0point5</td>\n",
       "<td>0.1162939</td>\n",
       "<td>0.9046633</td>\n",
       "<td>232.0</td></tr>\n",
       "<tr><td>max accuracy</td>\n",
       "<td>0.1059850</td>\n",
       "<td>0.9125289</td>\n",
       "<td>246.0</td></tr>\n",
       "<tr><td>max precision</td>\n",
       "<td>0.7637805</td>\n",
       "<td>1.0</td>\n",
       "<td>0.0</td></tr>\n",
       "<tr><td>max recall</td>\n",
       "<td>0.0293586</td>\n",
       "<td>1.0</td>\n",
       "<td>343.0</td></tr>\n",
       "<tr><td>max specificity</td>\n",
       "<td>0.7637805</td>\n",
       "<td>1.0</td>\n",
       "<td>0.0</td></tr>\n",
       "<tr><td>max absolute_mcc</td>\n",
       "<td>0.1023968</td>\n",
       "<td>0.8270045</td>\n",
       "<td>252.0</td></tr>\n",
       "<tr><td>max min_per_class_accuracy</td>\n",
       "<td>0.1140250</td>\n",
       "<td>0.9030071</td>\n",
       "<td>235.0</td></tr>\n",
       "<tr><td>max mean_per_class_accuracy</td>\n",
       "<td>0.1059850</td>\n",
       "<td>0.9125151</td>\n",
       "<td>246.0</td></tr></table></div>"
      ],
      "text/plain": [
       "metric                       threshold    value     idx\n",
       "---------------------------  -----------  --------  -----\n",
       "max f1                       0.102397     0.915626  252\n",
       "max f2                       0.0780922    0.949927  284\n",
       "max f0point5                 0.116294     0.904663  232\n",
       "max accuracy                 0.105985     0.912529  246\n",
       "max precision                0.763781     1         0\n",
       "max recall                   0.0293586    1         343\n",
       "max specificity              0.763781     1         0\n",
       "max absolute_mcc             0.102397     0.827005  252\n",
       "max min_per_class_accuracy   0.114025     0.903007  235\n",
       "max mean_per_class_accuracy  0.105985     0.912515  246"
      ]
     },
     "metadata": {},
     "output_type": "display_data"
    },
    {
     "name": "stdout",
     "output_type": "stream",
     "text": [
      "Gains/Lift Table: Avg response rate: 50.02 %\n",
      "\n"
     ]
    },
    {
     "data": {
      "text/html": [
       "<div style=\"overflow:auto\"><table style=\"width:50%\"><tr><td><b></b></td>\n",
       "<td><b>group</b></td>\n",
       "<td><b>cumulative_data_fraction</b></td>\n",
       "<td><b>lower_threshold</b></td>\n",
       "<td><b>lift</b></td>\n",
       "<td><b>cumulative_lift</b></td>\n",
       "<td><b>response_rate</b></td>\n",
       "<td><b>cumulative_response_rate</b></td>\n",
       "<td><b>capture_rate</b></td>\n",
       "<td><b>cumulative_capture_rate</b></td>\n",
       "<td><b>gain</b></td>\n",
       "<td><b>cumulative_gain</b></td></tr>\n",
       "<tr><td></td>\n",
       "<td>1</td>\n",
       "<td>0.0100192</td>\n",
       "<td>0.6448633</td>\n",
       "<td>1.9991163</td>\n",
       "<td>1.9991163</td>\n",
       "<td>1.0</td>\n",
       "<td>1.0</td>\n",
       "<td>0.0200295</td>\n",
       "<td>0.0200295</td>\n",
       "<td>99.9116348</td>\n",
       "<td>99.9116348</td></tr>\n",
       "<tr><td></td>\n",
       "<td>2</td>\n",
       "<td>0.0206768</td>\n",
       "<td>0.3830877</td>\n",
       "<td>1.9991163</td>\n",
       "<td>1.9991163</td>\n",
       "<td>1.0</td>\n",
       "<td>1.0</td>\n",
       "<td>0.0213058</td>\n",
       "<td>0.0413353</td>\n",
       "<td>99.9116348</td>\n",
       "<td>99.9116348</td></tr>\n",
       "<tr><td></td>\n",
       "<td>3</td>\n",
       "<td>0.0306468</td>\n",
       "<td>0.3123876</td>\n",
       "<td>1.9991163</td>\n",
       "<td>1.9991163</td>\n",
       "<td>1.0</td>\n",
       "<td>1.0</td>\n",
       "<td>0.0199313</td>\n",
       "<td>0.0612666</td>\n",
       "<td>99.9116348</td>\n",
       "<td>99.9116348</td></tr>\n",
       "<tr><td></td>\n",
       "<td>4</td>\n",
       "<td>0.0405678</td>\n",
       "<td>0.2915051</td>\n",
       "<td>1.9892197</td>\n",
       "<td>1.9966961</td>\n",
       "<td>0.9950495</td>\n",
       "<td>0.9987893</td>\n",
       "<td>0.0197349</td>\n",
       "<td>0.0810015</td>\n",
       "<td>98.9219732</td>\n",
       "<td>99.6696110</td></tr>\n",
       "<tr><td></td>\n",
       "<td>5</td>\n",
       "<td>0.0505378</td>\n",
       "<td>0.2726877</td>\n",
       "<td>1.9794206</td>\n",
       "<td>1.9932880</td>\n",
       "<td>0.9901478</td>\n",
       "<td>0.9970845</td>\n",
       "<td>0.0197349</td>\n",
       "<td>0.1007364</td>\n",
       "<td>97.9420620</td>\n",
       "<td>99.3288020</td></tr>\n",
       "<tr><td></td>\n",
       "<td>6</td>\n",
       "<td>0.1007809</td>\n",
       "<td>0.2313411</td>\n",
       "<td>1.9463537</td>\n",
       "<td>1.9698895</td>\n",
       "<td>0.9736070</td>\n",
       "<td>0.9853801</td>\n",
       "<td>0.0977909</td>\n",
       "<td>0.1985272</td>\n",
       "<td>94.6353746</td>\n",
       "<td>96.9889500</td></tr>\n",
       "<tr><td></td>\n",
       "<td>7</td>\n",
       "<td>0.1507784</td>\n",
       "<td>0.2063170</td>\n",
       "<td>1.8911091</td>\n",
       "<td>1.9437662</td>\n",
       "<td>0.9459725</td>\n",
       "<td>0.9723127</td>\n",
       "<td>0.0945508</td>\n",
       "<td>0.2930781</td>\n",
       "<td>89.1109079</td>\n",
       "<td>94.3766221</td></tr>\n",
       "<tr><td></td>\n",
       "<td>8</td>\n",
       "<td>0.2006778</td>\n",
       "<td>0.1902716</td>\n",
       "<td>1.9086052</td>\n",
       "<td>1.9350233</td>\n",
       "<td>0.9547244</td>\n",
       "<td>0.9679393</td>\n",
       "<td>0.0952381</td>\n",
       "<td>0.3883162</td>\n",
       "<td>90.8605174</td>\n",
       "<td>93.5023288</td></tr>\n",
       "<tr><td></td>\n",
       "<td>9</td>\n",
       "<td>0.3005255</td>\n",
       "<td>0.1589910</td>\n",
       "<td>1.8555497</td>\n",
       "<td>1.9086187</td>\n",
       "<td>0.9281849</td>\n",
       "<td>0.9547312</td>\n",
       "<td>0.1852725</td>\n",
       "<td>0.5735886</td>\n",
       "<td>85.5549704</td>\n",
       "<td>90.8618680</td></tr>\n",
       "<tr><td></td>\n",
       "<td>10</td>\n",
       "<td>0.4000295</td>\n",
       "<td>0.1360194</td>\n",
       "<td>1.7504602</td>\n",
       "<td>1.8692781</td>\n",
       "<td>0.8756170</td>\n",
       "<td>0.9350522</td>\n",
       "<td>0.1741777</td>\n",
       "<td>0.7477663</td>\n",
       "<td>75.0460217</td>\n",
       "<td>86.9278097</td></tr>\n",
       "<tr><td></td>\n",
       "<td>11</td>\n",
       "<td>0.5003684</td>\n",
       "<td>0.1138575</td>\n",
       "<td>1.5568253</td>\n",
       "<td>1.8066219</td>\n",
       "<td>0.7787567</td>\n",
       "<td>0.9037102</td>\n",
       "<td>0.1562101</td>\n",
       "<td>0.9039764</td>\n",
       "<td>55.6825310</td>\n",
       "<td>80.6621929</td></tr>\n",
       "<tr><td></td>\n",
       "<td>12</td>\n",
       "<td>0.6000196</td>\n",
       "<td>0.0756158</td>\n",
       "<td>0.8276283</td>\n",
       "<td>1.6440306</td>\n",
       "<td>0.4139970</td>\n",
       "<td>0.8223787</td>\n",
       "<td>0.0824742</td>\n",
       "<td>0.9864507</td>\n",
       "<td>-17.2371744</td>\n",
       "<td>64.4030608</td></tr>\n",
       "<tr><td></td>\n",
       "<td>13</td>\n",
       "<td>0.7000147</td>\n",
       "<td>0.0126870</td>\n",
       "<td>0.1355000</td>\n",
       "<td>1.4285414</td>\n",
       "<td>0.0677800</td>\n",
       "<td>0.7145864</td>\n",
       "<td>0.0135493</td>\n",
       "<td>1.0</td>\n",
       "<td>-86.4499973</td>\n",
       "<td>42.8541360</td></tr>\n",
       "<tr><td></td>\n",
       "<td>14</td>\n",
       "<td>0.8000098</td>\n",
       "<td>0.0028495</td>\n",
       "<td>0.0</td>\n",
       "<td>1.2499847</td>\n",
       "<td>0.0</td>\n",
       "<td>0.6252686</td>\n",
       "<td>0.0</td>\n",
       "<td>1.0</td>\n",
       "<td>-100.0</td>\n",
       "<td>24.9984652</td></tr>\n",
       "<tr><td></td>\n",
       "<td>15</td>\n",
       "<td>0.9000049</td>\n",
       "<td>0.0014948</td>\n",
       "<td>0.0</td>\n",
       "<td>1.1111050</td>\n",
       "<td>0.0</td>\n",
       "<td>0.5557981</td>\n",
       "<td>0.0</td>\n",
       "<td>1.0</td>\n",
       "<td>-100.0</td>\n",
       "<td>11.1105048</td></tr>\n",
       "<tr><td></td>\n",
       "<td>16</td>\n",
       "<td>1.0</td>\n",
       "<td>0.0003476</td>\n",
       "<td>0.0</td>\n",
       "<td>1.0</td>\n",
       "<td>0.0</td>\n",
       "<td>0.5002210</td>\n",
       "<td>0.0</td>\n",
       "<td>1.0</td>\n",
       "<td>-100.0</td>\n",
       "<td>0.0</td></tr></table></div>"
      ],
      "text/plain": [
       "    group    cumulative_data_fraction    lower_threshold    lift      cumulative_lift    response_rate    cumulative_response_rate    capture_rate    cumulative_capture_rate    gain      cumulative_gain\n",
       "--  -------  --------------------------  -----------------  --------  -----------------  ---------------  --------------------------  --------------  -------------------------  --------  -----------------\n",
       "    1        0.0100192                   0.644863           1.99912   1.99912            1                1                           0.0200295       0.0200295                  99.9116   99.9116\n",
       "    2        0.0206768                   0.383088           1.99912   1.99912            1                1                           0.0213058       0.0413353                  99.9116   99.9116\n",
       "    3        0.0306468                   0.312388           1.99912   1.99912            1                1                           0.0199313       0.0612666                  99.9116   99.9116\n",
       "    4        0.0405678                   0.291505           1.98922   1.9967             0.99505          0.998789                    0.0197349       0.0810015                  98.922    99.6696\n",
       "    5        0.0505378                   0.272688           1.97942   1.99329            0.990148         0.997085                    0.0197349       0.100736                   97.9421   99.3288\n",
       "    6        0.100781                    0.231341           1.94635   1.96989            0.973607         0.98538                     0.0977909       0.198527                   94.6354   96.989\n",
       "    7        0.150778                    0.206317           1.89111   1.94377            0.945972         0.972313                    0.0945508       0.293078                   89.1109   94.3766\n",
       "    8        0.200678                    0.190272           1.90861   1.93502            0.954724         0.967939                    0.0952381       0.388316                   90.8605   93.5023\n",
       "    9        0.300526                    0.158991           1.85555   1.90862            0.928185         0.954731                    0.185272        0.573589                   85.555    90.8619\n",
       "    10       0.400029                    0.136019           1.75046   1.86928            0.875617         0.935052                    0.174178        0.747766                   75.046    86.9278\n",
       "    11       0.500368                    0.113857           1.55683   1.80662            0.778757         0.90371                     0.15621         0.903976                   55.6825   80.6622\n",
       "    12       0.60002                     0.0756158          0.827628  1.64403            0.413997         0.822379                    0.0824742       0.986451                   -17.2372  64.4031\n",
       "    13       0.700015                    0.012687           0.1355    1.42854            0.06778          0.714586                    0.0135493       1                          -86.45    42.8541\n",
       "    14       0.80001                     0.00284947         0         1.24998            0                0.625269                    0               1                          -100      24.9985\n",
       "    15       0.900005                    0.00149482         0         1.11111            0                0.555798                    0               1                          -100      11.1105\n",
       "    16       1                           0.000347586        0         1                  0                0.500221                    0               1                          -100      0"
      ]
     },
     "metadata": {},
     "output_type": "display_data"
    },
    {
     "name": "stdout",
     "output_type": "stream",
     "text": [
      "\n"
     ]
    },
    {
     "data": {
      "text/plain": []
     },
     "execution_count": 15,
     "metadata": {},
     "output_type": "execute_result"
    }
   ],
   "source": [
    "cov_gbm.model_performance()"
   ]
  },
  {
   "cell_type": "code",
   "execution_count": 16,
   "metadata": {},
   "outputs": [
    {
     "name": "stdout",
     "output_type": "stream",
     "text": [
      "\n",
      "ModelMetricsBinomial: gbm\n",
      "** Reported on validation data. **\n",
      "\n",
      "MSE: 0.048154477369592025\n",
      "RMSE: 0.21944128456056763\n",
      "LogLoss: 0.17216624958237026\n",
      "Mean Per-Class Error: 0.19325778859090814\n",
      "AUC: 0.8701401911507386\n",
      "Gini: 0.7402803823014772\n",
      "Confusion Matrix (Act/Pred) for max f1 @ threshold = 0.14184846141582091: \n"
     ]
    },
    {
     "data": {
      "text/html": [
       "<div style=\"overflow:auto\"><table style=\"width:50%\"><tr><td><b></b></td>\n",
       "<td><b>0</b></td>\n",
       "<td><b>1</b></td>\n",
       "<td><b>Error</b></td>\n",
       "<td><b>Rate</b></td></tr>\n",
       "<tr><td>0</td>\n",
       "<td>2019.0</td>\n",
       "<td>122.0</td>\n",
       "<td>0.057</td>\n",
       "<td> (122.0/2141.0)</td></tr>\n",
       "<tr><td>1</td>\n",
       "<td>75.0</td>\n",
       "<td>59.0</td>\n",
       "<td>0.5597</td>\n",
       "<td> (75.0/134.0)</td></tr>\n",
       "<tr><td>Total</td>\n",
       "<td>2094.0</td>\n",
       "<td>181.0</td>\n",
       "<td>0.0866</td>\n",
       "<td> (197.0/2275.0)</td></tr></table></div>"
      ],
      "text/plain": [
       "       0     1    Error    Rate\n",
       "-----  ----  ---  -------  --------------\n",
       "0      2019  122  0.057    (122.0/2141.0)\n",
       "1      75    59   0.5597   (75.0/134.0)\n",
       "Total  2094  181  0.0866   (197.0/2275.0)"
      ]
     },
     "metadata": {},
     "output_type": "display_data"
    },
    {
     "name": "stdout",
     "output_type": "stream",
     "text": [
      "Maximum Metrics: Maximum metrics at their respective thresholds\n",
      "\n"
     ]
    },
    {
     "data": {
      "text/html": [
       "<div style=\"overflow:auto\"><table style=\"width:50%\"><tr><td><b>metric</b></td>\n",
       "<td><b>threshold</b></td>\n",
       "<td><b>value</b></td>\n",
       "<td><b>idx</b></td></tr>\n",
       "<tr><td>max f1</td>\n",
       "<td>0.1418485</td>\n",
       "<td>0.3746032</td>\n",
       "<td>99.0</td></tr>\n",
       "<tr><td>max f2</td>\n",
       "<td>0.1086300</td>\n",
       "<td>0.5076419</td>\n",
       "<td>163.0</td></tr>\n",
       "<tr><td>max f0point5</td>\n",
       "<td>0.1531082</td>\n",
       "<td>0.3561644</td>\n",
       "<td>85.0</td></tr>\n",
       "<tr><td>max accuracy</td>\n",
       "<td>0.2653729</td>\n",
       "<td>0.9437363</td>\n",
       "<td>9.0</td></tr>\n",
       "<tr><td>max precision</td>\n",
       "<td>0.6960959</td>\n",
       "<td>1.0</td>\n",
       "<td>0.0</td></tr>\n",
       "<tr><td>max recall</td>\n",
       "<td>0.0024646</td>\n",
       "<td>1.0</td>\n",
       "<td>382.0</td></tr>\n",
       "<tr><td>max specificity</td>\n",
       "<td>0.6960959</td>\n",
       "<td>1.0</td>\n",
       "<td>0.0</td></tr>\n",
       "<tr><td>max absolute_mcc</td>\n",
       "<td>0.1086300</td>\n",
       "<td>0.3534574</td>\n",
       "<td>163.0</td></tr>\n",
       "<tr><td>max min_per_class_accuracy</td>\n",
       "<td>0.0804856</td>\n",
       "<td>0.7879496</td>\n",
       "<td>214.0</td></tr>\n",
       "<tr><td>max mean_per_class_accuracy</td>\n",
       "<td>0.0755430</td>\n",
       "<td>0.8067422</td>\n",
       "<td>225.0</td></tr></table></div>"
      ],
      "text/plain": [
       "metric                       threshold    value     idx\n",
       "---------------------------  -----------  --------  -----\n",
       "max f1                       0.141848     0.374603  99\n",
       "max f2                       0.10863      0.507642  163\n",
       "max f0point5                 0.153108     0.356164  85\n",
       "max accuracy                 0.265373     0.943736  9\n",
       "max precision                0.696096     1         0\n",
       "max recall                   0.0024646    1         382\n",
       "max specificity              0.696096     1         0\n",
       "max absolute_mcc             0.10863      0.353457  163\n",
       "max min_per_class_accuracy   0.0804856    0.78795   214\n",
       "max mean_per_class_accuracy  0.075543     0.806742  225"
      ]
     },
     "metadata": {},
     "output_type": "display_data"
    },
    {
     "name": "stdout",
     "output_type": "stream",
     "text": [
      "Gains/Lift Table: Avg response rate:  5.89 %\n",
      "\n"
     ]
    },
    {
     "data": {
      "text/html": [
       "<div style=\"overflow:auto\"><table style=\"width:50%\"><tr><td><b></b></td>\n",
       "<td><b>group</b></td>\n",
       "<td><b>cumulative_data_fraction</b></td>\n",
       "<td><b>lower_threshold</b></td>\n",
       "<td><b>lift</b></td>\n",
       "<td><b>cumulative_lift</b></td>\n",
       "<td><b>response_rate</b></td>\n",
       "<td><b>cumulative_response_rate</b></td>\n",
       "<td><b>capture_rate</b></td>\n",
       "<td><b>cumulative_capture_rate</b></td>\n",
       "<td><b>gain</b></td>\n",
       "<td><b>cumulative_gain</b></td></tr>\n",
       "<tr><td></td>\n",
       "<td>1</td>\n",
       "<td>0.0101099</td>\n",
       "<td>0.2261203</td>\n",
       "<td>9.5960415</td>\n",
       "<td>9.5960415</td>\n",
       "<td>0.5652174</td>\n",
       "<td>0.5652174</td>\n",
       "<td>0.0970149</td>\n",
       "<td>0.0970149</td>\n",
       "<td>859.6041531</td>\n",
       "<td>859.6041531</td></tr>\n",
       "<tr><td></td>\n",
       "<td>2</td>\n",
       "<td>0.0202198</td>\n",
       "<td>0.1956570</td>\n",
       "<td>5.9052563</td>\n",
       "<td>7.7506489</td>\n",
       "<td>0.3478261</td>\n",
       "<td>0.4565217</td>\n",
       "<td>0.0597015</td>\n",
       "<td>0.1567164</td>\n",
       "<td>490.5256327</td>\n",
       "<td>675.0648929</td></tr>\n",
       "<tr><td></td>\n",
       "<td>3</td>\n",
       "<td>0.0303297</td>\n",
       "<td>0.1839302</td>\n",
       "<td>3.6907852</td>\n",
       "<td>6.3973610</td>\n",
       "<td>0.2173913</td>\n",
       "<td>0.3768116</td>\n",
       "<td>0.0373134</td>\n",
       "<td>0.1940299</td>\n",
       "<td>269.0785204</td>\n",
       "<td>539.7361021</td></tr>\n",
       "<tr><td></td>\n",
       "<td>4</td>\n",
       "<td>0.04</td>\n",
       "<td>0.1749190</td>\n",
       "<td>4.6302578</td>\n",
       "<td>5.9701493</td>\n",
       "<td>0.2727273</td>\n",
       "<td>0.3516484</td>\n",
       "<td>0.0447761</td>\n",
       "<td>0.2388060</td>\n",
       "<td>363.0257802</td>\n",
       "<td>497.0149254</td></tr>\n",
       "<tr><td></td>\n",
       "<td>5</td>\n",
       "<td>0.0501099</td>\n",
       "<td>0.1660470</td>\n",
       "<td>5.9052563</td>\n",
       "<td>5.9570568</td>\n",
       "<td>0.3478261</td>\n",
       "<td>0.3508772</td>\n",
       "<td>0.0597015</td>\n",
       "<td>0.2985075</td>\n",
       "<td>490.5256327</td>\n",
       "<td>495.7056821</td></tr>\n",
       "<tr><td></td>\n",
       "<td>6</td>\n",
       "<td>0.1002198</td>\n",
       "<td>0.1331130</td>\n",
       "<td>3.7231605</td>\n",
       "<td>4.8401087</td>\n",
       "<td>0.2192982</td>\n",
       "<td>0.2850877</td>\n",
       "<td>0.1865672</td>\n",
       "<td>0.4850746</td>\n",
       "<td>272.3160513</td>\n",
       "<td>384.0108667</td></tr>\n",
       "<tr><td></td>\n",
       "<td>7</td>\n",
       "<td>0.1503297</td>\n",
       "<td>0.1148223</td>\n",
       "<td>3.1274548</td>\n",
       "<td>4.2692241</td>\n",
       "<td>0.1842105</td>\n",
       "<td>0.2514620</td>\n",
       "<td>0.1567164</td>\n",
       "<td>0.6417910</td>\n",
       "<td>212.7454831</td>\n",
       "<td>326.9224055</td></tr>\n",
       "<tr><td></td>\n",
       "<td>8</td>\n",
       "<td>0.2</td>\n",
       "<td>0.0962337</td>\n",
       "<td>1.6526879</td>\n",
       "<td>3.6194030</td>\n",
       "<td>0.0973451</td>\n",
       "<td>0.2131868</td>\n",
       "<td>0.0820896</td>\n",
       "<td>0.7238806</td>\n",
       "<td>65.2687888</td>\n",
       "<td>261.9402985</td></tr>\n",
       "<tr><td></td>\n",
       "<td>9</td>\n",
       "<td>0.3002198</td>\n",
       "<td>0.0639752</td>\n",
       "<td>1.2658746</td>\n",
       "<td>2.8337449</td>\n",
       "<td>0.0745614</td>\n",
       "<td>0.1669107</td>\n",
       "<td>0.1268657</td>\n",
       "<td>0.8507463</td>\n",
       "<td>26.5874574</td>\n",
       "<td>183.3744892</td></tr>\n",
       "<tr><td></td>\n",
       "<td>10</td>\n",
       "<td>0.4</td>\n",
       "<td>0.0220161</td>\n",
       "<td>0.4487475</td>\n",
       "<td>2.2388060</td>\n",
       "<td>0.0264317</td>\n",
       "<td>0.1318681</td>\n",
       "<td>0.0447761</td>\n",
       "<td>0.8955224</td>\n",
       "<td>-55.1252548</td>\n",
       "<td>123.8805970</td></tr>\n",
       "<tr><td></td>\n",
       "<td>11</td>\n",
       "<td>0.5002198</td>\n",
       "<td>0.0066391</td>\n",
       "<td>0.5957057</td>\n",
       "<td>1.9096084</td>\n",
       "<td>0.0350877</td>\n",
       "<td>0.1124780</td>\n",
       "<td>0.0597015</td>\n",
       "<td>0.9552239</td>\n",
       "<td>-40.4294318</td>\n",
       "<td>90.9608373</td></tr>\n",
       "<tr><td></td>\n",
       "<td>12</td>\n",
       "<td>0.6</td>\n",
       "<td>0.0031753</td>\n",
       "<td>0.3739562</td>\n",
       "<td>1.6542289</td>\n",
       "<td>0.0220264</td>\n",
       "<td>0.0974359</td>\n",
       "<td>0.0373134</td>\n",
       "<td>0.9925373</td>\n",
       "<td>-62.6043790</td>\n",
       "<td>65.4228856</td></tr>\n",
       "<tr><td></td>\n",
       "<td>13</td>\n",
       "<td>0.6997802</td>\n",
       "<td>0.0020438</td>\n",
       "<td>0.0747912</td>\n",
       "<td>1.4290201</td>\n",
       "<td>0.0044053</td>\n",
       "<td>0.0841709</td>\n",
       "<td>0.0074627</td>\n",
       "<td>1.0</td>\n",
       "<td>-92.5208758</td>\n",
       "<td>42.9020101</td></tr>\n",
       "<tr><td></td>\n",
       "<td>14</td>\n",
       "<td>0.8</td>\n",
       "<td>0.0015522</td>\n",
       "<td>0.0</td>\n",
       "<td>1.25</td>\n",
       "<td>0.0</td>\n",
       "<td>0.0736264</td>\n",
       "<td>0.0</td>\n",
       "<td>1.0</td>\n",
       "<td>-100.0</td>\n",
       "<td>25.0</td></tr>\n",
       "<tr><td></td>\n",
       "<td>15</td>\n",
       "<td>0.8997802</td>\n",
       "<td>0.0011883</td>\n",
       "<td>0.0</td>\n",
       "<td>1.1113825</td>\n",
       "<td>0.0</td>\n",
       "<td>0.0654617</td>\n",
       "<td>0.0</td>\n",
       "<td>1.0</td>\n",
       "<td>-100.0</td>\n",
       "<td>11.1382511</td></tr>\n",
       "<tr><td></td>\n",
       "<td>16</td>\n",
       "<td>1.0</td>\n",
       "<td>0.0004632</td>\n",
       "<td>0.0</td>\n",
       "<td>1.0</td>\n",
       "<td>0.0</td>\n",
       "<td>0.0589011</td>\n",
       "<td>0.0</td>\n",
       "<td>1.0</td>\n",
       "<td>-100.0</td>\n",
       "<td>0.0</td></tr></table></div>"
      ],
      "text/plain": [
       "    group    cumulative_data_fraction    lower_threshold    lift       cumulative_lift    response_rate    cumulative_response_rate    capture_rate    cumulative_capture_rate    gain      cumulative_gain\n",
       "--  -------  --------------------------  -----------------  ---------  -----------------  ---------------  --------------------------  --------------  -------------------------  --------  -----------------\n",
       "    1        0.0101099                   0.22612            9.59604    9.59604            0.565217         0.565217                    0.0970149       0.0970149                  859.604   859.604\n",
       "    2        0.0202198                   0.195657           5.90526    7.75065            0.347826         0.456522                    0.0597015       0.156716                   490.526   675.065\n",
       "    3        0.0303297                   0.18393            3.69079    6.39736            0.217391         0.376812                    0.0373134       0.19403                    269.079   539.736\n",
       "    4        0.04                        0.174919           4.63026    5.97015            0.272727         0.351648                    0.0447761       0.238806                   363.026   497.015\n",
       "    5        0.0501099                   0.166047           5.90526    5.95706            0.347826         0.350877                    0.0597015       0.298507                   490.526   495.706\n",
       "    6        0.10022                     0.133113           3.72316    4.84011            0.219298         0.285088                    0.186567        0.485075                   272.316   384.011\n",
       "    7        0.15033                     0.114822           3.12745    4.26922            0.184211         0.251462                    0.156716        0.641791                   212.745   326.922\n",
       "    8        0.2                         0.0962337          1.65269    3.6194             0.0973451        0.213187                    0.0820896       0.723881                   65.2688   261.94\n",
       "    9        0.30022                     0.0639752          1.26587    2.83374            0.0745614        0.166911                    0.126866        0.850746                   26.5875   183.374\n",
       "    10       0.4                         0.0220161          0.448747   2.23881            0.0264317        0.131868                    0.0447761       0.895522                   -55.1253  123.881\n",
       "    11       0.50022                     0.00663906         0.595706   1.90961            0.0350877        0.112478                    0.0597015       0.955224                   -40.4294  90.9608\n",
       "    12       0.6                         0.00317526         0.373956   1.65423            0.0220264        0.0974359                   0.0373134       0.992537                   -62.6044  65.4229\n",
       "    13       0.69978                     0.00204381         0.0747912  1.42902            0.00440529       0.0841709                   0.00746269      1                          -92.5209  42.902\n",
       "    14       0.8                         0.0015522          0          1.25               0                0.0736264                   0               1                          -100      25\n",
       "    15       0.89978                     0.0011883          0          1.11138            0                0.0654617                   0               1                          -100      11.1383\n",
       "    16       1                           0.000463204        0          1                  0                0.0589011                   0               1                          -100      0"
      ]
     },
     "metadata": {},
     "output_type": "display_data"
    },
    {
     "name": "stdout",
     "output_type": "stream",
     "text": [
      "\n"
     ]
    },
    {
     "data": {
      "text/plain": []
     },
     "execution_count": 16,
     "metadata": {},
     "output_type": "execute_result"
    }
   ],
   "source": [
    "cov_gbm.model_performance(valid=True)"
   ]
  },
  {
   "cell_type": "code",
   "execution_count": 17,
   "metadata": {},
   "outputs": [
    {
     "name": "stdout",
     "output_type": "stream",
     "text": [
      "\n",
      "ModelMetricsBinomial: gbm\n",
      "** Reported on test data. **\n",
      "\n",
      "MSE: 0.04481995928498447\n",
      "RMSE: 0.2117072490137843\n",
      "LogLoss: 0.15177165571998927\n",
      "Mean Per-Class Error: 0.1397978253482841\n",
      "AUC: 0.9202548419979613\n",
      "Gini: 0.8405096839959225\n",
      "Confusion Matrix (Act/Pred) for max f1 @ threshold = 0.12507321288748502: \n"
     ]
    },
    {
     "data": {
      "text/html": [
       "<div style=\"overflow:auto\"><table style=\"width:50%\"><tr><td><b></b></td>\n",
       "<td><b>0</b></td>\n",
       "<td><b>1</b></td>\n",
       "<td><b>Error</b></td>\n",
       "<td><b>Rate</b></td></tr>\n",
       "<tr><td>0</td>\n",
       "<td>2034.0</td>\n",
       "<td>146.0</td>\n",
       "<td>0.067</td>\n",
       "<td> (146.0/2180.0)</td></tr>\n",
       "<tr><td>1</td>\n",
       "<td>44.0</td>\n",
       "<td>91.0</td>\n",
       "<td>0.3259</td>\n",
       "<td> (44.0/135.0)</td></tr>\n",
       "<tr><td>Total</td>\n",
       "<td>2078.0</td>\n",
       "<td>237.0</td>\n",
       "<td>0.0821</td>\n",
       "<td> (190.0/2315.0)</td></tr></table></div>"
      ],
      "text/plain": [
       "       0     1    Error    Rate\n",
       "-----  ----  ---  -------  --------------\n",
       "0      2034  146  0.067    (146.0/2180.0)\n",
       "1      44    91   0.3259   (44.0/135.0)\n",
       "Total  2078  237  0.0821   (190.0/2315.0)"
      ]
     },
     "metadata": {},
     "output_type": "display_data"
    },
    {
     "name": "stdout",
     "output_type": "stream",
     "text": [
      "Maximum Metrics: Maximum metrics at their respective thresholds\n",
      "\n"
     ]
    },
    {
     "data": {
      "text/html": [
       "<div style=\"overflow:auto\"><table style=\"width:50%\"><tr><td><b>metric</b></td>\n",
       "<td><b>threshold</b></td>\n",
       "<td><b>value</b></td>\n",
       "<td><b>idx</b></td></tr>\n",
       "<tr><td>max f1</td>\n",
       "<td>0.1250732</td>\n",
       "<td>0.4892473</td>\n",
       "<td>126.0</td></tr>\n",
       "<tr><td>max f2</td>\n",
       "<td>0.1123199</td>\n",
       "<td>0.6009335</td>\n",
       "<td>151.0</td></tr>\n",
       "<tr><td>max f0point5</td>\n",
       "<td>0.1609773</td>\n",
       "<td>0.4624277</td>\n",
       "<td>71.0</td></tr>\n",
       "<tr><td>max accuracy</td>\n",
       "<td>0.2153216</td>\n",
       "<td>0.9473002</td>\n",
       "<td>27.0</td></tr>\n",
       "<tr><td>max precision</td>\n",
       "<td>0.7218119</td>\n",
       "<td>1.0</td>\n",
       "<td>0.0</td></tr>\n",
       "<tr><td>max recall</td>\n",
       "<td>0.0039462</td>\n",
       "<td>1.0</td>\n",
       "<td>369.0</td></tr>\n",
       "<tr><td>max specificity</td>\n",
       "<td>0.7218119</td>\n",
       "<td>1.0</td>\n",
       "<td>0.0</td></tr>\n",
       "<tr><td>max absolute_mcc</td>\n",
       "<td>0.1250732</td>\n",
       "<td>0.4693097</td>\n",
       "<td>126.0</td></tr>\n",
       "<tr><td>max min_per_class_accuracy</td>\n",
       "<td>0.0939501</td>\n",
       "<td>0.8522936</td>\n",
       "<td>186.0</td></tr>\n",
       "<tr><td>max mean_per_class_accuracy</td>\n",
       "<td>0.0919446</td>\n",
       "<td>0.8602022</td>\n",
       "<td>190.0</td></tr></table></div>"
      ],
      "text/plain": [
       "metric                       threshold    value     idx\n",
       "---------------------------  -----------  --------  -----\n",
       "max f1                       0.125073     0.489247  126\n",
       "max f2                       0.11232      0.600933  151\n",
       "max f0point5                 0.160977     0.462428  71\n",
       "max accuracy                 0.215322     0.9473    27\n",
       "max precision                0.721812     1         0\n",
       "max recall                   0.00394622   1         369\n",
       "max specificity              0.721812     1         0\n",
       "max absolute_mcc             0.125073     0.46931   126\n",
       "max min_per_class_accuracy   0.0939501    0.852294  186\n",
       "max mean_per_class_accuracy  0.0919446    0.860202  190"
      ]
     },
     "metadata": {},
     "output_type": "display_data"
    },
    {
     "name": "stdout",
     "output_type": "stream",
     "text": [
      "Gains/Lift Table: Avg response rate:  5.83 %\n",
      "\n"
     ]
    },
    {
     "data": {
      "text/html": [
       "<div style=\"overflow:auto\"><table style=\"width:50%\"><tr><td><b></b></td>\n",
       "<td><b>group</b></td>\n",
       "<td><b>cumulative_data_fraction</b></td>\n",
       "<td><b>lower_threshold</b></td>\n",
       "<td><b>lift</b></td>\n",
       "<td><b>cumulative_lift</b></td>\n",
       "<td><b>response_rate</b></td>\n",
       "<td><b>cumulative_response_rate</b></td>\n",
       "<td><b>capture_rate</b></td>\n",
       "<td><b>cumulative_capture_rate</b></td>\n",
       "<td><b>gain</b></td>\n",
       "<td><b>cumulative_gain</b></td></tr>\n",
       "<tr><td></td>\n",
       "<td>1</td>\n",
       "<td>0.0103672</td>\n",
       "<td>0.2203168</td>\n",
       "<td>12.1466049</td>\n",
       "<td>12.1466049</td>\n",
       "<td>0.7083333</td>\n",
       "<td>0.7083333</td>\n",
       "<td>0.1259259</td>\n",
       "<td>0.1259259</td>\n",
       "<td>1114.6604938</td>\n",
       "<td>1114.6604938</td></tr>\n",
       "<tr><td></td>\n",
       "<td>2</td>\n",
       "<td>0.0203024</td>\n",
       "<td>0.1922568</td>\n",
       "<td>8.2012882</td>\n",
       "<td>10.2159180</td>\n",
       "<td>0.4782609</td>\n",
       "<td>0.5957447</td>\n",
       "<td>0.0814815</td>\n",
       "<td>0.2074074</td>\n",
       "<td>720.1288245</td>\n",
       "<td>921.5918046</td></tr>\n",
       "<tr><td></td>\n",
       "<td>3</td>\n",
       "<td>0.0302376</td>\n",
       "<td>0.1746068</td>\n",
       "<td>5.9645733</td>\n",
       "<td>8.8190476</td>\n",
       "<td>0.3478261</td>\n",
       "<td>0.5142857</td>\n",
       "<td>0.0592593</td>\n",
       "<td>0.2666667</td>\n",
       "<td>496.4573269</td>\n",
       "<td>781.9047619</td></tr>\n",
       "<tr><td></td>\n",
       "<td>4</td>\n",
       "<td>0.0401728</td>\n",
       "<td>0.1620365</td>\n",
       "<td>7.4557166</td>\n",
       "<td>8.4818797</td>\n",
       "<td>0.4347826</td>\n",
       "<td>0.4946237</td>\n",
       "<td>0.0740741</td>\n",
       "<td>0.3407407</td>\n",
       "<td>645.5716586</td>\n",
       "<td>748.1879729</td></tr>\n",
       "<tr><td></td>\n",
       "<td>5</td>\n",
       "<td>0.0501080</td>\n",
       "<td>0.1565774</td>\n",
       "<td>5.2190016</td>\n",
       "<td>7.8349298</td>\n",
       "<td>0.3043478</td>\n",
       "<td>0.4568966</td>\n",
       "<td>0.0518519</td>\n",
       "<td>0.3925926</td>\n",
       "<td>421.9001610</td>\n",
       "<td>683.4929757</td></tr>\n",
       "<tr><td></td>\n",
       "<td>6</td>\n",
       "<td>0.1002160</td>\n",
       "<td>0.1264970</td>\n",
       "<td>5.3218391</td>\n",
       "<td>6.5783844</td>\n",
       "<td>0.3103448</td>\n",
       "<td>0.3836207</td>\n",
       "<td>0.2666667</td>\n",
       "<td>0.6592593</td>\n",
       "<td>432.1839080</td>\n",
       "<td>557.8384419</td></tr>\n",
       "<tr><td></td>\n",
       "<td>7</td>\n",
       "<td>0.1503240</td>\n",
       "<td>0.1076385</td>\n",
       "<td>2.2174330</td>\n",
       "<td>5.1247339</td>\n",
       "<td>0.1293103</td>\n",
       "<td>0.2988506</td>\n",
       "<td>0.1111111</td>\n",
       "<td>0.7703704</td>\n",
       "<td>121.7432950</td>\n",
       "<td>412.4733929</td></tr>\n",
       "<tr><td></td>\n",
       "<td>8</td>\n",
       "<td>0.2</td>\n",
       "<td>0.0894563</td>\n",
       "<td>2.0876006</td>\n",
       "<td>4.3703704</td>\n",
       "<td>0.1217391</td>\n",
       "<td>0.2548596</td>\n",
       "<td>0.1037037</td>\n",
       "<td>0.8740741</td>\n",
       "<td>108.7600644</td>\n",
       "<td>337.0370370</td></tr>\n",
       "<tr><td></td>\n",
       "<td>9</td>\n",
       "<td>0.3002160</td>\n",
       "<td>0.0576192</td>\n",
       "<td>0.3695722</td>\n",
       "<td>3.0348521</td>\n",
       "<td>0.0215517</td>\n",
       "<td>0.1769784</td>\n",
       "<td>0.0370370</td>\n",
       "<td>0.9111111</td>\n",
       "<td>-63.0427842</td>\n",
       "<td>203.4852118</td></tr>\n",
       "<tr><td></td>\n",
       "<td>10</td>\n",
       "<td>0.4</td>\n",
       "<td>0.0170368</td>\n",
       "<td>0.6681097</td>\n",
       "<td>2.4444444</td>\n",
       "<td>0.0389610</td>\n",
       "<td>0.1425486</td>\n",
       "<td>0.0666667</td>\n",
       "<td>0.9777778</td>\n",
       "<td>-33.1890332</td>\n",
       "<td>144.4444444</td></tr>\n",
       "<tr><td></td>\n",
       "<td>11</td>\n",
       "<td>0.5002160</td>\n",
       "<td>0.0050558</td>\n",
       "<td>0.1478289</td>\n",
       "<td>1.9843280</td>\n",
       "<td>0.0086207</td>\n",
       "<td>0.1157168</td>\n",
       "<td>0.0148148</td>\n",
       "<td>0.9925926</td>\n",
       "<td>-85.2171137</td>\n",
       "<td>98.4328024</td></tr>\n",
       "<tr><td></td>\n",
       "<td>12</td>\n",
       "<td>0.6</td>\n",
       "<td>0.0029083</td>\n",
       "<td>0.0742344</td>\n",
       "<td>1.6666667</td>\n",
       "<td>0.0043290</td>\n",
       "<td>0.0971922</td>\n",
       "<td>0.0074074</td>\n",
       "<td>1.0</td>\n",
       "<td>-92.5765592</td>\n",
       "<td>66.6666667</td></tr>\n",
       "<tr><td></td>\n",
       "<td>13</td>\n",
       "<td>0.6997840</td>\n",
       "<td>0.0019923</td>\n",
       "<td>0.0</td>\n",
       "<td>1.4290123</td>\n",
       "<td>0.0</td>\n",
       "<td>0.0833333</td>\n",
       "<td>0.0</td>\n",
       "<td>1.0</td>\n",
       "<td>-100.0</td>\n",
       "<td>42.9012346</td></tr>\n",
       "<tr><td></td>\n",
       "<td>14</td>\n",
       "<td>0.8</td>\n",
       "<td>0.0015199</td>\n",
       "<td>0.0</td>\n",
       "<td>1.25</td>\n",
       "<td>0.0</td>\n",
       "<td>0.0728942</td>\n",
       "<td>0.0</td>\n",
       "<td>1.0</td>\n",
       "<td>-100.0</td>\n",
       "<td>25.0</td></tr>\n",
       "<tr><td></td>\n",
       "<td>15</td>\n",
       "<td>0.8997840</td>\n",
       "<td>0.0011348</td>\n",
       "<td>0.0</td>\n",
       "<td>1.1113778</td>\n",
       "<td>0.0</td>\n",
       "<td>0.0648104</td>\n",
       "<td>0.0</td>\n",
       "<td>1.0</td>\n",
       "<td>-100.0</td>\n",
       "<td>11.1377820</td></tr>\n",
       "<tr><td></td>\n",
       "<td>16</td>\n",
       "<td>1.0</td>\n",
       "<td>0.0004223</td>\n",
       "<td>0.0</td>\n",
       "<td>1.0</td>\n",
       "<td>0.0</td>\n",
       "<td>0.0583153</td>\n",
       "<td>0.0</td>\n",
       "<td>1.0</td>\n",
       "<td>-100.0</td>\n",
       "<td>0.0</td></tr></table></div>"
      ],
      "text/plain": [
       "    group    cumulative_data_fraction    lower_threshold    lift       cumulative_lift    response_rate    cumulative_response_rate    capture_rate    cumulative_capture_rate    gain      cumulative_gain\n",
       "--  -------  --------------------------  -----------------  ---------  -----------------  ---------------  --------------------------  --------------  -------------------------  --------  -----------------\n",
       "    1        0.0103672                   0.220317           12.1466    12.1466            0.708333         0.708333                    0.125926        0.125926                   1114.66   1114.66\n",
       "    2        0.0203024                   0.192257           8.20129    10.2159            0.478261         0.595745                    0.0814815       0.207407                   720.129   921.592\n",
       "    3        0.0302376                   0.174607           5.96457    8.81905            0.347826         0.514286                    0.0592593       0.266667                   496.457   781.905\n",
       "    4        0.0401728                   0.162037           7.45572    8.48188            0.434783         0.494624                    0.0740741       0.340741                   645.572   748.188\n",
       "    5        0.050108                    0.156577           5.219      7.83493            0.304348         0.456897                    0.0518519       0.392593                   421.9     683.493\n",
       "    6        0.100216                    0.126497           5.32184    6.57838            0.310345         0.383621                    0.266667        0.659259                   432.184   557.838\n",
       "    7        0.150324                    0.107639           2.21743    5.12473            0.12931          0.298851                    0.111111        0.77037                    121.743   412.473\n",
       "    8        0.2                         0.0894563          2.0876     4.37037            0.121739         0.25486                     0.103704        0.874074                   108.76    337.037\n",
       "    9        0.300216                    0.0576192          0.369572   3.03485            0.0215517        0.176978                    0.037037        0.911111                   -63.0428  203.485\n",
       "    10       0.4                         0.0170368          0.66811    2.44444            0.038961         0.142549                    0.0666667       0.977778                   -33.189   144.444\n",
       "    11       0.500216                    0.00505575         0.147829   1.98433            0.00862069       0.115717                    0.0148148       0.992593                   -85.2171  98.4328\n",
       "    12       0.6                         0.00290829         0.0742344  1.66667            0.004329         0.0971922                   0.00740741      1                          -92.5766  66.6667\n",
       "    13       0.699784                    0.00199229         0          1.42901            0                0.0833333                   0               1                          -100      42.9012\n",
       "    14       0.8                         0.00151986         0          1.25               0                0.0728942                   0               1                          -100      25\n",
       "    15       0.899784                    0.00113481         0          1.11138            0                0.0648104                   0               1                          -100      11.1378\n",
       "    16       1                           0.000422319        0          1                  0                0.0583153                   0               1                          -100      0"
      ]
     },
     "metadata": {},
     "output_type": "display_data"
    },
    {
     "name": "stdout",
     "output_type": "stream",
     "text": [
      "\n"
     ]
    },
    {
     "data": {
      "text/plain": []
     },
     "execution_count": 17,
     "metadata": {},
     "output_type": "execute_result"
    }
   ],
   "source": [
    "cov_gbm.model_performance(test_data = test)"
   ]
  },
  {
   "cell_type": "code",
   "execution_count": 18,
   "metadata": {},
   "outputs": [
    {
     "name": "stdout",
     "output_type": "stream",
     "text": [
      "gbm Grid Build progress: |████████████████████████████████████████████████| 100%\n",
      "    balance_classes  \\\n",
      "0             false   \n",
      "1              true   \n",
      "\n",
      "                                                      model_ids  \\\n",
      "0  Grid_GBM_py_7_sid_9ae0_model_python_1527275020939_54_model_1   \n",
      "1  Grid_GBM_py_7_sid_9ae0_model_python_1527275020939_54_model_0   \n",
      "\n",
      "               logloss  \n",
      "0   0.1571806238131842  \n",
      "1  0.17216624958237026  \n",
      "\n"
     ]
    }
   ],
   "source": [
    "# grid over `balance_classes` (boolean parameter)\n",
    "# import Grid Search\n",
    "from h2o.grid.grid_search import H2OGridSearch\n",
    "\n",
    "# select the values for `balance_classes` to grid over\n",
    "hyper_params = {'balance_classes': [True, False]}\n",
    "\n",
    "# this example uses cartesian grid search because the search space is small\n",
    "# and we want to see the performance of all models. For a larger search space use\n",
    "# random grid search instead: {'strategy': \"RandomDiscrete\"}\n",
    "# initialize the GBM estimator\n",
    "cov_gbm_2 = H2OGradientBoostingEstimator(seed = 1234)\n",
    "\n",
    "# build grid search with previously made GBM and hyperparameters\n",
    "grid = H2OGridSearch(model = cov_gbm_2, hyper_params = hyper_params,\n",
    "                     search_criteria = {'strategy': \"Cartesian\"})\n",
    "\n",
    "# train using the grid\n",
    "grid.train(x = predictors, y = response, training_frame = train, validation_frame = valid)\n",
    "\n",
    "# sort the grid models by logloss\n",
    "sorted_grid = grid.get_grid(sort_by='logloss', decreasing=False)\n",
    "print(sorted_grid)"
   ]
  },
  {
   "cell_type": "code",
   "execution_count": 19,
   "metadata": {},
   "outputs": [
    {
     "name": "stdout",
     "output_type": "stream",
     "text": [
      "0.8701401911507386\n"
     ]
    }
   ],
   "source": [
    "perf = cov_gbm.model_performance(valid)\n",
    "print (perf.auc())"
   ]
  },
  {
   "cell_type": "code",
   "execution_count": 20,
   "metadata": {},
   "outputs": [
    {
     "name": "stdout",
     "output_type": "stream",
     "text": [
      "0.9613274556321265\n"
     ]
    }
   ],
   "source": [
    "perf_cv = cov_gbm.model_performance()\n",
    "print (perf_cv.auc())"
   ]
  },
  {
   "cell_type": "code",
   "execution_count": 21,
   "metadata": {},
   "outputs": [
    {
     "name": "stdout",
     "output_type": "stream",
     "text": [
      "0.9202548419979613\n"
     ]
    }
   ],
   "source": [
    "perf_cv = cov_gbm.model_performance(test)\n",
    "print (perf_cv.auc())"
   ]
  },
  {
   "cell_type": "code",
   "execution_count": 22,
   "metadata": {},
   "outputs": [],
   "source": [
    "gbm_params1 = {'learn_rate': [0.01, 0.1],\n",
    "                'max_depth': [3, 5, 9],\n",
    "                'sample_rate': [0.8, 1.0],\n",
    "                'col_sample_rate': [0.2, 0.5, 1.0]}"
   ]
  },
  {
   "cell_type": "code",
   "execution_count": 23,
   "metadata": {},
   "outputs": [],
   "source": [
    "gbm_grid1 = H2OGridSearch(model=H2OGradientBoostingEstimator,\n",
    "                          grid_id='gbm_grid1',\n",
    "                          hyper_params=gbm_params1)"
   ]
  },
  {
   "cell_type": "code",
   "execution_count": 24,
   "metadata": {},
   "outputs": [
    {
     "name": "stdout",
     "output_type": "stream",
     "text": [
      "gbm Grid Build progress: |████████████████████████████████████████████████| 100%\n"
     ]
    }
   ],
   "source": [
    "gbm_grid1.train(x=predictors, y=response,\n",
    "                training_frame=train,\n",
    "                validation_frame=valid,\n",
    "                ntrees=100,\n",
    "                seed=1)"
   ]
  },
  {
   "cell_type": "code",
   "execution_count": 25,
   "metadata": {},
   "outputs": [
    {
     "name": "stdout",
     "output_type": "stream",
     "text": [
      "     col_sample_rate learn_rate max_depth sample_rate           model_ids  \\\n",
      "0                1.0        0.1         9         1.0  gbm_grid1_model_35   \n",
      "1                1.0        0.1         9         0.8  gbm_grid1_model_17   \n",
      "2                1.0        0.1         5         1.0  gbm_grid1_model_29   \n",
      "3                1.0        0.1         5         0.8  gbm_grid1_model_11   \n",
      "4                0.5        0.1         9         1.0  gbm_grid1_model_34   \n",
      "5                0.5        0.1         9         0.8  gbm_grid1_model_16   \n",
      "6                0.5        0.1         5         1.0  gbm_grid1_model_28   \n",
      "7                0.5        0.1         5         0.8  gbm_grid1_model_10   \n",
      "8                0.2        0.1         9         1.0  gbm_grid1_model_33   \n",
      "9                1.0       0.01         9         0.8  gbm_grid1_model_14   \n",
      "10               0.5       0.01         9         0.8  gbm_grid1_model_13   \n",
      "11               0.2        0.1         9         0.8  gbm_grid1_model_15   \n",
      "12               0.5       0.01         9         1.0  gbm_grid1_model_31   \n",
      "13               1.0       0.01         9         1.0  gbm_grid1_model_32   \n",
      "14               1.0        0.1         3         1.0  gbm_grid1_model_23   \n",
      "15               0.2        0.1         5         0.8   gbm_grid1_model_9   \n",
      "16               1.0        0.1         3         0.8   gbm_grid1_model_5   \n",
      "17               0.5        0.1         3         1.0  gbm_grid1_model_22   \n",
      "18               0.2        0.1         5         1.0  gbm_grid1_model_27   \n",
      "19               0.5        0.1         3         0.8   gbm_grid1_model_4   \n",
      "20               0.2       0.01         9         1.0  gbm_grid1_model_30   \n",
      "21               0.2       0.01         9         0.8  gbm_grid1_model_12   \n",
      "22               0.5       0.01         5         1.0  gbm_grid1_model_25   \n",
      "23               1.0       0.01         5         1.0  gbm_grid1_model_26   \n",
      "24               1.0       0.01         5         0.8   gbm_grid1_model_8   \n",
      "25               0.5       0.01         5         0.8   gbm_grid1_model_7   \n",
      "26               0.2        0.1         3         0.8   gbm_grid1_model_3   \n",
      "27               0.2        0.1         3         1.0  gbm_grid1_model_21   \n",
      "28               0.2       0.01         5         0.8   gbm_grid1_model_6   \n",
      "29               1.0       0.01         3         1.0  gbm_grid1_model_20   \n",
      "30               1.0       0.01         3         0.8   gbm_grid1_model_2   \n",
      "31               0.5       0.01         3         0.8   gbm_grid1_model_1   \n",
      "32               0.2       0.01         5         1.0  gbm_grid1_model_24   \n",
      "33               0.2       0.01         3         1.0  gbm_grid1_model_18   \n",
      "34               0.2       0.01         3         0.8   gbm_grid1_model_0   \n",
      "35               0.5       0.01         3         1.0  gbm_grid1_model_19   \n",
      "\n",
      "                   auc  \n",
      "0   0.9546365556616729  \n",
      "1    0.943276959434495  \n",
      "2    0.937593675712981  \n",
      "3    0.935910127085265  \n",
      "4   0.9355615662927771  \n",
      "5    0.928198219551472  \n",
      "6   0.9206693064337351  \n",
      "7   0.9063120873911619  \n",
      "8    0.893389196009676  \n",
      "9   0.8875525455394675  \n",
      "10   0.885593633885686  \n",
      "11  0.8845862931953963  \n",
      "12  0.8814370464352688  \n",
      "13  0.8736379987033539  \n",
      "14  0.8685716675845434  \n",
      "15  0.8658145517159648  \n",
      "16  0.8622139187295657  \n",
      "17  0.8547320613188146  \n",
      "18  0.8542039917181955  \n",
      "19  0.8436094864305284  \n",
      "20  0.8389108869477926  \n",
      "21  0.8313906878498679  \n",
      "22  0.8144488905309976  \n",
      "23  0.8137569973579092  \n",
      "24  0.8119322816092355  \n",
      "25  0.8112177319846354  \n",
      "26  0.8088022056926948  \n",
      "27  0.8073661352276451  \n",
      "28  0.8023259461682712  \n",
      "29  0.7896034772424658  \n",
      "30  0.7884514838232937  \n",
      "31  0.7880332108723082  \n",
      "32   0.787067697477117  \n",
      "33  0.7870589834573047  \n",
      "34  0.7868568181976618  \n",
      "35  0.7861039268858881  \n"
     ]
    },
    {
     "data": {
      "text/plain": []
     },
     "execution_count": 25,
     "metadata": {},
     "output_type": "execute_result"
    }
   ],
   "source": [
    "gbm_gridperf1 = gbm_grid1.get_grid(sort_by='auc', decreasing=True)\n",
    "gbm_gridperf1"
   ]
  },
  {
   "cell_type": "code",
   "execution_count": 26,
   "metadata": {},
   "outputs": [],
   "source": [
    "best_gbm1 = gbm_gridperf1.models[0]"
   ]
  },
  {
   "cell_type": "code",
   "execution_count": 27,
   "metadata": {},
   "outputs": [],
   "source": [
    "best_gbm_perf1 = best_gbm1.model_performance(test)"
   ]
  },
  {
   "cell_type": "code",
   "execution_count": 36,
   "metadata": {},
   "outputs": [
    {
     "data": {
      "text/plain": [
       "0.9716683656133198"
      ]
     },
     "execution_count": 36,
     "metadata": {},
     "output_type": "execute_result"
    }
   ],
   "source": [
    "best_gbm_perf1.auc()"
   ]
  },
  {
   "cell_type": "code",
   "execution_count": 37,
   "metadata": {},
   "outputs": [
    {
     "name": "stdout",
     "output_type": "stream",
     "text": [
      "Confusion Matrix (Act/Pred) for max f1 @ threshold = 0.47241295506438774: \n"
     ]
    },
    {
     "data": {
      "text/html": [
       "<div style=\"overflow:auto\"><table style=\"width:50%\"><tr><td><b></b></td>\n",
       "<td><b>0</b></td>\n",
       "<td><b>1</b></td>\n",
       "<td><b>Error</b></td>\n",
       "<td><b>Rate</b></td></tr>\n",
       "<tr><td>0</td>\n",
       "<td>10175.0</td>\n",
       "<td>1.0</td>\n",
       "<td>0.0001</td>\n",
       "<td> (1.0/10176.0)</td></tr>\n",
       "<tr><td>1</td>\n",
       "<td>1.0</td>\n",
       "<td>653.0</td>\n",
       "<td>0.0015</td>\n",
       "<td> (1.0/654.0)</td></tr>\n",
       "<tr><td>Total</td>\n",
       "<td>10176.0</td>\n",
       "<td>654.0</td>\n",
       "<td>0.0002</td>\n",
       "<td> (2.0/10830.0)</td></tr></table></div>"
      ],
      "text/plain": [
       "       0      1    Error    Rate\n",
       "-----  -----  ---  -------  -------------\n",
       "0      10175  1    0.0001   (1.0/10176.0)\n",
       "1      1      653  0.0015   (1.0/654.0)\n",
       "Total  10176  654  0.0002   (2.0/10830.0)"
      ]
     },
     "metadata": {},
     "output_type": "display_data"
    },
    {
     "data": {
      "text/plain": []
     },
     "execution_count": 37,
     "metadata": {},
     "output_type": "execute_result"
    }
   ],
   "source": [
    "best_gbm1.confusion_matrix()"
   ]
  },
  {
   "cell_type": "code",
   "execution_count": 29,
   "metadata": {},
   "outputs": [],
   "source": [
    "gbm_params2 = {'learn_rate': [0.01, 0.02, 0.03, 0.04, 0.05, 0.06, 0.07, 0.08, 0.09, 0.1],\n",
    "                'max_depth': [2, 3, 4, 5, 6, 7, 8, 9, 10],\n",
    "                'sample_rate': [0.5, 0.6000000000000001, 0.7000000000000001, 0.8, 0.9, 1.0],\n",
    "                'col_sample_rate': [0.1, 0.2, 0.30000000000000004, 0.4, 0.5, 0.6000000000000001, 0.7000000000000001, 0.8, 0.9, 1.0]}"
   ]
  },
  {
   "cell_type": "code",
   "execution_count": 30,
   "metadata": {},
   "outputs": [],
   "source": [
    "# Search criteria\n",
    "search_criteria = {\"strategy\": \"RandomDiscrete\", \"max_models\": 36, \"seed\": 1}"
   ]
  },
  {
   "cell_type": "code",
   "execution_count": 31,
   "metadata": {},
   "outputs": [],
   "source": [
    "gbm_grid2 = H2OGridSearch(model=H2OGradientBoostingEstimator,\n",
    "                          grid_id='gbm_grid2',\n",
    "                          hyper_params=gbm_params2,\n",
    "                          search_criteria=search_criteria)\n"
   ]
  },
  {
   "cell_type": "code",
   "execution_count": 32,
   "metadata": {},
   "outputs": [
    {
     "name": "stdout",
     "output_type": "stream",
     "text": [
      "gbm Grid Build progress: |████████████████████████████████████████████████| 100%\n"
     ]
    }
   ],
   "source": [
    "gbm_grid2.train(x=predictors, y=response,\n",
    "                training_frame=train,\n",
    "                validation_frame=valid,\n",
    "                ntrees=100,\n",
    "                seed=1)"
   ]
  },
  {
   "cell_type": "code",
   "execution_count": 33,
   "metadata": {},
   "outputs": [
    {
     "name": "stdout",
     "output_type": "stream",
     "text": [
      "          col_sample_rate learn_rate max_depth         sample_rate  \\\n",
      "0                     1.0       0.09        10                 0.9   \n",
      "1                     0.9       0.08         6                 0.8   \n",
      "2                     0.5        0.1         8  0.7000000000000001   \n",
      "3                     0.8       0.09        10  0.7000000000000001   \n",
      "4                     0.8       0.05        10  0.6000000000000001   \n",
      "5      0.7000000000000001       0.08         9  0.6000000000000001   \n",
      "6      0.7000000000000001       0.09        10                 0.5   \n",
      "7                     1.0       0.09         5                 0.5   \n",
      "8                     0.9       0.06         6                 0.9   \n",
      "9      0.7000000000000001       0.04         8                 1.0   \n",
      "10    0.30000000000000004        0.1         6  0.7000000000000001   \n",
      "11    0.30000000000000004       0.04        10                 0.9   \n",
      "12                    0.9       0.04         7                 1.0   \n",
      "13                    0.4       0.04         9                 0.5   \n",
      "14    0.30000000000000004       0.08         6                 0.8   \n",
      "15     0.6000000000000001       0.04         7                 0.8   \n",
      "16                    0.4       0.08         5                 0.8   \n",
      "17                    0.2       0.06         7                 0.8   \n",
      "18                    0.4       0.07         5                 0.5   \n",
      "19                    0.2       0.09         6                 1.0   \n",
      "20     0.7000000000000001        0.1         3  0.7000000000000001   \n",
      "21                    0.9       0.04         4                 0.5   \n",
      "22                    0.1        0.1        10                 0.5   \n",
      "23                    0.2       0.03         7                 1.0   \n",
      "24     0.6000000000000001       0.05         4                 0.9   \n",
      "25                    0.1       0.01        10                 0.5   \n",
      "26                    0.4       0.01         6  0.6000000000000001   \n",
      "27                    0.9       0.06         3                 0.8   \n",
      "28                    0.2       0.06         4                 0.9   \n",
      "29                    0.2        0.1         3                 0.8   \n",
      "30                    0.1       0.01         6  0.6000000000000001   \n",
      "31                    0.1       0.02         6                 0.5   \n",
      "32     0.7000000000000001       0.08         2                 0.5   \n",
      "33                    1.0       0.07         2  0.6000000000000001   \n",
      "34    0.30000000000000004       0.06         2  0.7000000000000001   \n",
      "35                    0.1       0.09         3                 0.9   \n",
      "\n",
      "             model_ids                 auc  \n",
      "0   gbm_grid2_model_27  0.9456733148828487  \n",
      "1   gbm_grid2_model_10  0.9383622522604168  \n",
      "2   gbm_grid2_model_19  0.9350195542604586  \n",
      "3   gbm_grid2_model_25  0.9346535654283463  \n",
      "4    gbm_grid2_model_3  0.9335172572448361  \n",
      "5   gbm_grid2_model_26  0.9331826388840478  \n",
      "6   gbm_grid2_model_35   0.927638779479529  \n",
      "7   gbm_grid2_model_23  0.9216261058091142  \n",
      "8    gbm_grid2_model_6  0.9187173659958033  \n",
      "9   gbm_grid2_model_33  0.9055992805705243  \n",
      "10  gbm_grid2_model_11  0.9029415045278048  \n",
      "11   gbm_grid2_model_1    0.89292038174378  \n",
      "12  gbm_grid2_model_34  0.8915365953976033  \n",
      "13  gbm_grid2_model_18  0.8857731426938172  \n",
      "14  gbm_grid2_model_15  0.8853932114300055  \n",
      "15  gbm_grid2_model_32  0.8838107454321108  \n",
      "16   gbm_grid2_model_2  0.8834412709920737  \n",
      "17  gbm_grid2_model_30  0.8719980201746987  \n",
      "18   gbm_grid2_model_5  0.8688104317273976  \n",
      "19  gbm_grid2_model_21  0.8679407725501405  \n",
      "20  gbm_grid2_model_17  0.8590193590664148  \n",
      "21  gbm_grid2_model_12  0.8452982634701318  \n",
      "22   gbm_grid2_model_8  0.8422849554190747  \n",
      "23  gbm_grid2_model_28  0.8391862499738579  \n",
      "24  gbm_grid2_model_29  0.8291581559739833  \n",
      "25   gbm_grid2_model_9  0.8222880227540484  \n",
      "26   gbm_grid2_model_0  0.8215264174224626  \n",
      "27  gbm_grid2_model_16  0.8112125035727481  \n",
      "28  gbm_grid2_model_13  0.8097520338522242  \n",
      "29  gbm_grid2_model_24  0.8088022056926948  \n",
      "30  gbm_grid2_model_22  0.8081625966384798  \n",
      "31  gbm_grid2_model_31  0.8072824806374479  \n",
      "32  gbm_grid2_model_14  0.8022091783027878  \n",
      "33   gbm_grid2_model_4  0.7996054291829038  \n",
      "34   gbm_grid2_model_7  0.7927806088659923  \n",
      "35  gbm_grid2_model_20  0.7917279552726791  \n"
     ]
    },
    {
     "data": {
      "text/plain": []
     },
     "execution_count": 33,
     "metadata": {},
     "output_type": "execute_result"
    }
   ],
   "source": [
    "gbm_gridperf2 = gbm_grid2.get_grid(sort_by='auc', decreasing=True)\n",
    "gbm_gridperf2"
   ]
  },
  {
   "cell_type": "code",
   "execution_count": 34,
   "metadata": {},
   "outputs": [
    {
     "data": {
      "text/plain": [
       "0.9694104655113829"
      ]
     },
     "execution_count": 34,
     "metadata": {},
     "output_type": "execute_result"
    }
   ],
   "source": [
    "best_gbm2 = gbm_gridperf2.models[0]\n",
    "\n",
    "# Now let's evaluate the model performance on a test set\n",
    "# so we get an honest estimate of top model performance\n",
    "best_gbm_perf2 = best_gbm2.model_performance(test)\n",
    "\n",
    "best_gbm_perf2.auc() "
   ]
  },
  {
   "cell_type": "code",
   "execution_count": 35,
   "metadata": {},
   "outputs": [
    {
     "name": "stdout",
     "output_type": "stream",
     "text": [
      "Confusion Matrix (Act/Pred) for max f1 @ threshold = 0.6065731488283959: \n"
     ]
    },
    {
     "data": {
      "text/html": [
       "<div style=\"overflow:auto\"><table style=\"width:50%\"><tr><td><b></b></td>\n",
       "<td><b>0</b></td>\n",
       "<td><b>1</b></td>\n",
       "<td><b>Error</b></td>\n",
       "<td><b>Rate</b></td></tr>\n",
       "<tr><td>0</td>\n",
       "<td>10176.0</td>\n",
       "<td>0.0</td>\n",
       "<td>0.0</td>\n",
       "<td> (0.0/10176.0)</td></tr>\n",
       "<tr><td>1</td>\n",
       "<td>0.0</td>\n",
       "<td>654.0</td>\n",
       "<td>0.0</td>\n",
       "<td> (0.0/654.0)</td></tr>\n",
       "<tr><td>Total</td>\n",
       "<td>10176.0</td>\n",
       "<td>654.0</td>\n",
       "<td>0.0</td>\n",
       "<td> (0.0/10830.0)</td></tr></table></div>"
      ],
      "text/plain": [
       "       0      1    Error    Rate\n",
       "-----  -----  ---  -------  -------------\n",
       "0      10176  0    0        (0.0/10176.0)\n",
       "1      0      654  0        (0.0/654.0)\n",
       "Total  10176  654  0        (0.0/10830.0)"
      ]
     },
     "metadata": {},
     "output_type": "display_data"
    },
    {
     "data": {
      "text/plain": []
     },
     "execution_count": 35,
     "metadata": {},
     "output_type": "execute_result"
    }
   ],
   "source": [
    "best_gbm2.confusion_matrix()"
   ]
  }
 ],
 "metadata": {
  "kernelspec": {
   "display_name": "Python 3",
   "language": "python",
   "name": "python3"
  },
  "language_info": {
   "codemirror_mode": {
    "name": "ipython",
    "version": 3
   },
   "file_extension": ".py",
   "mimetype": "text/x-python",
   "name": "python",
   "nbconvert_exporter": "python",
   "pygments_lexer": "ipython3",
   "version": "3.6.5"
  }
 },
 "nbformat": 4,
 "nbformat_minor": 2
}
